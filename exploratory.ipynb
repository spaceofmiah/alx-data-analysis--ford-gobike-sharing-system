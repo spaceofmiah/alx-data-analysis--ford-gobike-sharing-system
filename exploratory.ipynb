{
 "cells": [
  {
   "cell_type": "markdown",
   "id": "2502fcaf-2425-47bf-85c5-0a07ace3f990",
   "metadata": {},
   "source": [
    "# Ford GoBike System Data\n",
    "\n",
    "_This data set includes information about individual rides made in a bike-sharing system covering the greater San Francisco Bay area_"
   ]
  },
  {
   "cell_type": "code",
   "execution_count": 1,
   "id": "ff9948d4-7dbe-4713-bdf4-184bb844487d",
   "metadata": {},
   "outputs": [],
   "source": [
    "import pandas as pd\n",
    "import numpy as np\n",
    "import seaborn as sb\n",
    "import matplotlib.pyplot as plt\n",
    "\n",
    "%matplotlib inline"
   ]
  },
  {
   "cell_type": "code",
   "execution_count": 2,
   "id": "7dbde7f2-5199-481a-a422-3dbdd57121df",
   "metadata": {},
   "outputs": [],
   "source": [
    "# load dataset\n",
    "df = pd.read_csv(\"dataset.csv\")"
   ]
  },
  {
   "cell_type": "markdown",
   "id": "bfd8abb7-c89a-48cd-bf48-818eac19d30e",
   "metadata": {},
   "source": [
    "## Quick Tour"
   ]
  },
  {
   "cell_type": "code",
   "execution_count": 3,
   "id": "54125042-522f-411d-ada6-84a94e35780b",
   "metadata": {},
   "outputs": [
    {
     "data": {
      "text/html": [
       "<div>\n",
       "<style scoped>\n",
       "    .dataframe tbody tr th:only-of-type {\n",
       "        vertical-align: middle;\n",
       "    }\n",
       "\n",
       "    .dataframe tbody tr th {\n",
       "        vertical-align: top;\n",
       "    }\n",
       "\n",
       "    .dataframe thead th {\n",
       "        text-align: right;\n",
       "    }\n",
       "</style>\n",
       "<table border=\"1\" class=\"dataframe\">\n",
       "  <thead>\n",
       "    <tr style=\"text-align: right;\">\n",
       "      <th></th>\n",
       "      <th>duration_sec</th>\n",
       "      <th>start_time</th>\n",
       "      <th>end_time</th>\n",
       "      <th>start_station_id</th>\n",
       "      <th>start_station_name</th>\n",
       "      <th>start_station_latitude</th>\n",
       "      <th>start_station_longitude</th>\n",
       "      <th>end_station_id</th>\n",
       "      <th>end_station_name</th>\n",
       "      <th>end_station_latitude</th>\n",
       "      <th>end_station_longitude</th>\n",
       "      <th>bike_id</th>\n",
       "      <th>user_type</th>\n",
       "      <th>member_birth_year</th>\n",
       "      <th>member_gender</th>\n",
       "      <th>bike_share_for_all_trip</th>\n",
       "    </tr>\n",
       "  </thead>\n",
       "  <tbody>\n",
       "    <tr>\n",
       "      <th>0</th>\n",
       "      <td>52185</td>\n",
       "      <td>2019-02-28 17:32:10.1450</td>\n",
       "      <td>2019-03-01 08:01:55.9750</td>\n",
       "      <td>21.0</td>\n",
       "      <td>Montgomery St BART Station (Market St at 2nd St)</td>\n",
       "      <td>37.789625</td>\n",
       "      <td>-122.400811</td>\n",
       "      <td>13.0</td>\n",
       "      <td>Commercial St at Montgomery St</td>\n",
       "      <td>37.794231</td>\n",
       "      <td>-122.402923</td>\n",
       "      <td>4902</td>\n",
       "      <td>Customer</td>\n",
       "      <td>1984.0</td>\n",
       "      <td>Male</td>\n",
       "      <td>No</td>\n",
       "    </tr>\n",
       "    <tr>\n",
       "      <th>1</th>\n",
       "      <td>42521</td>\n",
       "      <td>2019-02-28 18:53:21.7890</td>\n",
       "      <td>2019-03-01 06:42:03.0560</td>\n",
       "      <td>23.0</td>\n",
       "      <td>The Embarcadero at Steuart St</td>\n",
       "      <td>37.791464</td>\n",
       "      <td>-122.391034</td>\n",
       "      <td>81.0</td>\n",
       "      <td>Berry St at 4th St</td>\n",
       "      <td>37.775880</td>\n",
       "      <td>-122.393170</td>\n",
       "      <td>2535</td>\n",
       "      <td>Customer</td>\n",
       "      <td>NaN</td>\n",
       "      <td>NaN</td>\n",
       "      <td>No</td>\n",
       "    </tr>\n",
       "    <tr>\n",
       "      <th>2</th>\n",
       "      <td>61854</td>\n",
       "      <td>2019-02-28 12:13:13.2180</td>\n",
       "      <td>2019-03-01 05:24:08.1460</td>\n",
       "      <td>86.0</td>\n",
       "      <td>Market St at Dolores St</td>\n",
       "      <td>37.769305</td>\n",
       "      <td>-122.426826</td>\n",
       "      <td>3.0</td>\n",
       "      <td>Powell St BART Station (Market St at 4th St)</td>\n",
       "      <td>37.786375</td>\n",
       "      <td>-122.404904</td>\n",
       "      <td>5905</td>\n",
       "      <td>Customer</td>\n",
       "      <td>1972.0</td>\n",
       "      <td>Male</td>\n",
       "      <td>No</td>\n",
       "    </tr>\n",
       "    <tr>\n",
       "      <th>3</th>\n",
       "      <td>36490</td>\n",
       "      <td>2019-02-28 17:54:26.0100</td>\n",
       "      <td>2019-03-01 04:02:36.8420</td>\n",
       "      <td>375.0</td>\n",
       "      <td>Grove St at Masonic Ave</td>\n",
       "      <td>37.774836</td>\n",
       "      <td>-122.446546</td>\n",
       "      <td>70.0</td>\n",
       "      <td>Central Ave at Fell St</td>\n",
       "      <td>37.773311</td>\n",
       "      <td>-122.444293</td>\n",
       "      <td>6638</td>\n",
       "      <td>Subscriber</td>\n",
       "      <td>1989.0</td>\n",
       "      <td>Other</td>\n",
       "      <td>No</td>\n",
       "    </tr>\n",
       "    <tr>\n",
       "      <th>4</th>\n",
       "      <td>1585</td>\n",
       "      <td>2019-02-28 23:54:18.5490</td>\n",
       "      <td>2019-03-01 00:20:44.0740</td>\n",
       "      <td>7.0</td>\n",
       "      <td>Frank H Ogawa Plaza</td>\n",
       "      <td>37.804562</td>\n",
       "      <td>-122.271738</td>\n",
       "      <td>222.0</td>\n",
       "      <td>10th Ave at E 15th St</td>\n",
       "      <td>37.792714</td>\n",
       "      <td>-122.248780</td>\n",
       "      <td>4898</td>\n",
       "      <td>Subscriber</td>\n",
       "      <td>1974.0</td>\n",
       "      <td>Male</td>\n",
       "      <td>Yes</td>\n",
       "    </tr>\n",
       "  </tbody>\n",
       "</table>\n",
       "</div>"
      ],
      "text/plain": [
       "   duration_sec                start_time                  end_time  \\\n",
       "0         52185  2019-02-28 17:32:10.1450  2019-03-01 08:01:55.9750   \n",
       "1         42521  2019-02-28 18:53:21.7890  2019-03-01 06:42:03.0560   \n",
       "2         61854  2019-02-28 12:13:13.2180  2019-03-01 05:24:08.1460   \n",
       "3         36490  2019-02-28 17:54:26.0100  2019-03-01 04:02:36.8420   \n",
       "4          1585  2019-02-28 23:54:18.5490  2019-03-01 00:20:44.0740   \n",
       "\n",
       "   start_station_id                                start_station_name  \\\n",
       "0              21.0  Montgomery St BART Station (Market St at 2nd St)   \n",
       "1              23.0                     The Embarcadero at Steuart St   \n",
       "2              86.0                           Market St at Dolores St   \n",
       "3             375.0                           Grove St at Masonic Ave   \n",
       "4               7.0                               Frank H Ogawa Plaza   \n",
       "\n",
       "   start_station_latitude  start_station_longitude  end_station_id  \\\n",
       "0               37.789625              -122.400811            13.0   \n",
       "1               37.791464              -122.391034            81.0   \n",
       "2               37.769305              -122.426826             3.0   \n",
       "3               37.774836              -122.446546            70.0   \n",
       "4               37.804562              -122.271738           222.0   \n",
       "\n",
       "                               end_station_name  end_station_latitude  \\\n",
       "0                Commercial St at Montgomery St             37.794231   \n",
       "1                            Berry St at 4th St             37.775880   \n",
       "2  Powell St BART Station (Market St at 4th St)             37.786375   \n",
       "3                        Central Ave at Fell St             37.773311   \n",
       "4                         10th Ave at E 15th St             37.792714   \n",
       "\n",
       "   end_station_longitude  bike_id   user_type  member_birth_year  \\\n",
       "0            -122.402923     4902    Customer             1984.0   \n",
       "1            -122.393170     2535    Customer                NaN   \n",
       "2            -122.404904     5905    Customer             1972.0   \n",
       "3            -122.444293     6638  Subscriber             1989.0   \n",
       "4            -122.248780     4898  Subscriber             1974.0   \n",
       "\n",
       "  member_gender bike_share_for_all_trip  \n",
       "0          Male                      No  \n",
       "1           NaN                      No  \n",
       "2          Male                      No  \n",
       "3         Other                      No  \n",
       "4          Male                     Yes  "
      ]
     },
     "execution_count": 3,
     "metadata": {},
     "output_type": "execute_result"
    }
   ],
   "source": [
    "# view first 5 entries\n",
    "df.head()"
   ]
  },
  {
   "cell_type": "code",
   "execution_count": 4,
   "id": "b6fdc964-fc50-4be5-bbb6-1061358bad86",
   "metadata": {},
   "outputs": [
    {
     "data": {
      "text/html": [
       "<div>\n",
       "<style scoped>\n",
       "    .dataframe tbody tr th:only-of-type {\n",
       "        vertical-align: middle;\n",
       "    }\n",
       "\n",
       "    .dataframe tbody tr th {\n",
       "        vertical-align: top;\n",
       "    }\n",
       "\n",
       "    .dataframe thead th {\n",
       "        text-align: right;\n",
       "    }\n",
       "</style>\n",
       "<table border=\"1\" class=\"dataframe\">\n",
       "  <thead>\n",
       "    <tr style=\"text-align: right;\">\n",
       "      <th></th>\n",
       "      <th>duration_sec</th>\n",
       "      <th>start_time</th>\n",
       "      <th>end_time</th>\n",
       "      <th>start_station_id</th>\n",
       "      <th>start_station_name</th>\n",
       "      <th>start_station_latitude</th>\n",
       "      <th>start_station_longitude</th>\n",
       "      <th>end_station_id</th>\n",
       "      <th>end_station_name</th>\n",
       "      <th>end_station_latitude</th>\n",
       "      <th>end_station_longitude</th>\n",
       "      <th>bike_id</th>\n",
       "      <th>user_type</th>\n",
       "      <th>member_birth_year</th>\n",
       "      <th>member_gender</th>\n",
       "      <th>bike_share_for_all_trip</th>\n",
       "    </tr>\n",
       "  </thead>\n",
       "  <tbody>\n",
       "    <tr>\n",
       "      <th>183407</th>\n",
       "      <td>480</td>\n",
       "      <td>2019-02-01 00:04:49.7240</td>\n",
       "      <td>2019-02-01 00:12:50.0340</td>\n",
       "      <td>27.0</td>\n",
       "      <td>Beale St at Harrison St</td>\n",
       "      <td>37.788059</td>\n",
       "      <td>-122.391865</td>\n",
       "      <td>324.0</td>\n",
       "      <td>Union Square (Powell St at Post St)</td>\n",
       "      <td>37.788300</td>\n",
       "      <td>-122.408531</td>\n",
       "      <td>4832</td>\n",
       "      <td>Subscriber</td>\n",
       "      <td>1996.0</td>\n",
       "      <td>Male</td>\n",
       "      <td>No</td>\n",
       "    </tr>\n",
       "    <tr>\n",
       "      <th>183408</th>\n",
       "      <td>313</td>\n",
       "      <td>2019-02-01 00:05:34.7440</td>\n",
       "      <td>2019-02-01 00:10:48.5020</td>\n",
       "      <td>21.0</td>\n",
       "      <td>Montgomery St BART Station (Market St at 2nd St)</td>\n",
       "      <td>37.789625</td>\n",
       "      <td>-122.400811</td>\n",
       "      <td>66.0</td>\n",
       "      <td>3rd St at Townsend St</td>\n",
       "      <td>37.778742</td>\n",
       "      <td>-122.392741</td>\n",
       "      <td>4960</td>\n",
       "      <td>Subscriber</td>\n",
       "      <td>1984.0</td>\n",
       "      <td>Male</td>\n",
       "      <td>No</td>\n",
       "    </tr>\n",
       "    <tr>\n",
       "      <th>183409</th>\n",
       "      <td>141</td>\n",
       "      <td>2019-02-01 00:06:05.5490</td>\n",
       "      <td>2019-02-01 00:08:27.2200</td>\n",
       "      <td>278.0</td>\n",
       "      <td>The Alameda at Bush St</td>\n",
       "      <td>37.331932</td>\n",
       "      <td>-121.904888</td>\n",
       "      <td>277.0</td>\n",
       "      <td>Morrison Ave at Julian St</td>\n",
       "      <td>37.333658</td>\n",
       "      <td>-121.908586</td>\n",
       "      <td>3824</td>\n",
       "      <td>Subscriber</td>\n",
       "      <td>1990.0</td>\n",
       "      <td>Male</td>\n",
       "      <td>Yes</td>\n",
       "    </tr>\n",
       "    <tr>\n",
       "      <th>183410</th>\n",
       "      <td>139</td>\n",
       "      <td>2019-02-01 00:05:34.3600</td>\n",
       "      <td>2019-02-01 00:07:54.2870</td>\n",
       "      <td>220.0</td>\n",
       "      <td>San Pablo Ave at MLK Jr Way</td>\n",
       "      <td>37.811351</td>\n",
       "      <td>-122.273422</td>\n",
       "      <td>216.0</td>\n",
       "      <td>San Pablo Ave at 27th St</td>\n",
       "      <td>37.817827</td>\n",
       "      <td>-122.275698</td>\n",
       "      <td>5095</td>\n",
       "      <td>Subscriber</td>\n",
       "      <td>1988.0</td>\n",
       "      <td>Male</td>\n",
       "      <td>No</td>\n",
       "    </tr>\n",
       "    <tr>\n",
       "      <th>183411</th>\n",
       "      <td>271</td>\n",
       "      <td>2019-02-01 00:00:20.6360</td>\n",
       "      <td>2019-02-01 00:04:52.0580</td>\n",
       "      <td>24.0</td>\n",
       "      <td>Spear St at Folsom St</td>\n",
       "      <td>37.789677</td>\n",
       "      <td>-122.390428</td>\n",
       "      <td>37.0</td>\n",
       "      <td>2nd St at Folsom St</td>\n",
       "      <td>37.785000</td>\n",
       "      <td>-122.395936</td>\n",
       "      <td>1057</td>\n",
       "      <td>Subscriber</td>\n",
       "      <td>1989.0</td>\n",
       "      <td>Male</td>\n",
       "      <td>No</td>\n",
       "    </tr>\n",
       "  </tbody>\n",
       "</table>\n",
       "</div>"
      ],
      "text/plain": [
       "        duration_sec                start_time                  end_time  \\\n",
       "183407           480  2019-02-01 00:04:49.7240  2019-02-01 00:12:50.0340   \n",
       "183408           313  2019-02-01 00:05:34.7440  2019-02-01 00:10:48.5020   \n",
       "183409           141  2019-02-01 00:06:05.5490  2019-02-01 00:08:27.2200   \n",
       "183410           139  2019-02-01 00:05:34.3600  2019-02-01 00:07:54.2870   \n",
       "183411           271  2019-02-01 00:00:20.6360  2019-02-01 00:04:52.0580   \n",
       "\n",
       "        start_station_id                                start_station_name  \\\n",
       "183407              27.0                           Beale St at Harrison St   \n",
       "183408              21.0  Montgomery St BART Station (Market St at 2nd St)   \n",
       "183409             278.0                            The Alameda at Bush St   \n",
       "183410             220.0                       San Pablo Ave at MLK Jr Way   \n",
       "183411              24.0                             Spear St at Folsom St   \n",
       "\n",
       "        start_station_latitude  start_station_longitude  end_station_id  \\\n",
       "183407               37.788059              -122.391865           324.0   \n",
       "183408               37.789625              -122.400811            66.0   \n",
       "183409               37.331932              -121.904888           277.0   \n",
       "183410               37.811351              -122.273422           216.0   \n",
       "183411               37.789677              -122.390428            37.0   \n",
       "\n",
       "                           end_station_name  end_station_latitude  \\\n",
       "183407  Union Square (Powell St at Post St)             37.788300   \n",
       "183408                3rd St at Townsend St             37.778742   \n",
       "183409            Morrison Ave at Julian St             37.333658   \n",
       "183410             San Pablo Ave at 27th St             37.817827   \n",
       "183411                  2nd St at Folsom St             37.785000   \n",
       "\n",
       "        end_station_longitude  bike_id   user_type  member_birth_year  \\\n",
       "183407            -122.408531     4832  Subscriber             1996.0   \n",
       "183408            -122.392741     4960  Subscriber             1984.0   \n",
       "183409            -121.908586     3824  Subscriber             1990.0   \n",
       "183410            -122.275698     5095  Subscriber             1988.0   \n",
       "183411            -122.395936     1057  Subscriber             1989.0   \n",
       "\n",
       "       member_gender bike_share_for_all_trip  \n",
       "183407          Male                      No  \n",
       "183408          Male                      No  \n",
       "183409          Male                     Yes  \n",
       "183410          Male                      No  \n",
       "183411          Male                      No  "
      ]
     },
     "execution_count": 4,
     "metadata": {},
     "output_type": "execute_result"
    }
   ],
   "source": [
    "# view last 5 entries\n",
    "df.tail()"
   ]
  },
  {
   "cell_type": "code",
   "execution_count": 5,
   "id": "ec4a1be8-3700-4b1b-bf77-16ac98c525d2",
   "metadata": {},
   "outputs": [
    {
     "data": {
      "text/html": [
       "<div>\n",
       "<style scoped>\n",
       "    .dataframe tbody tr th:only-of-type {\n",
       "        vertical-align: middle;\n",
       "    }\n",
       "\n",
       "    .dataframe tbody tr th {\n",
       "        vertical-align: top;\n",
       "    }\n",
       "\n",
       "    .dataframe thead th {\n",
       "        text-align: right;\n",
       "    }\n",
       "</style>\n",
       "<table border=\"1\" class=\"dataframe\">\n",
       "  <thead>\n",
       "    <tr style=\"text-align: right;\">\n",
       "      <th></th>\n",
       "      <th>duration_sec</th>\n",
       "      <th>start_time</th>\n",
       "      <th>end_time</th>\n",
       "      <th>start_station_id</th>\n",
       "      <th>start_station_name</th>\n",
       "      <th>start_station_latitude</th>\n",
       "      <th>start_station_longitude</th>\n",
       "      <th>end_station_id</th>\n",
       "      <th>end_station_name</th>\n",
       "      <th>end_station_latitude</th>\n",
       "      <th>end_station_longitude</th>\n",
       "      <th>bike_id</th>\n",
       "      <th>user_type</th>\n",
       "      <th>member_birth_year</th>\n",
       "      <th>member_gender</th>\n",
       "      <th>bike_share_for_all_trip</th>\n",
       "    </tr>\n",
       "  </thead>\n",
       "  <tbody>\n",
       "    <tr>\n",
       "      <th>50089</th>\n",
       "      <td>914</td>\n",
       "      <td>2019-02-21 19:41:50.0300</td>\n",
       "      <td>2019-02-21 19:57:04.3500</td>\n",
       "      <td>50.0</td>\n",
       "      <td>2nd St at Townsend St</td>\n",
       "      <td>37.780526</td>\n",
       "      <td>-122.390288</td>\n",
       "      <td>356.0</td>\n",
       "      <td>Valencia St at Clinton Park</td>\n",
       "      <td>37.769188</td>\n",
       "      <td>-122.422285</td>\n",
       "      <td>6420</td>\n",
       "      <td>Subscriber</td>\n",
       "      <td>1983.0</td>\n",
       "      <td>Male</td>\n",
       "      <td>No</td>\n",
       "    </tr>\n",
       "    <tr>\n",
       "      <th>152125</th>\n",
       "      <td>1266</td>\n",
       "      <td>2019-02-06 16:12:25.1320</td>\n",
       "      <td>2019-02-06 16:33:31.2790</td>\n",
       "      <td>182.0</td>\n",
       "      <td>19th Street BART Station</td>\n",
       "      <td>37.809013</td>\n",
       "      <td>-122.268247</td>\n",
       "      <td>155.0</td>\n",
       "      <td>Emeryville Public Market</td>\n",
       "      <td>37.840521</td>\n",
       "      <td>-122.293528</td>\n",
       "      <td>2371</td>\n",
       "      <td>Subscriber</td>\n",
       "      <td>1993.0</td>\n",
       "      <td>Male</td>\n",
       "      <td>No</td>\n",
       "    </tr>\n",
       "    <tr>\n",
       "      <th>114357</th>\n",
       "      <td>662</td>\n",
       "      <td>2019-02-12 09:35:58.6370</td>\n",
       "      <td>2019-02-12 09:47:00.6510</td>\n",
       "      <td>238.0</td>\n",
       "      <td>MLK Jr Way at University Ave</td>\n",
       "      <td>37.871719</td>\n",
       "      <td>-122.273068</td>\n",
       "      <td>257.0</td>\n",
       "      <td>Fifth St at Delaware St</td>\n",
       "      <td>37.870407</td>\n",
       "      <td>-122.299676</td>\n",
       "      <td>358</td>\n",
       "      <td>Subscriber</td>\n",
       "      <td>1997.0</td>\n",
       "      <td>Female</td>\n",
       "      <td>No</td>\n",
       "    </tr>\n",
       "    <tr>\n",
       "      <th>18802</th>\n",
       "      <td>678</td>\n",
       "      <td>2019-02-26 17:53:26.3820</td>\n",
       "      <td>2019-02-26 18:04:44.4020</td>\n",
       "      <td>73.0</td>\n",
       "      <td>Pierce St at Haight St</td>\n",
       "      <td>37.771793</td>\n",
       "      <td>-122.433708</td>\n",
       "      <td>44.0</td>\n",
       "      <td>Civic Center/UN Plaza BART Station (Market St ...</td>\n",
       "      <td>37.781074</td>\n",
       "      <td>-122.411738</td>\n",
       "      <td>5059</td>\n",
       "      <td>Subscriber</td>\n",
       "      <td>1995.0</td>\n",
       "      <td>Male</td>\n",
       "      <td>No</td>\n",
       "    </tr>\n",
       "    <tr>\n",
       "      <th>131912</th>\n",
       "      <td>154</td>\n",
       "      <td>2019-02-09 10:30:38.8660</td>\n",
       "      <td>2019-02-09 10:33:13.3540</td>\n",
       "      <td>351.0</td>\n",
       "      <td>10th St at University Ave</td>\n",
       "      <td>37.869060</td>\n",
       "      <td>-122.293400</td>\n",
       "      <td>257.0</td>\n",
       "      <td>Fifth St at Delaware St</td>\n",
       "      <td>37.870407</td>\n",
       "      <td>-122.299676</td>\n",
       "      <td>4501</td>\n",
       "      <td>Subscriber</td>\n",
       "      <td>1978.0</td>\n",
       "      <td>Male</td>\n",
       "      <td>No</td>\n",
       "    </tr>\n",
       "  </tbody>\n",
       "</table>\n",
       "</div>"
      ],
      "text/plain": [
       "        duration_sec                start_time                  end_time  \\\n",
       "50089            914  2019-02-21 19:41:50.0300  2019-02-21 19:57:04.3500   \n",
       "152125          1266  2019-02-06 16:12:25.1320  2019-02-06 16:33:31.2790   \n",
       "114357           662  2019-02-12 09:35:58.6370  2019-02-12 09:47:00.6510   \n",
       "18802            678  2019-02-26 17:53:26.3820  2019-02-26 18:04:44.4020   \n",
       "131912           154  2019-02-09 10:30:38.8660  2019-02-09 10:33:13.3540   \n",
       "\n",
       "        start_station_id            start_station_name  \\\n",
       "50089               50.0         2nd St at Townsend St   \n",
       "152125             182.0      19th Street BART Station   \n",
       "114357             238.0  MLK Jr Way at University Ave   \n",
       "18802               73.0        Pierce St at Haight St   \n",
       "131912             351.0     10th St at University Ave   \n",
       "\n",
       "        start_station_latitude  start_station_longitude  end_station_id  \\\n",
       "50089                37.780526              -122.390288           356.0   \n",
       "152125               37.809013              -122.268247           155.0   \n",
       "114357               37.871719              -122.273068           257.0   \n",
       "18802                37.771793              -122.433708            44.0   \n",
       "131912               37.869060              -122.293400           257.0   \n",
       "\n",
       "                                         end_station_name  \\\n",
       "50089                         Valencia St at Clinton Park   \n",
       "152125                           Emeryville Public Market   \n",
       "114357                            Fifth St at Delaware St   \n",
       "18802   Civic Center/UN Plaza BART Station (Market St ...   \n",
       "131912                            Fifth St at Delaware St   \n",
       "\n",
       "        end_station_latitude  end_station_longitude  bike_id   user_type  \\\n",
       "50089              37.769188            -122.422285     6420  Subscriber   \n",
       "152125             37.840521            -122.293528     2371  Subscriber   \n",
       "114357             37.870407            -122.299676      358  Subscriber   \n",
       "18802              37.781074            -122.411738     5059  Subscriber   \n",
       "131912             37.870407            -122.299676     4501  Subscriber   \n",
       "\n",
       "        member_birth_year member_gender bike_share_for_all_trip  \n",
       "50089              1983.0          Male                      No  \n",
       "152125             1993.0          Male                      No  \n",
       "114357             1997.0        Female                      No  \n",
       "18802              1995.0          Male                      No  \n",
       "131912             1978.0          Male                      No  "
      ]
     },
     "execution_count": 5,
     "metadata": {},
     "output_type": "execute_result"
    }
   ],
   "source": [
    "# view some random samples\n",
    "df.sample(5)"
   ]
  },
  {
   "cell_type": "code",
   "execution_count": 6,
   "id": "a5c315fd-be7e-45c2-815e-c76d92dea95f",
   "metadata": {},
   "outputs": [
    {
     "data": {
      "text/plain": [
       "(183412, 16)"
      ]
     },
     "execution_count": 6,
     "metadata": {},
     "output_type": "execute_result"
    }
   ],
   "source": [
    "# check the shape of the dataset ( understanding the number of observations and variables )\n",
    "df.shape"
   ]
  },
  {
   "cell_type": "code",
   "execution_count": 7,
   "id": "8ceaddf3-92dd-4f4b-908c-569d3fafe84a",
   "metadata": {},
   "outputs": [
    {
     "data": {
      "text/plain": [
       "duration_sec                 int64\n",
       "start_time                  object\n",
       "end_time                    object\n",
       "start_station_id           float64\n",
       "start_station_name          object\n",
       "start_station_latitude     float64\n",
       "start_station_longitude    float64\n",
       "end_station_id             float64\n",
       "end_station_name            object\n",
       "end_station_latitude       float64\n",
       "end_station_longitude      float64\n",
       "bike_id                      int64\n",
       "user_type                   object\n",
       "member_birth_year          float64\n",
       "member_gender               object\n",
       "bike_share_for_all_trip     object\n",
       "dtype: object"
      ]
     },
     "execution_count": 7,
     "metadata": {},
     "output_type": "execute_result"
    }
   ],
   "source": [
    "# check the data types of the dataset\n",
    "df.dtypes"
   ]
  },
  {
   "cell_type": "code",
   "execution_count": 8,
   "id": "11a2b587-cb16-4cfa-8930-778bc58b2ac5",
   "metadata": {},
   "outputs": [
    {
     "name": "stdout",
     "output_type": "stream",
     "text": [
      "2\n"
     ]
    },
    {
     "data": {
      "text/plain": [
       "array(['Customer', 'Subscriber'], dtype=object)"
      ]
     },
     "execution_count": 8,
     "metadata": {},
     "output_type": "execute_result"
    }
   ],
   "source": [
    "# check the number of unique values in user_type variable\n",
    "print(df.user_type.nunique())\n",
    "df.user_type.unique()"
   ]
  },
  {
   "cell_type": "code",
   "execution_count": 9,
   "id": "05e8d455-e36f-4d98-8d0f-1c766f972422",
   "metadata": {},
   "outputs": [
    {
     "name": "stdout",
     "output_type": "stream",
     "text": [
      "3\n"
     ]
    },
    {
     "data": {
      "text/plain": [
       "array(['Male', nan, 'Other', 'Female'], dtype=object)"
      ]
     },
     "execution_count": 9,
     "metadata": {},
     "output_type": "execute_result"
    }
   ],
   "source": [
    "# check the member genders recorded for the dataset\n",
    "print(df.member_gender.nunique())\n",
    "df.member_gender.unique()"
   ]
  },
  {
   "cell_type": "code",
   "execution_count": 10,
   "id": "e5a6464e-fdb8-47ef-bf4d-aec9b24541ac",
   "metadata": {},
   "outputs": [
    {
     "data": {
      "text/plain": [
       "duration_sec                  0\n",
       "start_time                    0\n",
       "end_time                      0\n",
       "start_station_id            197\n",
       "start_station_name          197\n",
       "start_station_latitude        0\n",
       "start_station_longitude       0\n",
       "end_station_id              197\n",
       "end_station_name            197\n",
       "end_station_latitude          0\n",
       "end_station_longitude         0\n",
       "bike_id                       0\n",
       "user_type                     0\n",
       "member_birth_year          8265\n",
       "member_gender              8265\n",
       "bike_share_for_all_trip       0\n",
       "dtype: int64"
      ]
     },
     "execution_count": 10,
     "metadata": {},
     "output_type": "execute_result"
    }
   ],
   "source": [
    "# check for missing values\n",
    "df.isna().sum()"
   ]
  },
  {
   "cell_type": "code",
   "execution_count": 11,
   "id": "09e76e56-d765-402a-b45f-0a84a578c472",
   "metadata": {},
   "outputs": [
    {
     "name": "stdout",
     "output_type": "stream",
     "text": [
      "<class 'pandas.core.frame.DataFrame'>\n",
      "RangeIndex: 183412 entries, 0 to 183411\n",
      "Data columns (total 16 columns):\n",
      " #   Column                   Non-Null Count   Dtype  \n",
      "---  ------                   --------------   -----  \n",
      " 0   duration_sec             183412 non-null  int64  \n",
      " 1   start_time               183412 non-null  object \n",
      " 2   end_time                 183412 non-null  object \n",
      " 3   start_station_id         183215 non-null  float64\n",
      " 4   start_station_name       183215 non-null  object \n",
      " 5   start_station_latitude   183412 non-null  float64\n",
      " 6   start_station_longitude  183412 non-null  float64\n",
      " 7   end_station_id           183215 non-null  float64\n",
      " 8   end_station_name         183215 non-null  object \n",
      " 9   end_station_latitude     183412 non-null  float64\n",
      " 10  end_station_longitude    183412 non-null  float64\n",
      " 11  bike_id                  183412 non-null  int64  \n",
      " 12  user_type                183412 non-null  object \n",
      " 13  member_birth_year        175147 non-null  float64\n",
      " 14  member_gender            175147 non-null  object \n",
      " 15  bike_share_for_all_trip  183412 non-null  object \n",
      "dtypes: float64(7), int64(2), object(7)\n",
      "memory usage: 22.4+ MB\n"
     ]
    }
   ],
   "source": [
    "# check detailed info about dataset construct\n",
    "df.info()"
   ]
  },
  {
   "cell_type": "code",
   "execution_count": 12,
   "id": "6273b1ac-b461-4075-a89f-b41f91920cd3",
   "metadata": {},
   "outputs": [
    {
     "data": {
      "text/html": [
       "<div>\n",
       "<style scoped>\n",
       "    .dataframe tbody tr th:only-of-type {\n",
       "        vertical-align: middle;\n",
       "    }\n",
       "\n",
       "    .dataframe tbody tr th {\n",
       "        vertical-align: top;\n",
       "    }\n",
       "\n",
       "    .dataframe thead th {\n",
       "        text-align: right;\n",
       "    }\n",
       "</style>\n",
       "<table border=\"1\" class=\"dataframe\">\n",
       "  <thead>\n",
       "    <tr style=\"text-align: right;\">\n",
       "      <th></th>\n",
       "      <th>duration_sec</th>\n",
       "      <th>start_station_id</th>\n",
       "      <th>start_station_latitude</th>\n",
       "      <th>start_station_longitude</th>\n",
       "      <th>end_station_id</th>\n",
       "      <th>end_station_latitude</th>\n",
       "      <th>end_station_longitude</th>\n",
       "      <th>bike_id</th>\n",
       "      <th>member_birth_year</th>\n",
       "    </tr>\n",
       "  </thead>\n",
       "  <tbody>\n",
       "    <tr>\n",
       "      <th>count</th>\n",
       "      <td>183412.000000</td>\n",
       "      <td>183215.000000</td>\n",
       "      <td>183412.000000</td>\n",
       "      <td>183412.000000</td>\n",
       "      <td>183215.000000</td>\n",
       "      <td>183412.000000</td>\n",
       "      <td>183412.000000</td>\n",
       "      <td>183412.000000</td>\n",
       "      <td>175147.000000</td>\n",
       "    </tr>\n",
       "    <tr>\n",
       "      <th>mean</th>\n",
       "      <td>726.078435</td>\n",
       "      <td>138.590427</td>\n",
       "      <td>37.771223</td>\n",
       "      <td>-122.352664</td>\n",
       "      <td>136.249123</td>\n",
       "      <td>37.771427</td>\n",
       "      <td>-122.352250</td>\n",
       "      <td>4472.906375</td>\n",
       "      <td>1984.806437</td>\n",
       "    </tr>\n",
       "    <tr>\n",
       "      <th>std</th>\n",
       "      <td>1794.389780</td>\n",
       "      <td>111.778864</td>\n",
       "      <td>0.099581</td>\n",
       "      <td>0.117097</td>\n",
       "      <td>111.515131</td>\n",
       "      <td>0.099490</td>\n",
       "      <td>0.116673</td>\n",
       "      <td>1664.383394</td>\n",
       "      <td>10.116689</td>\n",
       "    </tr>\n",
       "    <tr>\n",
       "      <th>min</th>\n",
       "      <td>61.000000</td>\n",
       "      <td>3.000000</td>\n",
       "      <td>37.317298</td>\n",
       "      <td>-122.453704</td>\n",
       "      <td>3.000000</td>\n",
       "      <td>37.317298</td>\n",
       "      <td>-122.453704</td>\n",
       "      <td>11.000000</td>\n",
       "      <td>1878.000000</td>\n",
       "    </tr>\n",
       "    <tr>\n",
       "      <th>25%</th>\n",
       "      <td>325.000000</td>\n",
       "      <td>47.000000</td>\n",
       "      <td>37.770083</td>\n",
       "      <td>-122.412408</td>\n",
       "      <td>44.000000</td>\n",
       "      <td>37.770407</td>\n",
       "      <td>-122.411726</td>\n",
       "      <td>3777.000000</td>\n",
       "      <td>1980.000000</td>\n",
       "    </tr>\n",
       "    <tr>\n",
       "      <th>50%</th>\n",
       "      <td>514.000000</td>\n",
       "      <td>104.000000</td>\n",
       "      <td>37.780760</td>\n",
       "      <td>-122.398285</td>\n",
       "      <td>100.000000</td>\n",
       "      <td>37.781010</td>\n",
       "      <td>-122.398279</td>\n",
       "      <td>4958.000000</td>\n",
       "      <td>1987.000000</td>\n",
       "    </tr>\n",
       "    <tr>\n",
       "      <th>75%</th>\n",
       "      <td>796.000000</td>\n",
       "      <td>239.000000</td>\n",
       "      <td>37.797280</td>\n",
       "      <td>-122.286533</td>\n",
       "      <td>235.000000</td>\n",
       "      <td>37.797320</td>\n",
       "      <td>-122.288045</td>\n",
       "      <td>5502.000000</td>\n",
       "      <td>1992.000000</td>\n",
       "    </tr>\n",
       "    <tr>\n",
       "      <th>max</th>\n",
       "      <td>85444.000000</td>\n",
       "      <td>398.000000</td>\n",
       "      <td>37.880222</td>\n",
       "      <td>-121.874119</td>\n",
       "      <td>398.000000</td>\n",
       "      <td>37.880222</td>\n",
       "      <td>-121.874119</td>\n",
       "      <td>6645.000000</td>\n",
       "      <td>2001.000000</td>\n",
       "    </tr>\n",
       "  </tbody>\n",
       "</table>\n",
       "</div>"
      ],
      "text/plain": [
       "        duration_sec  start_station_id  start_station_latitude  \\\n",
       "count  183412.000000     183215.000000           183412.000000   \n",
       "mean      726.078435        138.590427               37.771223   \n",
       "std      1794.389780        111.778864                0.099581   \n",
       "min        61.000000          3.000000               37.317298   \n",
       "25%       325.000000         47.000000               37.770083   \n",
       "50%       514.000000        104.000000               37.780760   \n",
       "75%       796.000000        239.000000               37.797280   \n",
       "max     85444.000000        398.000000               37.880222   \n",
       "\n",
       "       start_station_longitude  end_station_id  end_station_latitude  \\\n",
       "count            183412.000000   183215.000000         183412.000000   \n",
       "mean               -122.352664      136.249123             37.771427   \n",
       "std                   0.117097      111.515131              0.099490   \n",
       "min                -122.453704        3.000000             37.317298   \n",
       "25%                -122.412408       44.000000             37.770407   \n",
       "50%                -122.398285      100.000000             37.781010   \n",
       "75%                -122.286533      235.000000             37.797320   \n",
       "max                -121.874119      398.000000             37.880222   \n",
       "\n",
       "       end_station_longitude        bike_id  member_birth_year  \n",
       "count          183412.000000  183412.000000      175147.000000  \n",
       "mean             -122.352250    4472.906375        1984.806437  \n",
       "std                 0.116673    1664.383394          10.116689  \n",
       "min              -122.453704      11.000000        1878.000000  \n",
       "25%              -122.411726    3777.000000        1980.000000  \n",
       "50%              -122.398279    4958.000000        1987.000000  \n",
       "75%              -122.288045    5502.000000        1992.000000  \n",
       "max              -121.874119    6645.000000        2001.000000  "
      ]
     },
     "execution_count": 12,
     "metadata": {},
     "output_type": "execute_result"
    }
   ],
   "source": [
    "# check statistical summary of the dataset\n",
    "df.describe()"
   ]
  },
  {
   "cell_type": "markdown",
   "id": "e88c0c16-a0c8-415a-b335-3250dfe3752b",
   "metadata": {},
   "source": [
    "### Tour Notes"
   ]
  },
  {
   "cell_type": "markdown",
   "id": "c72b4235-5aab-4af4-b785-d952d4f59164",
   "metadata": {},
   "source": [
    "_There are 183,412 observations on **Ford GoBike System Data** ( Greater San Francisco Bay Area ) which spans across 16 variables. There are two type of observable users from the recorded observations **Customer** and **Subscriber** falling within the birth year bracket of 1878 - 2001. The highest commute duration recorded for sits around **85,444 seconds** while the lowest is **61 seconds**. These records are tracked within genders -> **Male, Female & Other**_\n",
    "\n",
    "**DISCLAIMER**\n",
    "\n",
    "_Tour Note should be taken lightly, as it's just an attempt to understand the data in it's raw form - kindly look at [Explanatory Data Analysis](#Explanatory-Data-Analysis) for better and accurate dataset brief_"
   ]
  },
  {
   "cell_type": "markdown",
   "id": "9c082be4-8cd8-489f-96bf-d8e6854a250b",
   "metadata": {},
   "source": [
    "### Observations"
   ]
  },
  {
   "cell_type": "markdown",
   "id": "ca668276-ab69-4784-8ebe-510e0d37ad77",
   "metadata": {},
   "source": [
    "- start_time and end_time are type object\n",
    "- some values on member_gender has got `nan` values\n",
    "- member_gender is of type object\n",
    "- user_type is of type object\n",
    "- 197 data is missing from end_station_id, end_station_name, start_station_id, start_station_name\n",
    "- 8265 data is missing from member_birth_year and member_gender"
   ]
  },
  {
   "cell_type": "markdown",
   "id": "81b8b506-ccb2-4c40-8f7d-a2f7aa050db1",
   "metadata": {
    "tags": []
   },
   "source": [
    "### Project Questions\n",
    "\n",
    "1) When are most trips taken in terms of time of day, day of the week, or month of the year?\n",
    "2) How long does the average trip take?\n",
    "3) Does the above depend on if a user is a subscriber or customer?\n",
    "\n",
    "### Questions that comes to mind ( Curiousity Quest )\n",
    "\n",
    "1) Which user type has the most transaction record\n",
    "2) Age group of subscribers\n",
    "3) Gender with most rides\n",
    "4) Are there repeating records for any given station"
   ]
  },
  {
   "cell_type": "markdown",
   "id": "dcdeef27-9f28-4ef0-906e-79a55f1675db",
   "metadata": {
    "tags": [],
    "toc-hr-collapsed": true
   },
   "source": [
    "## Data Transformation ( Preprocessing / Data Cleaning X Wrangling )"
   ]
  },
  {
   "cell_type": "markdown",
   "id": "5d05bec8-0b24-42d6-b25b-4fff4fd8bfbf",
   "metadata": {},
   "source": [
    "### Parse start_time and end_time datatype to datetime"
   ]
  },
  {
   "cell_type": "code",
   "execution_count": 13,
   "id": "49bcfb68-b452-42a2-b848-ddf461f54c7d",
   "metadata": {},
   "outputs": [
    {
     "data": {
      "text/plain": [
       "start_time    object\n",
       "end_time      object\n",
       "dtype: object"
      ]
     },
     "execution_count": 13,
     "metadata": {},
     "output_type": "execute_result"
    }
   ],
   "source": [
    "# check the current start_time and end_time datatype\n",
    "df[['start_time', 'end_time']].dtypes"
   ]
  },
  {
   "cell_type": "code",
   "execution_count": 14,
   "id": "fe3289e9-ea00-4b2e-afbb-670f35d20df2",
   "metadata": {},
   "outputs": [],
   "source": [
    "# parse start_time to datetime\n",
    "df['start_time'] = pd.to_datetime(df['start_time'])"
   ]
  },
  {
   "cell_type": "code",
   "execution_count": 15,
   "id": "11198f4c-bf4c-47d1-bd46-9e5fda9c81fc",
   "metadata": {},
   "outputs": [
    {
     "name": "stdout",
     "output_type": "stream",
     "text": [
      "datetime64[ns]\n"
     ]
    },
    {
     "data": {
      "text/plain": [
       "dtype('<M8[ns]')"
      ]
     },
     "execution_count": 15,
     "metadata": {},
     "output_type": "execute_result"
    }
   ],
   "source": [
    "# check that start_time is now of type datetime\n",
    "print(df.start_time.dtype.name)\n",
    "df.start_time.dtype"
   ]
  },
  {
   "cell_type": "code",
   "execution_count": 16,
   "id": "c22144f2-13bf-4cea-ba10-5fd2a7007e65",
   "metadata": {},
   "outputs": [],
   "source": [
    "# parse end_time to datetime\n",
    "df['end_time'] = pd.to_datetime(df['end_time'])"
   ]
  },
  {
   "cell_type": "code",
   "execution_count": 17,
   "id": "475d1f5d-2981-456f-8469-0729c1515051",
   "metadata": {},
   "outputs": [
    {
     "name": "stdout",
     "output_type": "stream",
     "text": [
      "datetime64[ns]\n"
     ]
    },
    {
     "data": {
      "text/plain": [
       "dtype('<M8[ns]')"
      ]
     },
     "execution_count": 17,
     "metadata": {},
     "output_type": "execute_result"
    }
   ],
   "source": [
    "# check that start_time is now of type datetime\n",
    "print(df.end_time.dtype.name)\n",
    "df.end_time.dtype"
   ]
  },
  {
   "cell_type": "markdown",
   "id": "4754b90b-f7c4-4593-b62d-dba92b0f429d",
   "metadata": {},
   "source": [
    "### Get rid of `nan` member_gender"
   ]
  },
  {
   "cell_type": "code",
   "execution_count": 18,
   "id": "8674e68b-9b34-475c-9ebc-f33b4fe00583",
   "metadata": {},
   "outputs": [
    {
     "data": {
      "text/html": [
       "<div>\n",
       "<style scoped>\n",
       "    .dataframe tbody tr th:only-of-type {\n",
       "        vertical-align: middle;\n",
       "    }\n",
       "\n",
       "    .dataframe tbody tr th {\n",
       "        vertical-align: top;\n",
       "    }\n",
       "\n",
       "    .dataframe thead th {\n",
       "        text-align: right;\n",
       "    }\n",
       "</style>\n",
       "<table border=\"1\" class=\"dataframe\">\n",
       "  <thead>\n",
       "    <tr style=\"text-align: right;\">\n",
       "      <th></th>\n",
       "      <th>duration_sec</th>\n",
       "      <th>start_time</th>\n",
       "      <th>end_time</th>\n",
       "      <th>start_station_id</th>\n",
       "      <th>start_station_name</th>\n",
       "      <th>start_station_latitude</th>\n",
       "      <th>start_station_longitude</th>\n",
       "      <th>end_station_id</th>\n",
       "      <th>end_station_name</th>\n",
       "      <th>end_station_latitude</th>\n",
       "      <th>end_station_longitude</th>\n",
       "      <th>bike_id</th>\n",
       "      <th>user_type</th>\n",
       "      <th>member_birth_year</th>\n",
       "      <th>member_gender</th>\n",
       "      <th>bike_share_for_all_trip</th>\n",
       "    </tr>\n",
       "  </thead>\n",
       "  <tbody>\n",
       "    <tr>\n",
       "      <th>1</th>\n",
       "      <td>42521</td>\n",
       "      <td>2019-02-28 18:53:21.789</td>\n",
       "      <td>2019-03-01 06:42:03.056</td>\n",
       "      <td>23.0</td>\n",
       "      <td>The Embarcadero at Steuart St</td>\n",
       "      <td>37.791464</td>\n",
       "      <td>-122.391034</td>\n",
       "      <td>81.0</td>\n",
       "      <td>Berry St at 4th St</td>\n",
       "      <td>37.775880</td>\n",
       "      <td>-122.393170</td>\n",
       "      <td>2535</td>\n",
       "      <td>Customer</td>\n",
       "      <td>NaN</td>\n",
       "      <td>NaN</td>\n",
       "      <td>No</td>\n",
       "    </tr>\n",
       "    <tr>\n",
       "      <th>13</th>\n",
       "      <td>915</td>\n",
       "      <td>2019-02-28 23:49:06.062</td>\n",
       "      <td>2019-03-01 00:04:21.867</td>\n",
       "      <td>252.0</td>\n",
       "      <td>Channing Way at Shattuck Ave</td>\n",
       "      <td>37.865847</td>\n",
       "      <td>-122.267443</td>\n",
       "      <td>244.0</td>\n",
       "      <td>Shattuck Ave at Hearst Ave</td>\n",
       "      <td>37.873676</td>\n",
       "      <td>-122.268487</td>\n",
       "      <td>5101</td>\n",
       "      <td>Subscriber</td>\n",
       "      <td>NaN</td>\n",
       "      <td>NaN</td>\n",
       "      <td>No</td>\n",
       "    </tr>\n",
       "    <tr>\n",
       "      <th>28</th>\n",
       "      <td>650</td>\n",
       "      <td>2019-02-28 23:43:27.503</td>\n",
       "      <td>2019-02-28 23:54:18.451</td>\n",
       "      <td>258.0</td>\n",
       "      <td>University Ave at Oxford St</td>\n",
       "      <td>37.872355</td>\n",
       "      <td>-122.266447</td>\n",
       "      <td>263.0</td>\n",
       "      <td>Channing Way at San Pablo Ave</td>\n",
       "      <td>37.862827</td>\n",
       "      <td>-122.290231</td>\n",
       "      <td>4784</td>\n",
       "      <td>Customer</td>\n",
       "      <td>NaN</td>\n",
       "      <td>NaN</td>\n",
       "      <td>No</td>\n",
       "    </tr>\n",
       "    <tr>\n",
       "      <th>53</th>\n",
       "      <td>3418</td>\n",
       "      <td>2019-02-28 22:41:16.362</td>\n",
       "      <td>2019-02-28 23:38:14.363</td>\n",
       "      <td>11.0</td>\n",
       "      <td>Davis St at Jackson St</td>\n",
       "      <td>37.797280</td>\n",
       "      <td>-122.398436</td>\n",
       "      <td>11.0</td>\n",
       "      <td>Davis St at Jackson St</td>\n",
       "      <td>37.797280</td>\n",
       "      <td>-122.398436</td>\n",
       "      <td>319</td>\n",
       "      <td>Customer</td>\n",
       "      <td>NaN</td>\n",
       "      <td>NaN</td>\n",
       "      <td>No</td>\n",
       "    </tr>\n",
       "    <tr>\n",
       "      <th>65</th>\n",
       "      <td>926</td>\n",
       "      <td>2019-02-28 23:17:05.853</td>\n",
       "      <td>2019-02-28 23:32:32.682</td>\n",
       "      <td>13.0</td>\n",
       "      <td>Commercial St at Montgomery St</td>\n",
       "      <td>37.794231</td>\n",
       "      <td>-122.402923</td>\n",
       "      <td>81.0</td>\n",
       "      <td>Berry St at 4th St</td>\n",
       "      <td>37.775880</td>\n",
       "      <td>-122.393170</td>\n",
       "      <td>2951</td>\n",
       "      <td>Subscriber</td>\n",
       "      <td>NaN</td>\n",
       "      <td>NaN</td>\n",
       "      <td>No</td>\n",
       "    </tr>\n",
       "  </tbody>\n",
       "</table>\n",
       "</div>"
      ],
      "text/plain": [
       "    duration_sec              start_time                end_time  \\\n",
       "1          42521 2019-02-28 18:53:21.789 2019-03-01 06:42:03.056   \n",
       "13           915 2019-02-28 23:49:06.062 2019-03-01 00:04:21.867   \n",
       "28           650 2019-02-28 23:43:27.503 2019-02-28 23:54:18.451   \n",
       "53          3418 2019-02-28 22:41:16.362 2019-02-28 23:38:14.363   \n",
       "65           926 2019-02-28 23:17:05.853 2019-02-28 23:32:32.682   \n",
       "\n",
       "    start_station_id              start_station_name  start_station_latitude  \\\n",
       "1               23.0   The Embarcadero at Steuart St               37.791464   \n",
       "13             252.0    Channing Way at Shattuck Ave               37.865847   \n",
       "28             258.0     University Ave at Oxford St               37.872355   \n",
       "53              11.0          Davis St at Jackson St               37.797280   \n",
       "65              13.0  Commercial St at Montgomery St               37.794231   \n",
       "\n",
       "    start_station_longitude  end_station_id               end_station_name  \\\n",
       "1               -122.391034            81.0             Berry St at 4th St   \n",
       "13              -122.267443           244.0     Shattuck Ave at Hearst Ave   \n",
       "28              -122.266447           263.0  Channing Way at San Pablo Ave   \n",
       "53              -122.398436            11.0         Davis St at Jackson St   \n",
       "65              -122.402923            81.0             Berry St at 4th St   \n",
       "\n",
       "    end_station_latitude  end_station_longitude  bike_id   user_type  \\\n",
       "1              37.775880            -122.393170     2535    Customer   \n",
       "13             37.873676            -122.268487     5101  Subscriber   \n",
       "28             37.862827            -122.290231     4784    Customer   \n",
       "53             37.797280            -122.398436      319    Customer   \n",
       "65             37.775880            -122.393170     2951  Subscriber   \n",
       "\n",
       "    member_birth_year member_gender bike_share_for_all_trip  \n",
       "1                 NaN           NaN                      No  \n",
       "13                NaN           NaN                      No  \n",
       "28                NaN           NaN                      No  \n",
       "53                NaN           NaN                      No  \n",
       "65                NaN           NaN                      No  "
      ]
     },
     "execution_count": 18,
     "metadata": {},
     "output_type": "execute_result"
    }
   ],
   "source": [
    "# check for the member_gender whose value is `nan`\n",
    "df[df['member_gender'].isna()].head()"
   ]
  },
  {
   "cell_type": "code",
   "execution_count": 19,
   "id": "3c387b4d-7c19-4ed4-82a3-26c13683b419",
   "metadata": {},
   "outputs": [
    {
     "data": {
      "text/plain": [
       "8265"
      ]
     },
     "execution_count": 19,
     "metadata": {},
     "output_type": "execute_result"
    }
   ],
   "source": [
    "# check the total count for the member_gender whose value is `nan`\n",
    "len(df[df['member_gender'].isna()])"
   ]
  },
  {
   "cell_type": "markdown",
   "id": "ace87bfa-ea86-495a-9dee-9b4e5c1840ef",
   "metadata": {},
   "source": [
    "#### Approach Details"
   ]
  },
  {
   "cell_type": "markdown",
   "id": "fb5da697-d7fd-464e-9572-048be8e413f3",
   "metadata": {},
   "source": [
    "The requirements to answer the project questions doesn't warrant any interactions with gender, which makes it safe for all observations to be left as is. Removing 8,265 observations would be alot to take off when the missing values has no contribution to the analysis."
   ]
  },
  {
   "cell_type": "markdown",
   "id": "f8dbd3b3-416e-4acd-8c7a-9b5a1fb93d27",
   "metadata": {},
   "source": [
    "### Change user_type to categorical type"
   ]
  },
  {
   "cell_type": "code",
   "execution_count": 20,
   "id": "28a41da2-e570-44f1-9e18-7e64b59b988e",
   "metadata": {},
   "outputs": [
    {
     "data": {
      "text/plain": [
       "dtype('O')"
      ]
     },
     "execution_count": 20,
     "metadata": {},
     "output_type": "execute_result"
    }
   ],
   "source": [
    "# check that user_type datatype\n",
    "df.user_type.dtype"
   ]
  },
  {
   "cell_type": "code",
   "execution_count": 21,
   "id": "0debdbb8-9492-41d5-9f30-fc661f86eb29",
   "metadata": {},
   "outputs": [
    {
     "data": {
      "text/plain": [
       "0"
      ]
     },
     "execution_count": 21,
     "metadata": {},
     "output_type": "execute_result"
    }
   ],
   "source": [
    "# check if there're any missing entries for user type\n",
    "len(df[df['user_type'].isna()])"
   ]
  },
  {
   "cell_type": "code",
   "execution_count": 22,
   "id": "f1ef6f1f-a97c-454f-9940-856513fbb10c",
   "metadata": {},
   "outputs": [],
   "source": [
    "# switch user_type to categorical type\n",
    "df['user_type'] = df['user_type'].astype('category')"
   ]
  },
  {
   "cell_type": "code",
   "execution_count": 23,
   "id": "0a36292f-3e7a-4c5b-9e10-441a8fca5c0e",
   "metadata": {},
   "outputs": [
    {
     "data": {
      "text/plain": [
       "CategoricalDtype(categories=['Customer', 'Subscriber'], ordered=False)"
      ]
     },
     "execution_count": 23,
     "metadata": {},
     "output_type": "execute_result"
    }
   ],
   "source": [
    "df['user_type'].dtype"
   ]
  },
  {
   "cell_type": "markdown",
   "id": "fe3ed192-9109-48cb-8235-8404b0c01094",
   "metadata": {},
   "source": [
    "## Re-Explore missing values \n",
    "197 missing from end_station_id, end_station_name, start_station_id, start_station_name"
   ]
  },
  {
   "cell_type": "code",
   "execution_count": 24,
   "id": "de36d312-db5c-4d1e-b7c1-23727c2cb1bb",
   "metadata": {},
   "outputs": [
    {
     "data": {
      "text/plain": [
       "197"
      ]
     },
     "execution_count": 24,
     "metadata": {},
     "output_type": "execute_result"
    }
   ],
   "source": [
    "len(df[df['end_station_id'].isna()])"
   ]
  },
  {
   "cell_type": "code",
   "execution_count": 25,
   "id": "d932891a-afe5-4ec0-be73-6601c58899d4",
   "metadata": {},
   "outputs": [
    {
     "data": {
      "text/html": [
       "<div>\n",
       "<style scoped>\n",
       "    .dataframe tbody tr th:only-of-type {\n",
       "        vertical-align: middle;\n",
       "    }\n",
       "\n",
       "    .dataframe tbody tr th {\n",
       "        vertical-align: top;\n",
       "    }\n",
       "\n",
       "    .dataframe thead th {\n",
       "        text-align: right;\n",
       "    }\n",
       "</style>\n",
       "<table border=\"1\" class=\"dataframe\">\n",
       "  <thead>\n",
       "    <tr style=\"text-align: right;\">\n",
       "      <th></th>\n",
       "      <th>duration_sec</th>\n",
       "      <th>start_time</th>\n",
       "      <th>end_time</th>\n",
       "      <th>start_station_id</th>\n",
       "      <th>start_station_name</th>\n",
       "      <th>start_station_latitude</th>\n",
       "      <th>start_station_longitude</th>\n",
       "      <th>end_station_id</th>\n",
       "      <th>end_station_name</th>\n",
       "      <th>end_station_latitude</th>\n",
       "      <th>end_station_longitude</th>\n",
       "      <th>bike_id</th>\n",
       "      <th>user_type</th>\n",
       "      <th>member_birth_year</th>\n",
       "      <th>member_gender</th>\n",
       "      <th>bike_share_for_all_trip</th>\n",
       "    </tr>\n",
       "  </thead>\n",
       "  <tbody>\n",
       "    <tr>\n",
       "      <th>475</th>\n",
       "      <td>1709</td>\n",
       "      <td>2019-02-28 20:55:53.932</td>\n",
       "      <td>2019-02-28 21:24:23.738</td>\n",
       "      <td>NaN</td>\n",
       "      <td>NaN</td>\n",
       "      <td>37.40</td>\n",
       "      <td>-121.94</td>\n",
       "      <td>NaN</td>\n",
       "      <td>NaN</td>\n",
       "      <td>37.40</td>\n",
       "      <td>-121.93</td>\n",
       "      <td>4211</td>\n",
       "      <td>Customer</td>\n",
       "      <td>1991.0</td>\n",
       "      <td>Female</td>\n",
       "      <td>No</td>\n",
       "    </tr>\n",
       "    <tr>\n",
       "      <th>1733</th>\n",
       "      <td>1272</td>\n",
       "      <td>2019-02-28 18:32:34.273</td>\n",
       "      <td>2019-02-28 18:53:46.727</td>\n",
       "      <td>NaN</td>\n",
       "      <td>NaN</td>\n",
       "      <td>37.40</td>\n",
       "      <td>-121.94</td>\n",
       "      <td>NaN</td>\n",
       "      <td>NaN</td>\n",
       "      <td>37.41</td>\n",
       "      <td>-121.96</td>\n",
       "      <td>4174</td>\n",
       "      <td>Subscriber</td>\n",
       "      <td>1980.0</td>\n",
       "      <td>Male</td>\n",
       "      <td>No</td>\n",
       "    </tr>\n",
       "    <tr>\n",
       "      <th>3625</th>\n",
       "      <td>142</td>\n",
       "      <td>2019-02-28 17:10:46.529</td>\n",
       "      <td>2019-02-28 17:13:09.431</td>\n",
       "      <td>NaN</td>\n",
       "      <td>NaN</td>\n",
       "      <td>37.41</td>\n",
       "      <td>-121.95</td>\n",
       "      <td>NaN</td>\n",
       "      <td>NaN</td>\n",
       "      <td>37.41</td>\n",
       "      <td>-121.96</td>\n",
       "      <td>4283</td>\n",
       "      <td>Subscriber</td>\n",
       "      <td>1988.0</td>\n",
       "      <td>Male</td>\n",
       "      <td>No</td>\n",
       "    </tr>\n",
       "    <tr>\n",
       "      <th>4070</th>\n",
       "      <td>585</td>\n",
       "      <td>2019-02-28 16:28:45.934</td>\n",
       "      <td>2019-02-28 16:38:31.332</td>\n",
       "      <td>NaN</td>\n",
       "      <td>NaN</td>\n",
       "      <td>37.39</td>\n",
       "      <td>-121.93</td>\n",
       "      <td>NaN</td>\n",
       "      <td>NaN</td>\n",
       "      <td>37.40</td>\n",
       "      <td>-121.92</td>\n",
       "      <td>4089</td>\n",
       "      <td>Subscriber</td>\n",
       "      <td>1984.0</td>\n",
       "      <td>Male</td>\n",
       "      <td>Yes</td>\n",
       "    </tr>\n",
       "    <tr>\n",
       "      <th>5654</th>\n",
       "      <td>509</td>\n",
       "      <td>2019-02-28 12:30:17.131</td>\n",
       "      <td>2019-02-28 12:38:46.329</td>\n",
       "      <td>NaN</td>\n",
       "      <td>NaN</td>\n",
       "      <td>37.40</td>\n",
       "      <td>-121.92</td>\n",
       "      <td>NaN</td>\n",
       "      <td>NaN</td>\n",
       "      <td>37.39</td>\n",
       "      <td>-121.93</td>\n",
       "      <td>4089</td>\n",
       "      <td>Subscriber</td>\n",
       "      <td>1984.0</td>\n",
       "      <td>Male</td>\n",
       "      <td>Yes</td>\n",
       "    </tr>\n",
       "  </tbody>\n",
       "</table>\n",
       "</div>"
      ],
      "text/plain": [
       "      duration_sec              start_time                end_time  \\\n",
       "475           1709 2019-02-28 20:55:53.932 2019-02-28 21:24:23.738   \n",
       "1733          1272 2019-02-28 18:32:34.273 2019-02-28 18:53:46.727   \n",
       "3625           142 2019-02-28 17:10:46.529 2019-02-28 17:13:09.431   \n",
       "4070           585 2019-02-28 16:28:45.934 2019-02-28 16:38:31.332   \n",
       "5654           509 2019-02-28 12:30:17.131 2019-02-28 12:38:46.329   \n",
       "\n",
       "      start_station_id start_station_name  start_station_latitude  \\\n",
       "475                NaN                NaN                   37.40   \n",
       "1733               NaN                NaN                   37.40   \n",
       "3625               NaN                NaN                   37.41   \n",
       "4070               NaN                NaN                   37.39   \n",
       "5654               NaN                NaN                   37.40   \n",
       "\n",
       "      start_station_longitude  end_station_id end_station_name  \\\n",
       "475                   -121.94             NaN              NaN   \n",
       "1733                  -121.94             NaN              NaN   \n",
       "3625                  -121.95             NaN              NaN   \n",
       "4070                  -121.93             NaN              NaN   \n",
       "5654                  -121.92             NaN              NaN   \n",
       "\n",
       "      end_station_latitude  end_station_longitude  bike_id   user_type  \\\n",
       "475                  37.40                -121.93     4211    Customer   \n",
       "1733                 37.41                -121.96     4174  Subscriber   \n",
       "3625                 37.41                -121.96     4283  Subscriber   \n",
       "4070                 37.40                -121.92     4089  Subscriber   \n",
       "5654                 37.39                -121.93     4089  Subscriber   \n",
       "\n",
       "      member_birth_year member_gender bike_share_for_all_trip  \n",
       "475              1991.0        Female                      No  \n",
       "1733             1980.0          Male                      No  \n",
       "3625             1988.0          Male                      No  \n",
       "4070             1984.0          Male                     Yes  \n",
       "5654             1984.0          Male                     Yes  "
      ]
     },
     "execution_count": 25,
     "metadata": {},
     "output_type": "execute_result"
    }
   ],
   "source": [
    "df[df['end_station_id'].isna()].head()"
   ]
  },
  {
   "cell_type": "markdown",
   "id": "35836cf6-95d4-424d-a456-20440df2f30a",
   "metadata": {},
   "source": [
    "start_station_name, end_station_name and ids has got missing values. To validate the accuracy of these data, I checked the first records returned from `.head()` method call.\n",
    "\n",
    "From above rendering with `.head()` method, the coordinate proves valid after manually cross-checking with google maps. For the first five, the coordinate points to San Jose ( which is amongst the Greater Bay Area). So we'll keep them as is. "
   ]
  },
  {
   "cell_type": "markdown",
   "id": "ad6111b9-771d-4114-b512-237a0a8d3e9e",
   "metadata": {
    "tags": []
   },
   "source": [
    "## Exploratory Data Analysis"
   ]
  },
  {
   "cell_type": "markdown",
   "id": "8cc8e168-8725-462d-8821-e5e17619af9e",
   "metadata": {},
   "source": [
    "having observed the dataset about 8263 observations has got missing values resulting in about 174,952 valid records when the missing values are removed. We'll proceed with the exploration of the dataset as is to answer the project's questions as the missing entries doesn't play crucial role to answering the questions. Below are the questions:\n",
    "\n",
    "- When are most trips taken in terms of time of day, day of the week, or month of the year?\n",
    "- How long does the average trip take?\n",
    "- Does the above depend on if a user is a subscriber or customer?\n",
    "\n",
    "Although we could integrate with google maps ( Directions API ) to get the location name for the station coordinate but, None of the above questions warrants that we work with the stations. Neither does it warrant we work with gender. So for now we're safe. "
   ]
  },
  {
   "cell_type": "markdown",
   "id": "04f79063-6392-4f5a-82b2-3fdffec08296",
   "metadata": {},
   "source": [
    "### when are most trips taken in terms of time of the day ( QUESTION )"
   ]
  },
  {
   "cell_type": "code",
   "execution_count": 26,
   "id": "300164c5-0c51-42c8-927d-036b5642d9ac",
   "metadata": {},
   "outputs": [
    {
     "data": {
      "text/html": [
       "<div>\n",
       "<style scoped>\n",
       "    .dataframe tbody tr th:only-of-type {\n",
       "        vertical-align: middle;\n",
       "    }\n",
       "\n",
       "    .dataframe tbody tr th {\n",
       "        vertical-align: top;\n",
       "    }\n",
       "\n",
       "    .dataframe thead th {\n",
       "        text-align: right;\n",
       "    }\n",
       "</style>\n",
       "<table border=\"1\" class=\"dataframe\">\n",
       "  <thead>\n",
       "    <tr style=\"text-align: right;\">\n",
       "      <th></th>\n",
       "      <th>duration_sec</th>\n",
       "      <th>start_time</th>\n",
       "      <th>end_time</th>\n",
       "      <th>start_station_id</th>\n",
       "      <th>start_station_name</th>\n",
       "      <th>start_station_latitude</th>\n",
       "      <th>start_station_longitude</th>\n",
       "      <th>end_station_id</th>\n",
       "      <th>end_station_name</th>\n",
       "      <th>end_station_latitude</th>\n",
       "      <th>end_station_longitude</th>\n",
       "      <th>bike_id</th>\n",
       "      <th>user_type</th>\n",
       "      <th>member_birth_year</th>\n",
       "      <th>member_gender</th>\n",
       "      <th>bike_share_for_all_trip</th>\n",
       "    </tr>\n",
       "  </thead>\n",
       "  <tbody>\n",
       "    <tr>\n",
       "      <th>0</th>\n",
       "      <td>52185</td>\n",
       "      <td>2019-02-28 17:32:10.145</td>\n",
       "      <td>2019-03-01 08:01:55.975</td>\n",
       "      <td>21.0</td>\n",
       "      <td>Montgomery St BART Station (Market St at 2nd St)</td>\n",
       "      <td>37.789625</td>\n",
       "      <td>-122.400811</td>\n",
       "      <td>13.0</td>\n",
       "      <td>Commercial St at Montgomery St</td>\n",
       "      <td>37.794231</td>\n",
       "      <td>-122.402923</td>\n",
       "      <td>4902</td>\n",
       "      <td>Customer</td>\n",
       "      <td>1984.0</td>\n",
       "      <td>Male</td>\n",
       "      <td>No</td>\n",
       "    </tr>\n",
       "    <tr>\n",
       "      <th>1</th>\n",
       "      <td>42521</td>\n",
       "      <td>2019-02-28 18:53:21.789</td>\n",
       "      <td>2019-03-01 06:42:03.056</td>\n",
       "      <td>23.0</td>\n",
       "      <td>The Embarcadero at Steuart St</td>\n",
       "      <td>37.791464</td>\n",
       "      <td>-122.391034</td>\n",
       "      <td>81.0</td>\n",
       "      <td>Berry St at 4th St</td>\n",
       "      <td>37.775880</td>\n",
       "      <td>-122.393170</td>\n",
       "      <td>2535</td>\n",
       "      <td>Customer</td>\n",
       "      <td>NaN</td>\n",
       "      <td>NaN</td>\n",
       "      <td>No</td>\n",
       "    </tr>\n",
       "    <tr>\n",
       "      <th>2</th>\n",
       "      <td>61854</td>\n",
       "      <td>2019-02-28 12:13:13.218</td>\n",
       "      <td>2019-03-01 05:24:08.146</td>\n",
       "      <td>86.0</td>\n",
       "      <td>Market St at Dolores St</td>\n",
       "      <td>37.769305</td>\n",
       "      <td>-122.426826</td>\n",
       "      <td>3.0</td>\n",
       "      <td>Powell St BART Station (Market St at 4th St)</td>\n",
       "      <td>37.786375</td>\n",
       "      <td>-122.404904</td>\n",
       "      <td>5905</td>\n",
       "      <td>Customer</td>\n",
       "      <td>1972.0</td>\n",
       "      <td>Male</td>\n",
       "      <td>No</td>\n",
       "    </tr>\n",
       "    <tr>\n",
       "      <th>3</th>\n",
       "      <td>36490</td>\n",
       "      <td>2019-02-28 17:54:26.010</td>\n",
       "      <td>2019-03-01 04:02:36.842</td>\n",
       "      <td>375.0</td>\n",
       "      <td>Grove St at Masonic Ave</td>\n",
       "      <td>37.774836</td>\n",
       "      <td>-122.446546</td>\n",
       "      <td>70.0</td>\n",
       "      <td>Central Ave at Fell St</td>\n",
       "      <td>37.773311</td>\n",
       "      <td>-122.444293</td>\n",
       "      <td>6638</td>\n",
       "      <td>Subscriber</td>\n",
       "      <td>1989.0</td>\n",
       "      <td>Other</td>\n",
       "      <td>No</td>\n",
       "    </tr>\n",
       "    <tr>\n",
       "      <th>4</th>\n",
       "      <td>1585</td>\n",
       "      <td>2019-02-28 23:54:18.549</td>\n",
       "      <td>2019-03-01 00:20:44.074</td>\n",
       "      <td>7.0</td>\n",
       "      <td>Frank H Ogawa Plaza</td>\n",
       "      <td>37.804562</td>\n",
       "      <td>-122.271738</td>\n",
       "      <td>222.0</td>\n",
       "      <td>10th Ave at E 15th St</td>\n",
       "      <td>37.792714</td>\n",
       "      <td>-122.248780</td>\n",
       "      <td>4898</td>\n",
       "      <td>Subscriber</td>\n",
       "      <td>1974.0</td>\n",
       "      <td>Male</td>\n",
       "      <td>Yes</td>\n",
       "    </tr>\n",
       "  </tbody>\n",
       "</table>\n",
       "</div>"
      ],
      "text/plain": [
       "   duration_sec              start_time                end_time  \\\n",
       "0         52185 2019-02-28 17:32:10.145 2019-03-01 08:01:55.975   \n",
       "1         42521 2019-02-28 18:53:21.789 2019-03-01 06:42:03.056   \n",
       "2         61854 2019-02-28 12:13:13.218 2019-03-01 05:24:08.146   \n",
       "3         36490 2019-02-28 17:54:26.010 2019-03-01 04:02:36.842   \n",
       "4          1585 2019-02-28 23:54:18.549 2019-03-01 00:20:44.074   \n",
       "\n",
       "   start_station_id                                start_station_name  \\\n",
       "0              21.0  Montgomery St BART Station (Market St at 2nd St)   \n",
       "1              23.0                     The Embarcadero at Steuart St   \n",
       "2              86.0                           Market St at Dolores St   \n",
       "3             375.0                           Grove St at Masonic Ave   \n",
       "4               7.0                               Frank H Ogawa Plaza   \n",
       "\n",
       "   start_station_latitude  start_station_longitude  end_station_id  \\\n",
       "0               37.789625              -122.400811            13.0   \n",
       "1               37.791464              -122.391034            81.0   \n",
       "2               37.769305              -122.426826             3.0   \n",
       "3               37.774836              -122.446546            70.0   \n",
       "4               37.804562              -122.271738           222.0   \n",
       "\n",
       "                               end_station_name  end_station_latitude  \\\n",
       "0                Commercial St at Montgomery St             37.794231   \n",
       "1                            Berry St at 4th St             37.775880   \n",
       "2  Powell St BART Station (Market St at 4th St)             37.786375   \n",
       "3                        Central Ave at Fell St             37.773311   \n",
       "4                         10th Ave at E 15th St             37.792714   \n",
       "\n",
       "   end_station_longitude  bike_id   user_type  member_birth_year  \\\n",
       "0            -122.402923     4902    Customer             1984.0   \n",
       "1            -122.393170     2535    Customer                NaN   \n",
       "2            -122.404904     5905    Customer             1972.0   \n",
       "3            -122.444293     6638  Subscriber             1989.0   \n",
       "4            -122.248780     4898  Subscriber             1974.0   \n",
       "\n",
       "  member_gender bike_share_for_all_trip  \n",
       "0          Male                      No  \n",
       "1           NaN                      No  \n",
       "2          Male                      No  \n",
       "3         Other                      No  \n",
       "4          Male                     Yes  "
      ]
     },
     "execution_count": 26,
     "metadata": {},
     "output_type": "execute_result"
    }
   ],
   "source": [
    "df.head()"
   ]
  },
  {
   "cell_type": "code",
   "execution_count": 27,
   "id": "561bd938-30f9-4b41-ad57-ff8e45d39fb9",
   "metadata": {},
   "outputs": [
    {
     "data": {
      "text/html": [
       "<div>\n",
       "<style scoped>\n",
       "    .dataframe tbody tr th:only-of-type {\n",
       "        vertical-align: middle;\n",
       "    }\n",
       "\n",
       "    .dataframe tbody tr th {\n",
       "        vertical-align: top;\n",
       "    }\n",
       "\n",
       "    .dataframe thead th {\n",
       "        text-align: right;\n",
       "    }\n",
       "</style>\n",
       "<table border=\"1\" class=\"dataframe\">\n",
       "  <thead>\n",
       "    <tr style=\"text-align: right;\">\n",
       "      <th></th>\n",
       "      <th>start_time</th>\n",
       "      <th>end_time</th>\n",
       "      <th>duration_sec</th>\n",
       "      <th>user_type</th>\n",
       "      <th>bike_share_for_all_trip</th>\n",
       "      <th>bike_id</th>\n",
       "    </tr>\n",
       "  </thead>\n",
       "  <tbody>\n",
       "    <tr>\n",
       "      <th>0</th>\n",
       "      <td>2019-02-28 17:32:10.145</td>\n",
       "      <td>2019-03-01 08:01:55.975</td>\n",
       "      <td>52185</td>\n",
       "      <td>Customer</td>\n",
       "      <td>No</td>\n",
       "      <td>4902</td>\n",
       "    </tr>\n",
       "    <tr>\n",
       "      <th>1</th>\n",
       "      <td>2019-02-28 18:53:21.789</td>\n",
       "      <td>2019-03-01 06:42:03.056</td>\n",
       "      <td>42521</td>\n",
       "      <td>Customer</td>\n",
       "      <td>No</td>\n",
       "      <td>2535</td>\n",
       "    </tr>\n",
       "    <tr>\n",
       "      <th>2</th>\n",
       "      <td>2019-02-28 12:13:13.218</td>\n",
       "      <td>2019-03-01 05:24:08.146</td>\n",
       "      <td>61854</td>\n",
       "      <td>Customer</td>\n",
       "      <td>No</td>\n",
       "      <td>5905</td>\n",
       "    </tr>\n",
       "    <tr>\n",
       "      <th>3</th>\n",
       "      <td>2019-02-28 17:54:26.010</td>\n",
       "      <td>2019-03-01 04:02:36.842</td>\n",
       "      <td>36490</td>\n",
       "      <td>Subscriber</td>\n",
       "      <td>No</td>\n",
       "      <td>6638</td>\n",
       "    </tr>\n",
       "    <tr>\n",
       "      <th>4</th>\n",
       "      <td>2019-02-28 23:54:18.549</td>\n",
       "      <td>2019-03-01 00:20:44.074</td>\n",
       "      <td>1585</td>\n",
       "      <td>Subscriber</td>\n",
       "      <td>Yes</td>\n",
       "      <td>4898</td>\n",
       "    </tr>\n",
       "  </tbody>\n",
       "</table>\n",
       "</div>"
      ],
      "text/plain": [
       "               start_time                end_time  duration_sec   user_type  \\\n",
       "0 2019-02-28 17:32:10.145 2019-03-01 08:01:55.975         52185    Customer   \n",
       "1 2019-02-28 18:53:21.789 2019-03-01 06:42:03.056         42521    Customer   \n",
       "2 2019-02-28 12:13:13.218 2019-03-01 05:24:08.146         61854    Customer   \n",
       "3 2019-02-28 17:54:26.010 2019-03-01 04:02:36.842         36490  Subscriber   \n",
       "4 2019-02-28 23:54:18.549 2019-03-01 00:20:44.074          1585  Subscriber   \n",
       "\n",
       "  bike_share_for_all_trip  bike_id  \n",
       "0                      No     4902  \n",
       "1                      No     2535  \n",
       "2                      No     5905  \n",
       "3                      No     6638  \n",
       "4                     Yes     4898  "
      ]
     },
     "execution_count": 27,
     "metadata": {},
     "output_type": "execute_result"
    }
   ],
   "source": [
    "# copy relevant data for analysis\n",
    "trip_df = df[['start_time', 'end_time', 'duration_sec', 'user_type', 'bike_share_for_all_trip', 'bike_id']].copy()\n",
    "trip_df.head()"
   ]
  },
  {
   "cell_type": "code",
   "execution_count": 28,
   "id": "169ab238-ee53-47e3-b59e-9cd241c63167",
   "metadata": {},
   "outputs": [],
   "source": [
    "# set start_time as the dataset index\n",
    "time_idx_trip_df = (\n",
    "    trip_df.set_index(\"start_time\")\n",
    "    .to_period(\"H\") # change index to be in period form holding hourly values\n",
    ")"
   ]
  },
  {
   "cell_type": "code",
   "execution_count": 29,
   "id": "2887218b-1cb2-4757-a0c6-4fd85ac562e6",
   "metadata": {},
   "outputs": [
    {
     "data": {
      "text/html": [
       "<div>\n",
       "<style scoped>\n",
       "    .dataframe tbody tr th:only-of-type {\n",
       "        vertical-align: middle;\n",
       "    }\n",
       "\n",
       "    .dataframe tbody tr th {\n",
       "        vertical-align: top;\n",
       "    }\n",
       "\n",
       "    .dataframe thead th {\n",
       "        text-align: right;\n",
       "    }\n",
       "</style>\n",
       "<table border=\"1\" class=\"dataframe\">\n",
       "  <thead>\n",
       "    <tr style=\"text-align: right;\">\n",
       "      <th></th>\n",
       "      <th>end_time</th>\n",
       "      <th>duration_sec</th>\n",
       "      <th>user_type</th>\n",
       "      <th>bike_share_for_all_trip</th>\n",
       "      <th>bike_id</th>\n",
       "    </tr>\n",
       "    <tr>\n",
       "      <th>start_time</th>\n",
       "      <th></th>\n",
       "      <th></th>\n",
       "      <th></th>\n",
       "      <th></th>\n",
       "      <th></th>\n",
       "    </tr>\n",
       "  </thead>\n",
       "  <tbody>\n",
       "    <tr>\n",
       "      <th>2019-02-28 17:00</th>\n",
       "      <td>2019-03-01 08:01:55.975</td>\n",
       "      <td>52185</td>\n",
       "      <td>Customer</td>\n",
       "      <td>No</td>\n",
       "      <td>4902</td>\n",
       "    </tr>\n",
       "    <tr>\n",
       "      <th>2019-02-28 18:00</th>\n",
       "      <td>2019-03-01 06:42:03.056</td>\n",
       "      <td>42521</td>\n",
       "      <td>Customer</td>\n",
       "      <td>No</td>\n",
       "      <td>2535</td>\n",
       "    </tr>\n",
       "    <tr>\n",
       "      <th>2019-02-28 12:00</th>\n",
       "      <td>2019-03-01 05:24:08.146</td>\n",
       "      <td>61854</td>\n",
       "      <td>Customer</td>\n",
       "      <td>No</td>\n",
       "      <td>5905</td>\n",
       "    </tr>\n",
       "    <tr>\n",
       "      <th>2019-02-28 17:00</th>\n",
       "      <td>2019-03-01 04:02:36.842</td>\n",
       "      <td>36490</td>\n",
       "      <td>Subscriber</td>\n",
       "      <td>No</td>\n",
       "      <td>6638</td>\n",
       "    </tr>\n",
       "    <tr>\n",
       "      <th>2019-02-28 23:00</th>\n",
       "      <td>2019-03-01 00:20:44.074</td>\n",
       "      <td>1585</td>\n",
       "      <td>Subscriber</td>\n",
       "      <td>Yes</td>\n",
       "      <td>4898</td>\n",
       "    </tr>\n",
       "  </tbody>\n",
       "</table>\n",
       "</div>"
      ],
      "text/plain": [
       "                                end_time  duration_sec   user_type  \\\n",
       "start_time                                                           \n",
       "2019-02-28 17:00 2019-03-01 08:01:55.975         52185    Customer   \n",
       "2019-02-28 18:00 2019-03-01 06:42:03.056         42521    Customer   \n",
       "2019-02-28 12:00 2019-03-01 05:24:08.146         61854    Customer   \n",
       "2019-02-28 17:00 2019-03-01 04:02:36.842         36490  Subscriber   \n",
       "2019-02-28 23:00 2019-03-01 00:20:44.074          1585  Subscriber   \n",
       "\n",
       "                 bike_share_for_all_trip  bike_id  \n",
       "start_time                                         \n",
       "2019-02-28 17:00                      No     4902  \n",
       "2019-02-28 18:00                      No     2535  \n",
       "2019-02-28 12:00                      No     5905  \n",
       "2019-02-28 17:00                      No     6638  \n",
       "2019-02-28 23:00                     Yes     4898  "
      ]
     },
     "execution_count": 29,
     "metadata": {},
     "output_type": "execute_result"
    }
   ],
   "source": [
    "time_idx_trip_df.head()"
   ]
  },
  {
   "cell_type": "code",
   "execution_count": 30,
   "id": "591f6b6a-665e-46c1-8d4b-fc072c1b0cc9",
   "metadata": {},
   "outputs": [],
   "source": [
    "# set index to just hold the time of the day in format Hour:Minute\n",
    "time_idx_trip_df.index = time_idx_trip_df.index.strftime(\"%H:%m\")"
   ]
  },
  {
   "cell_type": "code",
   "execution_count": 31,
   "id": "74a86ec2-5dce-4cee-8839-57a9bea2a628",
   "metadata": {},
   "outputs": [
    {
     "data": {
      "text/html": [
       "<div>\n",
       "<style scoped>\n",
       "    .dataframe tbody tr th:only-of-type {\n",
       "        vertical-align: middle;\n",
       "    }\n",
       "\n",
       "    .dataframe tbody tr th {\n",
       "        vertical-align: top;\n",
       "    }\n",
       "\n",
       "    .dataframe thead th {\n",
       "        text-align: right;\n",
       "    }\n",
       "</style>\n",
       "<table border=\"1\" class=\"dataframe\">\n",
       "  <thead>\n",
       "    <tr style=\"text-align: right;\">\n",
       "      <th></th>\n",
       "      <th>end_time</th>\n",
       "      <th>duration_sec</th>\n",
       "      <th>user_type</th>\n",
       "      <th>bike_share_for_all_trip</th>\n",
       "      <th>bike_id</th>\n",
       "    </tr>\n",
       "    <tr>\n",
       "      <th>start_time</th>\n",
       "      <th></th>\n",
       "      <th></th>\n",
       "      <th></th>\n",
       "      <th></th>\n",
       "      <th></th>\n",
       "    </tr>\n",
       "  </thead>\n",
       "  <tbody>\n",
       "    <tr>\n",
       "      <th>17:02</th>\n",
       "      <td>2019-03-01 08:01:55.975</td>\n",
       "      <td>52185</td>\n",
       "      <td>Customer</td>\n",
       "      <td>No</td>\n",
       "      <td>4902</td>\n",
       "    </tr>\n",
       "    <tr>\n",
       "      <th>18:02</th>\n",
       "      <td>2019-03-01 06:42:03.056</td>\n",
       "      <td>42521</td>\n",
       "      <td>Customer</td>\n",
       "      <td>No</td>\n",
       "      <td>2535</td>\n",
       "    </tr>\n",
       "    <tr>\n",
       "      <th>12:02</th>\n",
       "      <td>2019-03-01 05:24:08.146</td>\n",
       "      <td>61854</td>\n",
       "      <td>Customer</td>\n",
       "      <td>No</td>\n",
       "      <td>5905</td>\n",
       "    </tr>\n",
       "    <tr>\n",
       "      <th>17:02</th>\n",
       "      <td>2019-03-01 04:02:36.842</td>\n",
       "      <td>36490</td>\n",
       "      <td>Subscriber</td>\n",
       "      <td>No</td>\n",
       "      <td>6638</td>\n",
       "    </tr>\n",
       "    <tr>\n",
       "      <th>23:02</th>\n",
       "      <td>2019-03-01 00:20:44.074</td>\n",
       "      <td>1585</td>\n",
       "      <td>Subscriber</td>\n",
       "      <td>Yes</td>\n",
       "      <td>4898</td>\n",
       "    </tr>\n",
       "  </tbody>\n",
       "</table>\n",
       "</div>"
      ],
      "text/plain": [
       "                          end_time  duration_sec   user_type  \\\n",
       "start_time                                                     \n",
       "17:02      2019-03-01 08:01:55.975         52185    Customer   \n",
       "18:02      2019-03-01 06:42:03.056         42521    Customer   \n",
       "12:02      2019-03-01 05:24:08.146         61854    Customer   \n",
       "17:02      2019-03-01 04:02:36.842         36490  Subscriber   \n",
       "23:02      2019-03-01 00:20:44.074          1585  Subscriber   \n",
       "\n",
       "           bike_share_for_all_trip  bike_id  \n",
       "start_time                                   \n",
       "17:02                           No     4902  \n",
       "18:02                           No     2535  \n",
       "12:02                           No     5905  \n",
       "17:02                           No     6638  \n",
       "23:02                          Yes     4898  "
      ]
     },
     "execution_count": 31,
     "metadata": {},
     "output_type": "execute_result"
    }
   ],
   "source": [
    "# Confirm that the index is now in Hour:Minute format\n",
    "time_idx_trip_df.head()"
   ]
  },
  {
   "cell_type": "code",
   "execution_count": 32,
   "id": "b2d60d0f-64e0-4d5a-beb9-e54352747980",
   "metadata": {},
   "outputs": [
    {
     "data": {
      "text/plain": [
       "(183412, 5)"
      ]
     },
     "execution_count": 32,
     "metadata": {},
     "output_type": "execute_result"
    }
   ],
   "source": [
    "# confirm that the observations are still accurate\n",
    "time_idx_trip_df.shape"
   ]
  },
  {
   "cell_type": "code",
   "execution_count": 33,
   "id": "dd859a65-323e-4e69-a67a-b3c3e7933f51",
   "metadata": {},
   "outputs": [],
   "source": [
    "# select seaborn's color palette to use for plot\n",
    "color_palette = sb.color_palette()[0]"
   ]
  },
  {
   "cell_type": "code",
   "execution_count": 34,
   "id": "dd0cf8db-0b56-493e-9531-562834e40598",
   "metadata": {},
   "outputs": [
    {
     "data": {
      "image/png": "[encoded data removed]",
      "text/plain": [
       "<Figure size 432x288 with 1 Axes>"
      ]
     },
     "metadata": {
      "needs_background": "light"
     },
     "output_type": "display_data"
    }
   ],
   "source": [
    "sb.countplot(x=time_idx_trip_df.index, color=color_palette)\n",
    "plt.xticks(rotation=90);"
   ]
  },
  {
   "cell_type": "markdown",
   "id": "57751f91-b356-4ace-9cd7-39b0f05df5dd",
   "metadata": {},
   "source": [
    "Most trip are recorded late in the evening **17:02 pm** and early in the morning (during work hour) **08:02 am** day time followed by "
   ]
  },
  {
   "cell_type": "markdown",
   "id": "561762db-ca9e-43a9-9ddd-a58f19a4cb32",
   "metadata": {},
   "source": [
    "### when are most trips taken in terms of day of the week ( QUESTION )"
   ]
  },
  {
   "cell_type": "code",
   "execution_count": 35,
   "id": "c5b7439f-405a-436d-a80c-c9e4bbfebc80",
   "metadata": {},
   "outputs": [],
   "source": [
    "# create a copy of trip dataset\n",
    "day_idx_trip_df = (\n",
    "    trip_df.set_index(\"start_time\")\n",
    "    .to_period(\"D\")   # conversion to period is very important\n",
    ")"
   ]
  },
  {
   "cell_type": "code",
   "execution_count": 36,
   "id": "489001d1-95b5-4710-b0a9-0d0e59ac58f7",
   "metadata": {},
   "outputs": [
    {
     "data": {
      "text/html": [
       "<div>\n",
       "<style scoped>\n",
       "    .dataframe tbody tr th:only-of-type {\n",
       "        vertical-align: middle;\n",
       "    }\n",
       "\n",
       "    .dataframe tbody tr th {\n",
       "        vertical-align: top;\n",
       "    }\n",
       "\n",
       "    .dataframe thead th {\n",
       "        text-align: right;\n",
       "    }\n",
       "</style>\n",
       "<table border=\"1\" class=\"dataframe\">\n",
       "  <thead>\n",
       "    <tr style=\"text-align: right;\">\n",
       "      <th></th>\n",
       "      <th>end_time</th>\n",
       "      <th>duration_sec</th>\n",
       "      <th>user_type</th>\n",
       "      <th>bike_share_for_all_trip</th>\n",
       "      <th>bike_id</th>\n",
       "    </tr>\n",
       "    <tr>\n",
       "      <th>start_time</th>\n",
       "      <th></th>\n",
       "      <th></th>\n",
       "      <th></th>\n",
       "      <th></th>\n",
       "      <th></th>\n",
       "    </tr>\n",
       "  </thead>\n",
       "  <tbody>\n",
       "    <tr>\n",
       "      <th>2019-02-28</th>\n",
       "      <td>2019-03-01 08:01:55.975</td>\n",
       "      <td>52185</td>\n",
       "      <td>Customer</td>\n",
       "      <td>No</td>\n",
       "      <td>4902</td>\n",
       "    </tr>\n",
       "    <tr>\n",
       "      <th>2019-02-28</th>\n",
       "      <td>2019-03-01 06:42:03.056</td>\n",
       "      <td>42521</td>\n",
       "      <td>Customer</td>\n",
       "      <td>No</td>\n",
       "      <td>2535</td>\n",
       "    </tr>\n",
       "    <tr>\n",
       "      <th>2019-02-28</th>\n",
       "      <td>2019-03-01 05:24:08.146</td>\n",
       "      <td>61854</td>\n",
       "      <td>Customer</td>\n",
       "      <td>No</td>\n",
       "      <td>5905</td>\n",
       "    </tr>\n",
       "    <tr>\n",
       "      <th>2019-02-28</th>\n",
       "      <td>2019-03-01 04:02:36.842</td>\n",
       "      <td>36490</td>\n",
       "      <td>Subscriber</td>\n",
       "      <td>No</td>\n",
       "      <td>6638</td>\n",
       "    </tr>\n",
       "    <tr>\n",
       "      <th>2019-02-28</th>\n",
       "      <td>2019-03-01 00:20:44.074</td>\n",
       "      <td>1585</td>\n",
       "      <td>Subscriber</td>\n",
       "      <td>Yes</td>\n",
       "      <td>4898</td>\n",
       "    </tr>\n",
       "  </tbody>\n",
       "</table>\n",
       "</div>"
      ],
      "text/plain": [
       "                          end_time  duration_sec   user_type  \\\n",
       "start_time                                                     \n",
       "2019-02-28 2019-03-01 08:01:55.975         52185    Customer   \n",
       "2019-02-28 2019-03-01 06:42:03.056         42521    Customer   \n",
       "2019-02-28 2019-03-01 05:24:08.146         61854    Customer   \n",
       "2019-02-28 2019-03-01 04:02:36.842         36490  Subscriber   \n",
       "2019-02-28 2019-03-01 00:20:44.074          1585  Subscriber   \n",
       "\n",
       "           bike_share_for_all_trip  bike_id  \n",
       "start_time                                   \n",
       "2019-02-28                      No     4902  \n",
       "2019-02-28                      No     2535  \n",
       "2019-02-28                      No     5905  \n",
       "2019-02-28                      No     6638  \n",
       "2019-02-28                     Yes     4898  "
      ]
     },
     "execution_count": 36,
     "metadata": {},
     "output_type": "execute_result"
    }
   ],
   "source": [
    "# verify the copy\n",
    "day_idx_trip_df.head()"
   ]
  },
  {
   "cell_type": "code",
   "execution_count": 37,
   "id": "02a15b98-d5a1-4f1e-9279-0dd566b75d8d",
   "metadata": {},
   "outputs": [],
   "source": [
    "# convert start time index to local weekday \n",
    "day_idx_trip_df.index = day_idx_trip_df.index.strftime(\"%A\")"
   ]
  },
  {
   "cell_type": "code",
   "execution_count": 38,
   "id": "7b007a92-b61e-4c40-8dad-0aa604c4ea3c",
   "metadata": {},
   "outputs": [
    {
     "data": {
      "text/html": [
       "<div>\n",
       "<style scoped>\n",
       "    .dataframe tbody tr th:only-of-type {\n",
       "        vertical-align: middle;\n",
       "    }\n",
       "\n",
       "    .dataframe tbody tr th {\n",
       "        vertical-align: top;\n",
       "    }\n",
       "\n",
       "    .dataframe thead th {\n",
       "        text-align: right;\n",
       "    }\n",
       "</style>\n",
       "<table border=\"1\" class=\"dataframe\">\n",
       "  <thead>\n",
       "    <tr style=\"text-align: right;\">\n",
       "      <th></th>\n",
       "      <th>end_time</th>\n",
       "      <th>duration_sec</th>\n",
       "      <th>user_type</th>\n",
       "      <th>bike_share_for_all_trip</th>\n",
       "      <th>bike_id</th>\n",
       "    </tr>\n",
       "    <tr>\n",
       "      <th>start_time</th>\n",
       "      <th></th>\n",
       "      <th></th>\n",
       "      <th></th>\n",
       "      <th></th>\n",
       "      <th></th>\n",
       "    </tr>\n",
       "  </thead>\n",
       "  <tbody>\n",
       "    <tr>\n",
       "      <th>Wednesday</th>\n",
       "      <td>2019-02-13 08:53:35.032</td>\n",
       "      <td>458</td>\n",
       "      <td>Subscriber</td>\n",
       "      <td>No</td>\n",
       "      <td>5047</td>\n",
       "    </tr>\n",
       "    <tr>\n",
       "      <th>Wednesday</th>\n",
       "      <td>2019-02-20 19:29:58.614</td>\n",
       "      <td>1015</td>\n",
       "      <td>Subscriber</td>\n",
       "      <td>No</td>\n",
       "      <td>6608</td>\n",
       "    </tr>\n",
       "    <tr>\n",
       "      <th>Wednesday</th>\n",
       "      <td>2019-02-20 09:42:52.220</td>\n",
       "      <td>748</td>\n",
       "      <td>Subscriber</td>\n",
       "      <td>No</td>\n",
       "      <td>3589</td>\n",
       "    </tr>\n",
       "  </tbody>\n",
       "</table>\n",
       "</div>"
      ],
      "text/plain": [
       "                          end_time  duration_sec   user_type  \\\n",
       "start_time                                                     \n",
       "Wednesday  2019-02-13 08:53:35.032           458  Subscriber   \n",
       "Wednesday  2019-02-20 19:29:58.614          1015  Subscriber   \n",
       "Wednesday  2019-02-20 09:42:52.220           748  Subscriber   \n",
       "\n",
       "           bike_share_for_all_trip  bike_id  \n",
       "start_time                                   \n",
       "Wednesday                       No     5047  \n",
       "Wednesday                       No     6608  \n",
       "Wednesday                       No     3589  "
      ]
     },
     "execution_count": 38,
     "metadata": {},
     "output_type": "execute_result"
    }
   ],
   "source": [
    "# confirm local weekday conversion \n",
    "day_idx_trip_df.sample(3)"
   ]
  },
  {
   "cell_type": "code",
   "execution_count": 39,
   "id": "59eea395-61e5-40a5-b90e-99a1d27fc45c",
   "metadata": {},
   "outputs": [
    {
     "data": {
      "image/png": "[encoded data removed]",
      "text/plain": [
       "<Figure size 432x288 with 1 Axes>"
      ]
     },
     "metadata": {
      "needs_background": "light"
     },
     "output_type": "display_data"
    }
   ],
   "source": [
    "sb.countplot(x=day_idx_trip_df.index, color=color_palette)\n",
    "plt.xticks(rotation=90);\n",
    "plt.xlabel(\"Week Day\");"
   ]
  },
  {
   "cell_type": "markdown",
   "id": "74d72ba1-a7d3-4f6a-9a19-026f298f70f7",
   "metadata": {},
   "source": [
    "Thursday clearly shows the day of the week when most trip are taking with a total value of **35,000** recorded for thursday"
   ]
  },
  {
   "cell_type": "markdown",
   "id": "8f62b29e-984a-44be-bc4a-5aa43aae68ac",
   "metadata": {},
   "source": [
    "#### Further Analysis\n",
    "\n",
    "_Having known that most of the trips are recorded on Thursday, at what time are the trip recorded for on thursday ?_"
   ]
  },
  {
   "cell_type": "code",
   "execution_count": 40,
   "id": "b36c4d9e-b771-4d68-8de8-7c4776b5394c",
   "metadata": {},
   "outputs": [],
   "source": [
    "thursday_trip_df = trip_df.copy()"
   ]
  },
  {
   "cell_type": "code",
   "execution_count": 41,
   "id": "19d58e29-905b-4a57-8f7e-ae5f40c4fd82",
   "metadata": {},
   "outputs": [
    {
     "data": {
      "text/html": [
       "<div>\n",
       "<style scoped>\n",
       "    .dataframe tbody tr th:only-of-type {\n",
       "        vertical-align: middle;\n",
       "    }\n",
       "\n",
       "    .dataframe tbody tr th {\n",
       "        vertical-align: top;\n",
       "    }\n",
       "\n",
       "    .dataframe thead th {\n",
       "        text-align: right;\n",
       "    }\n",
       "</style>\n",
       "<table border=\"1\" class=\"dataframe\">\n",
       "  <thead>\n",
       "    <tr style=\"text-align: right;\">\n",
       "      <th></th>\n",
       "      <th>start_time</th>\n",
       "      <th>end_time</th>\n",
       "      <th>duration_sec</th>\n",
       "      <th>user_type</th>\n",
       "      <th>bike_share_for_all_trip</th>\n",
       "      <th>bike_id</th>\n",
       "    </tr>\n",
       "  </thead>\n",
       "  <tbody>\n",
       "    <tr>\n",
       "      <th>0</th>\n",
       "      <td>2019-02-28 17:32:10.145</td>\n",
       "      <td>2019-03-01 08:01:55.975</td>\n",
       "      <td>52185</td>\n",
       "      <td>Customer</td>\n",
       "      <td>No</td>\n",
       "      <td>4902</td>\n",
       "    </tr>\n",
       "    <tr>\n",
       "      <th>1</th>\n",
       "      <td>2019-02-28 18:53:21.789</td>\n",
       "      <td>2019-03-01 06:42:03.056</td>\n",
       "      <td>42521</td>\n",
       "      <td>Customer</td>\n",
       "      <td>No</td>\n",
       "      <td>2535</td>\n",
       "    </tr>\n",
       "    <tr>\n",
       "      <th>2</th>\n",
       "      <td>2019-02-28 12:13:13.218</td>\n",
       "      <td>2019-03-01 05:24:08.146</td>\n",
       "      <td>61854</td>\n",
       "      <td>Customer</td>\n",
       "      <td>No</td>\n",
       "      <td>5905</td>\n",
       "    </tr>\n",
       "    <tr>\n",
       "      <th>3</th>\n",
       "      <td>2019-02-28 17:54:26.010</td>\n",
       "      <td>2019-03-01 04:02:36.842</td>\n",
       "      <td>36490</td>\n",
       "      <td>Subscriber</td>\n",
       "      <td>No</td>\n",
       "      <td>6638</td>\n",
       "    </tr>\n",
       "    <tr>\n",
       "      <th>4</th>\n",
       "      <td>2019-02-28 23:54:18.549</td>\n",
       "      <td>2019-03-01 00:20:44.074</td>\n",
       "      <td>1585</td>\n",
       "      <td>Subscriber</td>\n",
       "      <td>Yes</td>\n",
       "      <td>4898</td>\n",
       "    </tr>\n",
       "  </tbody>\n",
       "</table>\n",
       "</div>"
      ],
      "text/plain": [
       "               start_time                end_time  duration_sec   user_type  \\\n",
       "0 2019-02-28 17:32:10.145 2019-03-01 08:01:55.975         52185    Customer   \n",
       "1 2019-02-28 18:53:21.789 2019-03-01 06:42:03.056         42521    Customer   \n",
       "2 2019-02-28 12:13:13.218 2019-03-01 05:24:08.146         61854    Customer   \n",
       "3 2019-02-28 17:54:26.010 2019-03-01 04:02:36.842         36490  Subscriber   \n",
       "4 2019-02-28 23:54:18.549 2019-03-01 00:20:44.074          1585  Subscriber   \n",
       "\n",
       "  bike_share_for_all_trip  bike_id  \n",
       "0                      No     4902  \n",
       "1                      No     2535  \n",
       "2                      No     5905  \n",
       "3                      No     6638  \n",
       "4                     Yes     4898  "
      ]
     },
     "execution_count": 41,
     "metadata": {},
     "output_type": "execute_result"
    }
   ],
   "source": [
    "thursday_trip_df.head()"
   ]
  },
  {
   "cell_type": "code",
   "execution_count": 42,
   "id": "06d2bc7e-1fcf-4776-a03b-5e70af252147",
   "metadata": {},
   "outputs": [],
   "source": [
    "# Create new variable to hold local weekday\n",
    "thursday_trip_df['weekday'] = pd.to_datetime(thursday_trip_df.start_time).apply(lambda x: x.strftime(\"%A\"))"
   ]
  },
  {
   "cell_type": "code",
   "execution_count": 43,
   "id": "4d58fa47-a0ed-47f9-9cce-1b923a781185",
   "metadata": {},
   "outputs": [
    {
     "data": {
      "text/html": [
       "<div>\n",
       "<style scoped>\n",
       "    .dataframe tbody tr th:only-of-type {\n",
       "        vertical-align: middle;\n",
       "    }\n",
       "\n",
       "    .dataframe tbody tr th {\n",
       "        vertical-align: top;\n",
       "    }\n",
       "\n",
       "    .dataframe thead th {\n",
       "        text-align: right;\n",
       "    }\n",
       "</style>\n",
       "<table border=\"1\" class=\"dataframe\">\n",
       "  <thead>\n",
       "    <tr style=\"text-align: right;\">\n",
       "      <th></th>\n",
       "      <th>start_time</th>\n",
       "      <th>end_time</th>\n",
       "      <th>duration_sec</th>\n",
       "      <th>user_type</th>\n",
       "      <th>bike_share_for_all_trip</th>\n",
       "      <th>bike_id</th>\n",
       "      <th>weekday</th>\n",
       "    </tr>\n",
       "  </thead>\n",
       "  <tbody>\n",
       "    <tr>\n",
       "      <th>4000</th>\n",
       "      <td>2019-02-28 16:42:49.962</td>\n",
       "      <td>2019-02-28 16:46:34.383</td>\n",
       "      <td>224</td>\n",
       "      <td>Subscriber</td>\n",
       "      <td>No</td>\n",
       "      <td>5881</td>\n",
       "      <td>Thursday</td>\n",
       "    </tr>\n",
       "    <tr>\n",
       "      <th>86378</th>\n",
       "      <td>2019-02-17 12:56:42.457</td>\n",
       "      <td>2019-02-17 13:04:54.489</td>\n",
       "      <td>492</td>\n",
       "      <td>Subscriber</td>\n",
       "      <td>No</td>\n",
       "      <td>5912</td>\n",
       "      <td>Sunday</td>\n",
       "    </tr>\n",
       "    <tr>\n",
       "      <th>66932</th>\n",
       "      <td>2019-02-20 08:25:01.130</td>\n",
       "      <td>2019-02-20 08:31:06.625</td>\n",
       "      <td>365</td>\n",
       "      <td>Subscriber</td>\n",
       "      <td>No</td>\n",
       "      <td>6603</td>\n",
       "      <td>Wednesday</td>\n",
       "    </tr>\n",
       "  </tbody>\n",
       "</table>\n",
       "</div>"
      ],
      "text/plain": [
       "                   start_time                end_time  duration_sec  \\\n",
       "4000  2019-02-28 16:42:49.962 2019-02-28 16:46:34.383           224   \n",
       "86378 2019-02-17 12:56:42.457 2019-02-17 13:04:54.489           492   \n",
       "66932 2019-02-20 08:25:01.130 2019-02-20 08:31:06.625           365   \n",
       "\n",
       "        user_type bike_share_for_all_trip  bike_id    weekday  \n",
       "4000   Subscriber                      No     5881   Thursday  \n",
       "86378  Subscriber                      No     5912     Sunday  \n",
       "66932  Subscriber                      No     6603  Wednesday  "
      ]
     },
     "execution_count": 43,
     "metadata": {},
     "output_type": "execute_result"
    }
   ],
   "source": [
    "thursday_trip_df.sample(3)"
   ]
  },
  {
   "cell_type": "code",
   "execution_count": 44,
   "id": "8bb05a17-4d63-47b7-a510-455e9b2bfc7e",
   "metadata": {},
   "outputs": [],
   "source": [
    "# create new variable to hold time of the day\n",
    "thursday_trip_df['time'] = thursday_trip_df.start_time.apply(lambda x: x.strftime(\"%H:%m\"))"
   ]
  },
  {
   "cell_type": "code",
   "execution_count": 45,
   "id": "5066421d-e535-49f8-876a-d6138eb96415",
   "metadata": {},
   "outputs": [
    {
     "data": {
      "text/html": [
       "<div>\n",
       "<style scoped>\n",
       "    .dataframe tbody tr th:only-of-type {\n",
       "        vertical-align: middle;\n",
       "    }\n",
       "\n",
       "    .dataframe tbody tr th {\n",
       "        vertical-align: top;\n",
       "    }\n",
       "\n",
       "    .dataframe thead th {\n",
       "        text-align: right;\n",
       "    }\n",
       "</style>\n",
       "<table border=\"1\" class=\"dataframe\">\n",
       "  <thead>\n",
       "    <tr style=\"text-align: right;\">\n",
       "      <th></th>\n",
       "      <th>start_time</th>\n",
       "      <th>end_time</th>\n",
       "      <th>duration_sec</th>\n",
       "      <th>user_type</th>\n",
       "      <th>bike_share_for_all_trip</th>\n",
       "      <th>bike_id</th>\n",
       "      <th>weekday</th>\n",
       "      <th>time</th>\n",
       "    </tr>\n",
       "  </thead>\n",
       "  <tbody>\n",
       "    <tr>\n",
       "      <th>152375</th>\n",
       "      <td>2019-02-06 16:00:22.666</td>\n",
       "      <td>2019-02-06 16:03:40.063</td>\n",
       "      <td>197</td>\n",
       "      <td>Subscriber</td>\n",
       "      <td>No</td>\n",
       "      <td>5217</td>\n",
       "      <td>Wednesday</td>\n",
       "      <td>16:02</td>\n",
       "    </tr>\n",
       "    <tr>\n",
       "      <th>166422</th>\n",
       "      <td>2019-02-04 18:49:41.161</td>\n",
       "      <td>2019-02-04 19:01:38.126</td>\n",
       "      <td>716</td>\n",
       "      <td>Subscriber</td>\n",
       "      <td>No</td>\n",
       "      <td>2947</td>\n",
       "      <td>Monday</td>\n",
       "      <td>18:02</td>\n",
       "    </tr>\n",
       "    <tr>\n",
       "      <th>176088</th>\n",
       "      <td>2019-02-02 12:27:16.837</td>\n",
       "      <td>2019-02-02 12:41:53.171</td>\n",
       "      <td>876</td>\n",
       "      <td>Subscriber</td>\n",
       "      <td>No</td>\n",
       "      <td>4768</td>\n",
       "      <td>Saturday</td>\n",
       "      <td>12:02</td>\n",
       "    </tr>\n",
       "  </tbody>\n",
       "</table>\n",
       "</div>"
      ],
      "text/plain": [
       "                    start_time                end_time  duration_sec  \\\n",
       "152375 2019-02-06 16:00:22.666 2019-02-06 16:03:40.063           197   \n",
       "166422 2019-02-04 18:49:41.161 2019-02-04 19:01:38.126           716   \n",
       "176088 2019-02-02 12:27:16.837 2019-02-02 12:41:53.171           876   \n",
       "\n",
       "         user_type bike_share_for_all_trip  bike_id    weekday   time  \n",
       "152375  Subscriber                      No     5217  Wednesday  16:02  \n",
       "166422  Subscriber                      No     2947     Monday  18:02  \n",
       "176088  Subscriber                      No     4768   Saturday  12:02  "
      ]
     },
     "execution_count": 45,
     "metadata": {},
     "output_type": "execute_result"
    }
   ],
   "source": [
    "thursday_trip_df.sample(3)"
   ]
  },
  {
   "cell_type": "code",
   "execution_count": 46,
   "id": "e605378e-4fd9-414f-8343-775005b6ca02",
   "metadata": {},
   "outputs": [],
   "source": [
    "# only select thursday trip\n",
    "thursday_trip_df = thursday_trip_df[thursday_trip_df['weekday'] == 'Thursday']"
   ]
  },
  {
   "cell_type": "code",
   "execution_count": 47,
   "id": "f8430d9d-e803-4443-adeb-265014c92b32",
   "metadata": {},
   "outputs": [
    {
     "data": {
      "text/html": [
       "<div>\n",
       "<style scoped>\n",
       "    .dataframe tbody tr th:only-of-type {\n",
       "        vertical-align: middle;\n",
       "    }\n",
       "\n",
       "    .dataframe tbody tr th {\n",
       "        vertical-align: top;\n",
       "    }\n",
       "\n",
       "    .dataframe thead th {\n",
       "        text-align: right;\n",
       "    }\n",
       "</style>\n",
       "<table border=\"1\" class=\"dataframe\">\n",
       "  <thead>\n",
       "    <tr style=\"text-align: right;\">\n",
       "      <th></th>\n",
       "      <th>start_time</th>\n",
       "      <th>end_time</th>\n",
       "      <th>duration_sec</th>\n",
       "      <th>user_type</th>\n",
       "      <th>bike_share_for_all_trip</th>\n",
       "      <th>bike_id</th>\n",
       "      <th>weekday</th>\n",
       "      <th>time</th>\n",
       "    </tr>\n",
       "  </thead>\n",
       "  <tbody>\n",
       "    <tr>\n",
       "      <th>5043</th>\n",
       "      <td>2019-02-28 14:15:00.691</td>\n",
       "      <td>2019-02-28 14:20:43.089</td>\n",
       "      <td>342</td>\n",
       "      <td>Subscriber</td>\n",
       "      <td>No</td>\n",
       "      <td>4658</td>\n",
       "      <td>Thursday</td>\n",
       "      <td>14:02</td>\n",
       "    </tr>\n",
       "    <tr>\n",
       "      <th>103525</th>\n",
       "      <td>2019-02-14 12:34:07.720</td>\n",
       "      <td>2019-02-14 12:38:02.795</td>\n",
       "      <td>235</td>\n",
       "      <td>Subscriber</td>\n",
       "      <td>Yes</td>\n",
       "      <td>4683</td>\n",
       "      <td>Thursday</td>\n",
       "      <td>12:02</td>\n",
       "    </tr>\n",
       "    <tr>\n",
       "      <th>51269</th>\n",
       "      <td>2019-02-21 18:15:16.460</td>\n",
       "      <td>2019-02-21 18:19:26.005</td>\n",
       "      <td>249</td>\n",
       "      <td>Subscriber</td>\n",
       "      <td>No</td>\n",
       "      <td>2674</td>\n",
       "      <td>Thursday</td>\n",
       "      <td>18:02</td>\n",
       "    </tr>\n",
       "  </tbody>\n",
       "</table>\n",
       "</div>"
      ],
      "text/plain": [
       "                    start_time                end_time  duration_sec  \\\n",
       "5043   2019-02-28 14:15:00.691 2019-02-28 14:20:43.089           342   \n",
       "103525 2019-02-14 12:34:07.720 2019-02-14 12:38:02.795           235   \n",
       "51269  2019-02-21 18:15:16.460 2019-02-21 18:19:26.005           249   \n",
       "\n",
       "         user_type bike_share_for_all_trip  bike_id   weekday   time  \n",
       "5043    Subscriber                      No     4658  Thursday  14:02  \n",
       "103525  Subscriber                     Yes     4683  Thursday  12:02  \n",
       "51269   Subscriber                      No     2674  Thursday  18:02  "
      ]
     },
     "execution_count": 47,
     "metadata": {},
     "output_type": "execute_result"
    }
   ],
   "source": [
    "thursday_trip_df.sample(3)"
   ]
  },
  {
   "cell_type": "code",
   "execution_count": 48,
   "id": "9678389e-bfc1-47b7-bc9f-6fa53a3e0498",
   "metadata": {},
   "outputs": [
    {
     "data": {
      "image/png": "[encoded data removed]",
      "text/plain": [
       "<Figure size 432x288 with 1 Axes>"
      ]
     },
     "metadata": {
      "needs_background": "light"
     },
     "output_type": "display_data"
    }
   ],
   "source": [
    "sb.countplot(x=thursday_trip_df.time, color=color_palette)\n",
    "plt.xticks(rotation=90);"
   ]
  },
  {
   "cell_type": "markdown",
   "id": "3fd506e6-fd0d-4b9b-8ff9-af4c7cc6c504",
   "metadata": {},
   "source": [
    "Around **4,900** trip records was tracked on **17:02** on Thursday"
   ]
  },
  {
   "cell_type": "markdown",
   "id": "1a4bce19-2bac-4af0-9915-0b8fea50481b",
   "metadata": {},
   "source": [
    "### when are most trips taken in terms of Month of the year ( QUESTION )"
   ]
  },
  {
   "cell_type": "code",
   "execution_count": 49,
   "id": "f170cdd5-7086-445c-abb1-c985e47a7729",
   "metadata": {},
   "outputs": [],
   "source": [
    "# make a copy of trip dataset \n",
    "month_trip_df = trip_df.copy()"
   ]
  },
  {
   "cell_type": "code",
   "execution_count": 50,
   "id": "b7724863-7292-47ce-9451-e85dd1cd8c3c",
   "metadata": {},
   "outputs": [
    {
     "data": {
      "text/html": [
       "<div>\n",
       "<style scoped>\n",
       "    .dataframe tbody tr th:only-of-type {\n",
       "        vertical-align: middle;\n",
       "    }\n",
       "\n",
       "    .dataframe tbody tr th {\n",
       "        vertical-align: top;\n",
       "    }\n",
       "\n",
       "    .dataframe thead th {\n",
       "        text-align: right;\n",
       "    }\n",
       "</style>\n",
       "<table border=\"1\" class=\"dataframe\">\n",
       "  <thead>\n",
       "    <tr style=\"text-align: right;\">\n",
       "      <th></th>\n",
       "      <th>start_time</th>\n",
       "      <th>end_time</th>\n",
       "      <th>duration_sec</th>\n",
       "      <th>user_type</th>\n",
       "      <th>bike_share_for_all_trip</th>\n",
       "      <th>bike_id</th>\n",
       "    </tr>\n",
       "  </thead>\n",
       "  <tbody>\n",
       "    <tr>\n",
       "      <th>68317</th>\n",
       "      <td>2019-02-19 23:58:58.720</td>\n",
       "      <td>2019-02-20 00:12:24.764</td>\n",
       "      <td>806</td>\n",
       "      <td>Subscriber</td>\n",
       "      <td>No</td>\n",
       "      <td>4647</td>\n",
       "    </tr>\n",
       "    <tr>\n",
       "      <th>67609</th>\n",
       "      <td>2019-02-20 07:34:38.360</td>\n",
       "      <td>2019-02-20 07:51:54.669</td>\n",
       "      <td>1036</td>\n",
       "      <td>Subscriber</td>\n",
       "      <td>No</td>\n",
       "      <td>1493</td>\n",
       "    </tr>\n",
       "    <tr>\n",
       "      <th>133292</th>\n",
       "      <td>2019-02-08 19:23:48.263</td>\n",
       "      <td>2019-02-08 19:32:54.035</td>\n",
       "      <td>545</td>\n",
       "      <td>Customer</td>\n",
       "      <td>No</td>\n",
       "      <td>1044</td>\n",
       "    </tr>\n",
       "  </tbody>\n",
       "</table>\n",
       "</div>"
      ],
      "text/plain": [
       "                    start_time                end_time  duration_sec  \\\n",
       "68317  2019-02-19 23:58:58.720 2019-02-20 00:12:24.764           806   \n",
       "67609  2019-02-20 07:34:38.360 2019-02-20 07:51:54.669          1036   \n",
       "133292 2019-02-08 19:23:48.263 2019-02-08 19:32:54.035           545   \n",
       "\n",
       "         user_type bike_share_for_all_trip  bike_id  \n",
       "68317   Subscriber                      No     4647  \n",
       "67609   Subscriber                      No     1493  \n",
       "133292    Customer                      No     1044  "
      ]
     },
     "execution_count": 50,
     "metadata": {},
     "output_type": "execute_result"
    }
   ],
   "source": [
    "month_trip_df.sample(3)"
   ]
  },
  {
   "cell_type": "code",
   "execution_count": 51,
   "id": "cde5b813-316e-4bf6-ac0b-95c479b54469",
   "metadata": {},
   "outputs": [],
   "source": [
    "# create a new variable off the start time for month \n",
    "month_trip_df['month'] = month_trip_df.start_time.apply(lambda x: x.strftime(\"%B\"))"
   ]
  },
  {
   "cell_type": "code",
   "execution_count": 52,
   "id": "1911f33f-bcd1-41cb-84cd-695e7158226a",
   "metadata": {},
   "outputs": [
    {
     "data": {
      "text/html": [
       "<div>\n",
       "<style scoped>\n",
       "    .dataframe tbody tr th:only-of-type {\n",
       "        vertical-align: middle;\n",
       "    }\n",
       "\n",
       "    .dataframe tbody tr th {\n",
       "        vertical-align: top;\n",
       "    }\n",
       "\n",
       "    .dataframe thead th {\n",
       "        text-align: right;\n",
       "    }\n",
       "</style>\n",
       "<table border=\"1\" class=\"dataframe\">\n",
       "  <thead>\n",
       "    <tr style=\"text-align: right;\">\n",
       "      <th></th>\n",
       "      <th>start_time</th>\n",
       "      <th>end_time</th>\n",
       "      <th>duration_sec</th>\n",
       "      <th>user_type</th>\n",
       "      <th>bike_share_for_all_trip</th>\n",
       "      <th>bike_id</th>\n",
       "      <th>month</th>\n",
       "    </tr>\n",
       "  </thead>\n",
       "  <tbody>\n",
       "    <tr>\n",
       "      <th>84983</th>\n",
       "      <td>2019-02-17 15:49:51.325</td>\n",
       "      <td>2019-02-17 16:25:47.241</td>\n",
       "      <td>2155</td>\n",
       "      <td>Subscriber</td>\n",
       "      <td>No</td>\n",
       "      <td>6201</td>\n",
       "      <td>February</td>\n",
       "    </tr>\n",
       "    <tr>\n",
       "      <th>99397</th>\n",
       "      <td>2019-02-14 19:42:02.856</td>\n",
       "      <td>2019-02-14 20:13:13.317</td>\n",
       "      <td>1870</td>\n",
       "      <td>Customer</td>\n",
       "      <td>No</td>\n",
       "      <td>6233</td>\n",
       "      <td>February</td>\n",
       "    </tr>\n",
       "    <tr>\n",
       "      <th>62926</th>\n",
       "      <td>2019-02-20 16:15:40.936</td>\n",
       "      <td>2019-02-20 16:20:50.322</td>\n",
       "      <td>309</td>\n",
       "      <td>Subscriber</td>\n",
       "      <td>No</td>\n",
       "      <td>6403</td>\n",
       "      <td>February</td>\n",
       "    </tr>\n",
       "  </tbody>\n",
       "</table>\n",
       "</div>"
      ],
      "text/plain": [
       "                   start_time                end_time  duration_sec  \\\n",
       "84983 2019-02-17 15:49:51.325 2019-02-17 16:25:47.241          2155   \n",
       "99397 2019-02-14 19:42:02.856 2019-02-14 20:13:13.317          1870   \n",
       "62926 2019-02-20 16:15:40.936 2019-02-20 16:20:50.322           309   \n",
       "\n",
       "        user_type bike_share_for_all_trip  bike_id     month  \n",
       "84983  Subscriber                      No     6201  February  \n",
       "99397    Customer                      No     6233  February  \n",
       "62926  Subscriber                      No     6403  February  "
      ]
     },
     "execution_count": 52,
     "metadata": {},
     "output_type": "execute_result"
    }
   ],
   "source": [
    "month_trip_df.sample(3)"
   ]
  },
  {
   "cell_type": "code",
   "execution_count": 53,
   "id": "5602e11b-c9a2-4d98-b247-67e8afa3906c",
   "metadata": {},
   "outputs": [],
   "source": [
    "# create a new variable off the start time for year \n",
    "month_trip_df['year'] = month_trip_df.start_time.apply(lambda x: x.strftime(\"%Y\"))"
   ]
  },
  {
   "cell_type": "code",
   "execution_count": 54,
   "id": "7d81e96f-3a04-4839-9239-ab1ab733b9fa",
   "metadata": {},
   "outputs": [
    {
     "data": {
      "text/html": [
       "<div>\n",
       "<style scoped>\n",
       "    .dataframe tbody tr th:only-of-type {\n",
       "        vertical-align: middle;\n",
       "    }\n",
       "\n",
       "    .dataframe tbody tr th {\n",
       "        vertical-align: top;\n",
       "    }\n",
       "\n",
       "    .dataframe thead th {\n",
       "        text-align: right;\n",
       "    }\n",
       "</style>\n",
       "<table border=\"1\" class=\"dataframe\">\n",
       "  <thead>\n",
       "    <tr style=\"text-align: right;\">\n",
       "      <th></th>\n",
       "      <th>start_time</th>\n",
       "      <th>end_time</th>\n",
       "      <th>duration_sec</th>\n",
       "      <th>user_type</th>\n",
       "      <th>bike_share_for_all_trip</th>\n",
       "      <th>bike_id</th>\n",
       "      <th>month</th>\n",
       "      <th>year</th>\n",
       "    </tr>\n",
       "  </thead>\n",
       "  <tbody>\n",
       "    <tr>\n",
       "      <th>52300</th>\n",
       "      <td>2019-02-21 17:24:21.910</td>\n",
       "      <td>2019-02-21 17:27:39.228</td>\n",
       "      <td>197</td>\n",
       "      <td>Subscriber</td>\n",
       "      <td>No</td>\n",
       "      <td>5619</td>\n",
       "      <td>February</td>\n",
       "      <td>2019</td>\n",
       "    </tr>\n",
       "    <tr>\n",
       "      <th>161562</th>\n",
       "      <td>2019-02-05 14:12:49.738</td>\n",
       "      <td>2019-02-05 14:37:03.311</td>\n",
       "      <td>1453</td>\n",
       "      <td>Customer</td>\n",
       "      <td>No</td>\n",
       "      <td>1883</td>\n",
       "      <td>February</td>\n",
       "      <td>2019</td>\n",
       "    </tr>\n",
       "    <tr>\n",
       "      <th>11569</th>\n",
       "      <td>2019-02-27 18:28:37.545</td>\n",
       "      <td>2019-02-27 18:35:49.878</td>\n",
       "      <td>432</td>\n",
       "      <td>Subscriber</td>\n",
       "      <td>No</td>\n",
       "      <td>5017</td>\n",
       "      <td>February</td>\n",
       "      <td>2019</td>\n",
       "    </tr>\n",
       "  </tbody>\n",
       "</table>\n",
       "</div>"
      ],
      "text/plain": [
       "                    start_time                end_time  duration_sec  \\\n",
       "52300  2019-02-21 17:24:21.910 2019-02-21 17:27:39.228           197   \n",
       "161562 2019-02-05 14:12:49.738 2019-02-05 14:37:03.311          1453   \n",
       "11569  2019-02-27 18:28:37.545 2019-02-27 18:35:49.878           432   \n",
       "\n",
       "         user_type bike_share_for_all_trip  bike_id     month  year  \n",
       "52300   Subscriber                      No     5619  February  2019  \n",
       "161562    Customer                      No     1883  February  2019  \n",
       "11569   Subscriber                      No     5017  February  2019  "
      ]
     },
     "execution_count": 54,
     "metadata": {},
     "output_type": "execute_result"
    }
   ],
   "source": [
    "month_trip_df.sample(3)"
   ]
  },
  {
   "cell_type": "code",
   "execution_count": 55,
   "id": "98ae5019-3981-40e2-8616-c3862c35418b",
   "metadata": {},
   "outputs": [
    {
     "data": {
      "text/plain": [
       "1"
      ]
     },
     "execution_count": 55,
     "metadata": {},
     "output_type": "execute_result"
    }
   ],
   "source": [
    "month_trip_df.year.nunique()"
   ]
  },
  {
   "cell_type": "code",
   "execution_count": 56,
   "id": "fdafeaeb-b559-4251-b8f8-0b962b060671",
   "metadata": {},
   "outputs": [
    {
     "data": {
      "text/plain": [
       "1"
      ]
     },
     "execution_count": 56,
     "metadata": {},
     "output_type": "execute_result"
    }
   ],
   "source": [
    "month_trip_df.month.nunique()"
   ]
  },
  {
   "cell_type": "code",
   "execution_count": 57,
   "id": "fa257a27-66a1-4cd0-9afd-774903448b1e",
   "metadata": {},
   "outputs": [
    {
     "data": {
      "text/plain": [
       "(183412, 8)"
      ]
     },
     "execution_count": 57,
     "metadata": {},
     "output_type": "execute_result"
    }
   ],
   "source": [
    "month_trip_df.shape"
   ]
  },
  {
   "cell_type": "markdown",
   "id": "7a89f693-d18e-4f6a-bc02-7275aec95ab5",
   "metadata": {},
   "source": [
    "_There's only one month ( **February** ) and only one year ( **2019** ) for which all the observations are recorded_"
   ]
  },
  {
   "cell_type": "markdown",
   "id": "f4cac1b6-73d0-42db-8019-9a8d60f6f440",
   "metadata": {},
   "source": [
    "### How long does the average trip take? ( QUESTION )"
   ]
  },
  {
   "cell_type": "code",
   "execution_count": 58,
   "id": "405e1201-f09e-4b10-8f5d-8cbfecb92056",
   "metadata": {},
   "outputs": [
    {
     "data": {
      "text/html": [
       "<div>\n",
       "<style scoped>\n",
       "    .dataframe tbody tr th:only-of-type {\n",
       "        vertical-align: middle;\n",
       "    }\n",
       "\n",
       "    .dataframe tbody tr th {\n",
       "        vertical-align: top;\n",
       "    }\n",
       "\n",
       "    .dataframe thead th {\n",
       "        text-align: right;\n",
       "    }\n",
       "</style>\n",
       "<table border=\"1\" class=\"dataframe\">\n",
       "  <thead>\n",
       "    <tr style=\"text-align: right;\">\n",
       "      <th></th>\n",
       "      <th>duration_sec</th>\n",
       "      <th>bike_id</th>\n",
       "    </tr>\n",
       "  </thead>\n",
       "  <tbody>\n",
       "    <tr>\n",
       "      <th>count</th>\n",
       "      <td>183412.000000</td>\n",
       "      <td>183412.000000</td>\n",
       "    </tr>\n",
       "    <tr>\n",
       "      <th>mean</th>\n",
       "      <td>726.078435</td>\n",
       "      <td>4472.906375</td>\n",
       "    </tr>\n",
       "    <tr>\n",
       "      <th>std</th>\n",
       "      <td>1794.389780</td>\n",
       "      <td>1664.383394</td>\n",
       "    </tr>\n",
       "    <tr>\n",
       "      <th>min</th>\n",
       "      <td>61.000000</td>\n",
       "      <td>11.000000</td>\n",
       "    </tr>\n",
       "    <tr>\n",
       "      <th>25%</th>\n",
       "      <td>325.000000</td>\n",
       "      <td>3777.000000</td>\n",
       "    </tr>\n",
       "    <tr>\n",
       "      <th>50%</th>\n",
       "      <td>514.000000</td>\n",
       "      <td>4958.000000</td>\n",
       "    </tr>\n",
       "    <tr>\n",
       "      <th>75%</th>\n",
       "      <td>796.000000</td>\n",
       "      <td>5502.000000</td>\n",
       "    </tr>\n",
       "    <tr>\n",
       "      <th>max</th>\n",
       "      <td>85444.000000</td>\n",
       "      <td>6645.000000</td>\n",
       "    </tr>\n",
       "  </tbody>\n",
       "</table>\n",
       "</div>"
      ],
      "text/plain": [
       "        duration_sec        bike_id\n",
       "count  183412.000000  183412.000000\n",
       "mean      726.078435    4472.906375\n",
       "std      1794.389780    1664.383394\n",
       "min        61.000000      11.000000\n",
       "25%       325.000000    3777.000000\n",
       "50%       514.000000    4958.000000\n",
       "75%       796.000000    5502.000000\n",
       "max     85444.000000    6645.000000"
      ]
     },
     "execution_count": 58,
     "metadata": {},
     "output_type": "execute_result"
    }
   ],
   "source": [
    "trip_df.describe()"
   ]
  },
  {
   "cell_type": "markdown",
   "id": "6ecae60c-15e5-4870-af5f-bd306253ec82",
   "metadata": {},
   "source": [
    "The average trip takes **726.078** seconds"
   ]
  },
  {
   "cell_type": "markdown",
   "id": "870dc2f0-356d-4f5e-a555-418af17c29e2",
   "metadata": {},
   "source": [
    "### Does the above depend on if a user is a subscriber or customer? (QUESTION)"
   ]
  },
  {
   "cell_type": "markdown",
   "id": "b8528e36-aa22-4f25-8ba6-e951305a83c4",
   "metadata": {},
   "source": [
    "#### Checking average trip duration for user type"
   ]
  },
  {
   "cell_type": "code",
   "execution_count": 59,
   "id": "994edef9-55f0-40c8-b07f-ce85b9658650",
   "metadata": {},
   "outputs": [],
   "source": [
    "user_type_df = df.groupby('member_gender').mean()"
   ]
  },
  {
   "cell_type": "code",
   "execution_count": 60,
   "id": "c268e0e0-a469-4a48-b15b-9dc750afa239",
   "metadata": {},
   "outputs": [
    {
     "data": {
      "text/html": [
       "<div>\n",
       "<style scoped>\n",
       "    .dataframe tbody tr th:only-of-type {\n",
       "        vertical-align: middle;\n",
       "    }\n",
       "\n",
       "    .dataframe tbody tr th {\n",
       "        vertical-align: top;\n",
       "    }\n",
       "\n",
       "    .dataframe thead th {\n",
       "        text-align: right;\n",
       "    }\n",
       "</style>\n",
       "<table border=\"1\" class=\"dataframe\">\n",
       "  <thead>\n",
       "    <tr style=\"text-align: right;\">\n",
       "      <th></th>\n",
       "      <th>duration_sec</th>\n",
       "      <th>start_station_id</th>\n",
       "      <th>start_station_latitude</th>\n",
       "      <th>start_station_longitude</th>\n",
       "      <th>end_station_id</th>\n",
       "      <th>end_station_latitude</th>\n",
       "      <th>end_station_longitude</th>\n",
       "      <th>bike_id</th>\n",
       "      <th>member_birth_year</th>\n",
       "    </tr>\n",
       "    <tr>\n",
       "      <th>member_gender</th>\n",
       "      <th></th>\n",
       "      <th></th>\n",
       "      <th></th>\n",
       "      <th></th>\n",
       "      <th></th>\n",
       "      <th></th>\n",
       "      <th></th>\n",
       "      <th></th>\n",
       "      <th></th>\n",
       "    </tr>\n",
       "  </thead>\n",
       "  <tbody>\n",
       "    <tr>\n",
       "      <th>Female</th>\n",
       "      <td>779.070390</td>\n",
       "      <td>138.107046</td>\n",
       "      <td>37.780394</td>\n",
       "      <td>-122.356859</td>\n",
       "      <td>136.301630</td>\n",
       "      <td>37.780557</td>\n",
       "      <td>-122.356215</td>\n",
       "      <td>4396.909020</td>\n",
       "      <td>1985.782538</td>\n",
       "    </tr>\n",
       "    <tr>\n",
       "      <th>Male</th>\n",
       "      <td>672.639069</td>\n",
       "      <td>138.894529</td>\n",
       "      <td>37.767047</td>\n",
       "      <td>-122.349437</td>\n",
       "      <td>136.305908</td>\n",
       "      <td>37.767259</td>\n",
       "      <td>-122.349072</td>\n",
       "      <td>4507.239707</td>\n",
       "      <td>1984.548400</td>\n",
       "    </tr>\n",
       "    <tr>\n",
       "      <th>Other</th>\n",
       "      <td>996.515334</td>\n",
       "      <td>152.867014</td>\n",
       "      <td>37.798435</td>\n",
       "      <td>-122.356042</td>\n",
       "      <td>150.676995</td>\n",
       "      <td>37.798305</td>\n",
       "      <td>-122.355932</td>\n",
       "      <td>4542.819277</td>\n",
       "      <td>1983.121030</td>\n",
       "    </tr>\n",
       "  </tbody>\n",
       "</table>\n",
       "</div>"
      ],
      "text/plain": [
       "               duration_sec  start_station_id  start_station_latitude  \\\n",
       "member_gender                                                           \n",
       "Female           779.070390        138.107046               37.780394   \n",
       "Male             672.639069        138.894529               37.767047   \n",
       "Other            996.515334        152.867014               37.798435   \n",
       "\n",
       "               start_station_longitude  end_station_id  end_station_latitude  \\\n",
       "member_gender                                                                  \n",
       "Female                     -122.356859      136.301630             37.780557   \n",
       "Male                       -122.349437      136.305908             37.767259   \n",
       "Other                      -122.356042      150.676995             37.798305   \n",
       "\n",
       "               end_station_longitude      bike_id  member_birth_year  \n",
       "member_gender                                                         \n",
       "Female                   -122.356215  4396.909020        1985.782538  \n",
       "Male                     -122.349072  4507.239707        1984.548400  \n",
       "Other                    -122.355932  4542.819277        1983.121030  "
      ]
     },
     "execution_count": 60,
     "metadata": {},
     "output_type": "execute_result"
    }
   ],
   "source": [
    "user_type_df"
   ]
  },
  {
   "cell_type": "code",
   "execution_count": 61,
   "id": "464af52e-6c66-40fa-a53f-f368b5dc0c94",
   "metadata": {},
   "outputs": [
    {
     "data": {
      "text/plain": [
       "<BarContainer object of 3 artists>"
      ]
     },
     "execution_count": 61,
     "metadata": {},
     "output_type": "execute_result"
    },
    {
     "data": {
      "image/png": "[encoded data removed]",
      "text/plain": [
       "<Figure size 432x288 with 1 Axes>"
      ]
     },
     "metadata": {
      "needs_background": "light"
     },
     "output_type": "display_data"
    }
   ],
   "source": [
    "plt.bar(user_type_df.index, user_type_df.duration_sec)"
   ]
  },
  {
   "cell_type": "code",
   "execution_count": 62,
   "id": "191b1817-ac62-476d-8266-d349a3e6549d",
   "metadata": {},
   "outputs": [
    {
     "data": {
      "image/png": "[encoded data removed]",
      "text/plain": [
       "<Figure size 432x288 with 1 Axes>"
      ]
     },
     "metadata": {},
     "output_type": "display_data"
    }
   ],
   "source": [
    "plt.pie(\n",
    "    user_type_df.duration_sec, \n",
    "    labels=user_type_df.index, \n",
    "    counterclock=False, \n",
    "    textprops={\"fontsize\": 12, 'color': 'grey'}\n",
    ");"
   ]
  },
  {
   "cell_type": "code",
   "execution_count": 63,
   "id": "6a88043d-611c-4809-a28a-bbc392fc1961",
   "metadata": {},
   "outputs": [
    {
     "data": {
      "image/png": "[encoded data removed]",
      "text/plain": [
       "<Figure size 432x288 with 1 Axes>"
      ]
     },
     "metadata": {},
     "output_type": "display_data"
    }
   ],
   "source": [
    "user_type_df = trip_df.groupby('user_type').mean()\n",
    "plt.pie(\n",
    "    user_type_df.duration_sec, \n",
    "    labels=user_type_df.index, \n",
    "    counterclock=False, \n",
    "    textprops={\"fontsize\": 12, 'color': 'grey'}\n",
    ");"
   ]
  },
  {
   "cell_type": "markdown",
   "id": "c4492791-95bb-4e82-9419-2057f3ddfae2",
   "metadata": {},
   "source": [
    "The average trip duration of **Customer** user type is two times higher than the average trip duration of **Subscriber** user type where the **Customer Average Trip Duration** is around 1,432.47 seconds and **Subscriber Average Trip Duration** is 640.26 seconds"
   ]
  },
  {
   "cell_type": "markdown",
   "id": "1aaef2ac-3c7b-48ec-8d94-723a62bb9b9d",
   "metadata": {},
   "source": [
    "### when are most trips taken in terms of day of the week in respect to user type ( QUESTION )"
   ]
  },
  {
   "cell_type": "code",
   "execution_count": 64,
   "id": "a2c773fe-56e4-407f-b6e1-d1d9d5010870",
   "metadata": {},
   "outputs": [],
   "source": [
    "# reset the index of day trip dataset\n",
    "new_df = day_idx_trip_df.reset_index()"
   ]
  },
  {
   "cell_type": "code",
   "execution_count": 103,
   "id": "2ce4b7b1-dc1b-4378-80cd-ce262c3a9e18",
   "metadata": {},
   "outputs": [],
   "source": [
    "# group the dataset by user type and start time ( weekday equivalent )\n",
    "type_n_day_df = df[['start_time', 'user_type', 'duration_sec']].copy()\n",
    "type_n_day_df['week_day'] = type_n_day_df['start_time'].apply(lambda x: x.strftime(\"%A\"))\n",
    "type_n_day_df = type_n_day_df.groupby(['user_type', 'week_day']).count().reset_index()"
   ]
  },
  {
   "cell_type": "code",
   "execution_count": 104,
   "id": "793204f3-e79e-4083-b88c-c34a0e5524c6",
   "metadata": {},
   "outputs": [
    {
     "data": {
      "text/plain": [
       "CategoricalDtype(categories=['Monday', 'Tuesday', 'Wednesday', 'Thursday', 'Friday',\n",
       "                  'Saturday', 'Sunday'],\n",
       ", ordered=False)"
      ]
     },
     "execution_count": 104,
     "metadata": {},
     "output_type": "execute_result"
    }
   ],
   "source": [
    "# confirm code result\n",
    "week_day = pd.api.types.CategoricalDtype(\n",
    "    categories=['Monday', 'Tuesday', 'Wednesday', 'Thursday', 'Friday', 'Saturday', 'Sunday']\n",
    ")\n",
    "week_day"
   ]
  },
  {
   "cell_type": "code",
   "execution_count": 105,
   "id": "dc191a82-aff5-4f2e-996b-f88f5393e374",
   "metadata": {},
   "outputs": [],
   "source": [
    "type_n_day_df['week_day'] = type_n_day_df['week_day'].astype(week_day)"
   ]
  },
  {
   "cell_type": "code",
   "execution_count": 106,
   "id": "bad4567d-ab57-4f90-88ab-b18b57f70dd5",
   "metadata": {},
   "outputs": [
    {
     "data": {
      "image/png": "[encoded data removed]",
      "text/plain": [
       "<Figure size 432x288 with 1 Axes>"
      ]
     },
     "metadata": {
      "needs_background": "light"
     },
     "output_type": "display_data"
    }
   ],
   "source": [
    "# create a barplot mapping the dataset\n",
    "sb.barplot(data=type_n_day_df, x=\"week_day\", y=\"duration_sec\", hue=\"user_type\")\n",
    "plt.xticks(rotation=15);"
   ]
  },
  {
   "cell_type": "markdown",
   "id": "60e812a7-506a-414d-ac00-2dcf08eb3386",
   "metadata": {},
   "source": [
    "_All trips recorded for Customer falls below 5,000 seconds for trip duration for all weekday with the highest being Thursday with 3,030 duration in seconds. Subscriber takes the highest duration with the maximum recorded trip duration seconds around 30,200 for thursday._"
   ]
  },
  {
   "cell_type": "markdown",
   "id": "e4bdea6a-ba00-46f9-bfe8-e014c418a1cc",
   "metadata": {},
   "source": [
    "### when are most trips taken in terms of time of the day for user type ( QUESTION )"
   ]
  },
  {
   "cell_type": "code",
   "execution_count": 107,
   "id": "2f7d86ad-fffb-47dd-a42d-4378dec90b15",
   "metadata": {},
   "outputs": [
    {
     "data": {
      "text/html": [
       "<div>\n",
       "<style scoped>\n",
       "    .dataframe tbody tr th:only-of-type {\n",
       "        vertical-align: middle;\n",
       "    }\n",
       "\n",
       "    .dataframe tbody tr th {\n",
       "        vertical-align: top;\n",
       "    }\n",
       "\n",
       "    .dataframe thead th {\n",
       "        text-align: right;\n",
       "    }\n",
       "</style>\n",
       "<table border=\"1\" class=\"dataframe\">\n",
       "  <thead>\n",
       "    <tr style=\"text-align: right;\">\n",
       "      <th></th>\n",
       "      <th>end_time</th>\n",
       "      <th>duration_sec</th>\n",
       "      <th>user_type</th>\n",
       "      <th>bike_share_for_all_trip</th>\n",
       "      <th>bike_id</th>\n",
       "    </tr>\n",
       "    <tr>\n",
       "      <th>start_time</th>\n",
       "      <th></th>\n",
       "      <th></th>\n",
       "      <th></th>\n",
       "      <th></th>\n",
       "      <th></th>\n",
       "    </tr>\n",
       "  </thead>\n",
       "  <tbody>\n",
       "    <tr>\n",
       "      <th>12:02</th>\n",
       "      <td>2019-02-22 12:55:36.718</td>\n",
       "      <td>327</td>\n",
       "      <td>Subscriber</td>\n",
       "      <td>Yes</td>\n",
       "      <td>2007</td>\n",
       "    </tr>\n",
       "    <tr>\n",
       "      <th>14:02</th>\n",
       "      <td>2019-02-07 14:43:14.146</td>\n",
       "      <td>777</td>\n",
       "      <td>Subscriber</td>\n",
       "      <td>No</td>\n",
       "      <td>4805</td>\n",
       "    </tr>\n",
       "  </tbody>\n",
       "</table>\n",
       "</div>"
      ],
      "text/plain": [
       "                          end_time  duration_sec   user_type  \\\n",
       "start_time                                                     \n",
       "12:02      2019-02-22 12:55:36.718           327  Subscriber   \n",
       "14:02      2019-02-07 14:43:14.146           777  Subscriber   \n",
       "\n",
       "           bike_share_for_all_trip  bike_id  \n",
       "start_time                                   \n",
       "12:02                          Yes     2007  \n",
       "14:02                           No     4805  "
      ]
     },
     "execution_count": 107,
     "metadata": {},
     "output_type": "execute_result"
    }
   ],
   "source": [
    "time_idx_trip_df.sample(2)"
   ]
  },
  {
   "cell_type": "code",
   "execution_count": 108,
   "id": "5cec2e99-34cf-49cc-9b27-79b4845651ae",
   "metadata": {},
   "outputs": [],
   "source": [
    "new_time_df = time_idx_trip_df.reset_index()[['start_time', 'duration_sec', 'user_type']].copy()"
   ]
  },
  {
   "cell_type": "code",
   "execution_count": 109,
   "id": "8d363e31-64d7-4c4c-8aef-15d8fa6bc88a",
   "metadata": {},
   "outputs": [
    {
     "data": {
      "text/html": [
       "<div>\n",
       "<style scoped>\n",
       "    .dataframe tbody tr th:only-of-type {\n",
       "        vertical-align: middle;\n",
       "    }\n",
       "\n",
       "    .dataframe tbody tr th {\n",
       "        vertical-align: top;\n",
       "    }\n",
       "\n",
       "    .dataframe thead th {\n",
       "        text-align: right;\n",
       "    }\n",
       "</style>\n",
       "<table border=\"1\" class=\"dataframe\">\n",
       "  <thead>\n",
       "    <tr style=\"text-align: right;\">\n",
       "      <th></th>\n",
       "      <th>start_time</th>\n",
       "      <th>duration_sec</th>\n",
       "      <th>user_type</th>\n",
       "    </tr>\n",
       "  </thead>\n",
       "  <tbody>\n",
       "    <tr>\n",
       "      <th>0</th>\n",
       "      <td>17:02</td>\n",
       "      <td>52185</td>\n",
       "      <td>Customer</td>\n",
       "    </tr>\n",
       "    <tr>\n",
       "      <th>1</th>\n",
       "      <td>18:02</td>\n",
       "      <td>42521</td>\n",
       "      <td>Customer</td>\n",
       "    </tr>\n",
       "    <tr>\n",
       "      <th>2</th>\n",
       "      <td>12:02</td>\n",
       "      <td>61854</td>\n",
       "      <td>Customer</td>\n",
       "    </tr>\n",
       "    <tr>\n",
       "      <th>3</th>\n",
       "      <td>17:02</td>\n",
       "      <td>36490</td>\n",
       "      <td>Subscriber</td>\n",
       "    </tr>\n",
       "    <tr>\n",
       "      <th>4</th>\n",
       "      <td>23:02</td>\n",
       "      <td>1585</td>\n",
       "      <td>Subscriber</td>\n",
       "    </tr>\n",
       "    <tr>\n",
       "      <th>...</th>\n",
       "      <td>...</td>\n",
       "      <td>...</td>\n",
       "      <td>...</td>\n",
       "    </tr>\n",
       "    <tr>\n",
       "      <th>183407</th>\n",
       "      <td>00:02</td>\n",
       "      <td>480</td>\n",
       "      <td>Subscriber</td>\n",
       "    </tr>\n",
       "    <tr>\n",
       "      <th>183408</th>\n",
       "      <td>00:02</td>\n",
       "      <td>313</td>\n",
       "      <td>Subscriber</td>\n",
       "    </tr>\n",
       "    <tr>\n",
       "      <th>183409</th>\n",
       "      <td>00:02</td>\n",
       "      <td>141</td>\n",
       "      <td>Subscriber</td>\n",
       "    </tr>\n",
       "    <tr>\n",
       "      <th>183410</th>\n",
       "      <td>00:02</td>\n",
       "      <td>139</td>\n",
       "      <td>Subscriber</td>\n",
       "    </tr>\n",
       "    <tr>\n",
       "      <th>183411</th>\n",
       "      <td>00:02</td>\n",
       "      <td>271</td>\n",
       "      <td>Subscriber</td>\n",
       "    </tr>\n",
       "  </tbody>\n",
       "</table>\n",
       "<p>183412 rows × 3 columns</p>\n",
       "</div>"
      ],
      "text/plain": [
       "       start_time  duration_sec   user_type\n",
       "0           17:02         52185    Customer\n",
       "1           18:02         42521    Customer\n",
       "2           12:02         61854    Customer\n",
       "3           17:02         36490  Subscriber\n",
       "4           23:02          1585  Subscriber\n",
       "...           ...           ...         ...\n",
       "183407      00:02           480  Subscriber\n",
       "183408      00:02           313  Subscriber\n",
       "183409      00:02           141  Subscriber\n",
       "183410      00:02           139  Subscriber\n",
       "183411      00:02           271  Subscriber\n",
       "\n",
       "[183412 rows x 3 columns]"
      ]
     },
     "execution_count": 109,
     "metadata": {},
     "output_type": "execute_result"
    }
   ],
   "source": [
    "new_time_df"
   ]
  },
  {
   "cell_type": "code",
   "execution_count": 110,
   "id": "1fbf7aca-d138-4e18-a39c-641b3905c79d",
   "metadata": {},
   "outputs": [],
   "source": [
    "# Group by user_type and start_time and reset the aggregated count index ( so the index is not made of the grouped variable )\n",
    "grouped_time_df = new_time_df.groupby(['user_type', 'start_time']).count().reset_index()"
   ]
  },
  {
   "cell_type": "code",
   "execution_count": 111,
   "id": "9e9f2355-216f-4296-a8f2-1a1cdcdf4a07",
   "metadata": {},
   "outputs": [
    {
     "data": {
      "text/html": [
       "<div>\n",
       "<style scoped>\n",
       "    .dataframe tbody tr th:only-of-type {\n",
       "        vertical-align: middle;\n",
       "    }\n",
       "\n",
       "    .dataframe tbody tr th {\n",
       "        vertical-align: top;\n",
       "    }\n",
       "\n",
       "    .dataframe thead th {\n",
       "        text-align: right;\n",
       "    }\n",
       "</style>\n",
       "<table border=\"1\" class=\"dataframe\">\n",
       "  <thead>\n",
       "    <tr style=\"text-align: right;\">\n",
       "      <th></th>\n",
       "      <th>user_type</th>\n",
       "      <th>start_time</th>\n",
       "      <th>duration_sec</th>\n",
       "    </tr>\n",
       "  </thead>\n",
       "  <tbody>\n",
       "    <tr>\n",
       "      <th>15</th>\n",
       "      <td>Customer</td>\n",
       "      <td>15:02</td>\n",
       "      <td>1422</td>\n",
       "    </tr>\n",
       "    <tr>\n",
       "      <th>5</th>\n",
       "      <td>Customer</td>\n",
       "      <td>05:02</td>\n",
       "      <td>75</td>\n",
       "    </tr>\n",
       "    <tr>\n",
       "      <th>1</th>\n",
       "      <td>Customer</td>\n",
       "      <td>01:02</td>\n",
       "      <td>55</td>\n",
       "    </tr>\n",
       "    <tr>\n",
       "      <th>42</th>\n",
       "      <td>Subscriber</td>\n",
       "      <td>18:02</td>\n",
       "      <td>15311</td>\n",
       "    </tr>\n",
       "    <tr>\n",
       "      <th>2</th>\n",
       "      <td>Customer</td>\n",
       "      <td>02:02</td>\n",
       "      <td>57</td>\n",
       "    </tr>\n",
       "  </tbody>\n",
       "</table>\n",
       "</div>"
      ],
      "text/plain": [
       "     user_type start_time  duration_sec\n",
       "15    Customer      15:02          1422\n",
       "5     Customer      05:02            75\n",
       "1     Customer      01:02            55\n",
       "42  Subscriber      18:02         15311\n",
       "2     Customer      02:02            57"
      ]
     },
     "execution_count": 111,
     "metadata": {},
     "output_type": "execute_result"
    }
   ],
   "source": [
    "# check 5 sample \n",
    "grouped_time_df.sample(5)"
   ]
  },
  {
   "cell_type": "code",
   "execution_count": 112,
   "id": "eaa54aaa-e162-4748-b3b9-a3ea25b29a8d",
   "metadata": {},
   "outputs": [
    {
     "data": {
      "image/png": "[encoded data removed]",
      "text/plain": [
       "<Figure size 432x288 with 1 Axes>"
      ]
     },
     "metadata": {
      "needs_background": "light"
     },
     "output_type": "display_data"
    }
   ],
   "source": [
    "# map a barplot with the of the start time in comparison to the user type for the duration for each trip\n",
    "sb.barplot(data=grouped_time_df, x=\"start_time\", hue=\"user_type\", y=\"duration_sec\")\n",
    "plt.xticks(rotation=90);"
   ]
  },
  {
   "cell_type": "markdown",
   "id": "1bcc8292-97d9-41f9-978f-fed686866d76",
   "metadata": {},
   "source": [
    "_Trip duration for **Subscriber** is way higher than that of **Customer** where the peak for Subscriber is about **20,000** seconds recorded at a timestamp of 17:02 ( 5:02pm ). At this same timestamp ( 5:02pm ) the **Customer** user type trip duration also peaked at about **2,500**_"
   ]
  },
  {
   "cell_type": "markdown",
   "id": "1fde47e5-65fa-4242-b348-f329022f037b",
   "metadata": {
    "tags": []
   },
   "source": [
    "### Feeding My Curiousity"
   ]
  },
  {
   "cell_type": "markdown",
   "id": "feeea181-c8ba-469c-a6d8-e0c8034d0397",
   "metadata": {},
   "source": [
    "having run some explorations on the dataset, getting into each questions as relayed from the project initials, i'll proceed a little further to feed my curiosity by exploring some more. Some questions that comes to mind are\n",
    "\n",
    "- which station was most trip started from  ?\n",
    "- which station was most trip ended at ?\n",
    "- Which user type has the most transaction record ? and the age group ?\n",
    "- Which is the most popular route ?\n",
    "- Gender with most rides ?\n",
    "- Does any of the above a determinant of the user type ?\n",
    "\n",
    "To answer above questions, some cleaning will be carried on some of the variables. from [Observations](#Observations) above we found that couple of variables has got some missing values. Those missing records wouldn't be relevant in our analysis which would warrant we clean them off."
   ]
  },
  {
   "cell_type": "code",
   "execution_count": 113,
   "id": "8f9cad68-d61d-473b-972d-47a2878a2fea",
   "metadata": {},
   "outputs": [
    {
     "data": {
      "text/html": [
       "<div>\n",
       "<style scoped>\n",
       "    .dataframe tbody tr th:only-of-type {\n",
       "        vertical-align: middle;\n",
       "    }\n",
       "\n",
       "    .dataframe tbody tr th {\n",
       "        vertical-align: top;\n",
       "    }\n",
       "\n",
       "    .dataframe thead th {\n",
       "        text-align: right;\n",
       "    }\n",
       "</style>\n",
       "<table border=\"1\" class=\"dataframe\">\n",
       "  <thead>\n",
       "    <tr style=\"text-align: right;\">\n",
       "      <th></th>\n",
       "      <th>duration_sec</th>\n",
       "      <th>start_time</th>\n",
       "      <th>end_time</th>\n",
       "      <th>start_station_id</th>\n",
       "      <th>start_station_name</th>\n",
       "      <th>start_station_latitude</th>\n",
       "      <th>start_station_longitude</th>\n",
       "      <th>end_station_id</th>\n",
       "      <th>end_station_name</th>\n",
       "      <th>end_station_latitude</th>\n",
       "      <th>end_station_longitude</th>\n",
       "      <th>bike_id</th>\n",
       "      <th>user_type</th>\n",
       "      <th>member_birth_year</th>\n",
       "      <th>member_gender</th>\n",
       "      <th>bike_share_for_all_trip</th>\n",
       "    </tr>\n",
       "  </thead>\n",
       "  <tbody>\n",
       "    <tr>\n",
       "      <th>74273</th>\n",
       "      <td>1468</td>\n",
       "      <td>2019-02-19 10:41:47.572</td>\n",
       "      <td>2019-02-19 11:06:15.943</td>\n",
       "      <td>218.0</td>\n",
       "      <td>DeFremery Park</td>\n",
       "      <td>37.812331</td>\n",
       "      <td>-122.285171</td>\n",
       "      <td>230.0</td>\n",
       "      <td>14th St at Mandela Pkwy</td>\n",
       "      <td>37.810743</td>\n",
       "      <td>-122.291415</td>\n",
       "      <td>6422</td>\n",
       "      <td>Subscriber</td>\n",
       "      <td>1980.0</td>\n",
       "      <td>Male</td>\n",
       "      <td>No</td>\n",
       "    </tr>\n",
       "    <tr>\n",
       "      <th>123930</th>\n",
       "      <td>560</td>\n",
       "      <td>2019-02-11 08:55:49.897</td>\n",
       "      <td>2019-02-11 09:05:10.492</td>\n",
       "      <td>30.0</td>\n",
       "      <td>San Francisco Caltrain (Townsend St at 4th St)</td>\n",
       "      <td>37.776598</td>\n",
       "      <td>-122.395282</td>\n",
       "      <td>23.0</td>\n",
       "      <td>The Embarcadero at Steuart St</td>\n",
       "      <td>37.791464</td>\n",
       "      <td>-122.391034</td>\n",
       "      <td>5413</td>\n",
       "      <td>Subscriber</td>\n",
       "      <td>1973.0</td>\n",
       "      <td>Male</td>\n",
       "      <td>No</td>\n",
       "    </tr>\n",
       "    <tr>\n",
       "      <th>55713</th>\n",
       "      <td>236</td>\n",
       "      <td>2019-02-21 09:47:15.670</td>\n",
       "      <td>2019-02-21 09:51:12.581</td>\n",
       "      <td>85.0</td>\n",
       "      <td>Church St at Duboce Ave</td>\n",
       "      <td>37.770083</td>\n",
       "      <td>-122.429156</td>\n",
       "      <td>75.0</td>\n",
       "      <td>Market St at Franklin St</td>\n",
       "      <td>37.773793</td>\n",
       "      <td>-122.421239</td>\n",
       "      <td>5037</td>\n",
       "      <td>Subscriber</td>\n",
       "      <td>1982.0</td>\n",
       "      <td>Male</td>\n",
       "      <td>Yes</td>\n",
       "    </tr>\n",
       "  </tbody>\n",
       "</table>\n",
       "</div>"
      ],
      "text/plain": [
       "        duration_sec              start_time                end_time  \\\n",
       "74273           1468 2019-02-19 10:41:47.572 2019-02-19 11:06:15.943   \n",
       "123930           560 2019-02-11 08:55:49.897 2019-02-11 09:05:10.492   \n",
       "55713            236 2019-02-21 09:47:15.670 2019-02-21 09:51:12.581   \n",
       "\n",
       "        start_station_id                              start_station_name  \\\n",
       "74273              218.0                                  DeFremery Park   \n",
       "123930              30.0  San Francisco Caltrain (Townsend St at 4th St)   \n",
       "55713               85.0                         Church St at Duboce Ave   \n",
       "\n",
       "        start_station_latitude  start_station_longitude  end_station_id  \\\n",
       "74273                37.812331              -122.285171           230.0   \n",
       "123930               37.776598              -122.395282            23.0   \n",
       "55713                37.770083              -122.429156            75.0   \n",
       "\n",
       "                     end_station_name  end_station_latitude  \\\n",
       "74273         14th St at Mandela Pkwy             37.810743   \n",
       "123930  The Embarcadero at Steuart St             37.791464   \n",
       "55713        Market St at Franklin St             37.773793   \n",
       "\n",
       "        end_station_longitude  bike_id   user_type  member_birth_year  \\\n",
       "74273             -122.291415     6422  Subscriber             1980.0   \n",
       "123930            -122.391034     5413  Subscriber             1973.0   \n",
       "55713             -122.421239     5037  Subscriber             1982.0   \n",
       "\n",
       "       member_gender bike_share_for_all_trip  \n",
       "74273           Male                      No  \n",
       "123930          Male                      No  \n",
       "55713           Male                     Yes  "
      ]
     },
     "execution_count": 113,
     "metadata": {},
     "output_type": "execute_result"
    }
   ],
   "source": [
    "# reobserving the main dataset\n",
    "df.sample(3)"
   ]
  },
  {
   "cell_type": "markdown",
   "id": "c909e6fb-297d-4dbf-9814-ca1569f6f23d",
   "metadata": {},
   "source": [
    "the variable listed in my curiousity research are **station** ( name ), **user_type**, **age**, **gender**. we'll take a quick observations on the listed varaiables"
   ]
  },
  {
   "cell_type": "code",
   "execution_count": 114,
   "id": "e05c54d0-8e91-4726-9713-6497e0f97c5f",
   "metadata": {},
   "outputs": [],
   "source": [
    "curiousity_df = df[['user_type', 'start_station_name', 'end_station_name', 'member_birth_year', 'member_gender', 'duration_sec']].copy()"
   ]
  },
  {
   "cell_type": "code",
   "execution_count": 115,
   "id": "40601d67-4ac8-411e-bb1c-ee8c5ac12850",
   "metadata": {},
   "outputs": [
    {
     "data": {
      "text/plain": [
       "(183412, 6)"
      ]
     },
     "execution_count": 115,
     "metadata": {},
     "output_type": "execute_result"
    }
   ],
   "source": [
    "curiousity_df.shape"
   ]
  },
  {
   "cell_type": "code",
   "execution_count": 116,
   "id": "d9f2b719-d2c0-4828-b68c-6061b5c2eb46",
   "metadata": {},
   "outputs": [
    {
     "data": {
      "text/plain": [
       "user_type             category\n",
       "start_station_name      object\n",
       "end_station_name        object\n",
       "member_birth_year      float64\n",
       "member_gender           object\n",
       "duration_sec             int64\n",
       "dtype: object"
      ]
     },
     "execution_count": 116,
     "metadata": {},
     "output_type": "execute_result"
    }
   ],
   "source": [
    "# check the datatype of the subset \n",
    "curiousity_df.dtypes"
   ]
  },
  {
   "cell_type": "code",
   "execution_count": 117,
   "id": "1b711b33-b8d2-4c44-83c5-2eee643da977",
   "metadata": {},
   "outputs": [
    {
     "data": {
      "text/html": [
       "<div>\n",
       "<style scoped>\n",
       "    .dataframe tbody tr th:only-of-type {\n",
       "        vertical-align: middle;\n",
       "    }\n",
       "\n",
       "    .dataframe tbody tr th {\n",
       "        vertical-align: top;\n",
       "    }\n",
       "\n",
       "    .dataframe thead th {\n",
       "        text-align: right;\n",
       "    }\n",
       "</style>\n",
       "<table border=\"1\" class=\"dataframe\">\n",
       "  <thead>\n",
       "    <tr style=\"text-align: right;\">\n",
       "      <th></th>\n",
       "      <th>user_type</th>\n",
       "      <th>start_station_name</th>\n",
       "      <th>end_station_name</th>\n",
       "      <th>member_birth_year</th>\n",
       "      <th>member_gender</th>\n",
       "      <th>duration_sec</th>\n",
       "    </tr>\n",
       "  </thead>\n",
       "  <tbody>\n",
       "    <tr>\n",
       "      <th>94198</th>\n",
       "      <td>Customer</td>\n",
       "      <td>Salesforce Transit Center (Natoma St at 2nd St)</td>\n",
       "      <td>Rhode Island St at 17th St</td>\n",
       "      <td>1982.0</td>\n",
       "      <td>Male</td>\n",
       "      <td>790</td>\n",
       "    </tr>\n",
       "    <tr>\n",
       "      <th>77453</th>\n",
       "      <td>Subscriber</td>\n",
       "      <td>Harrison St at 20th St</td>\n",
       "      <td>Bryant St at 15th St</td>\n",
       "      <td>1985.0</td>\n",
       "      <td>Female</td>\n",
       "      <td>332</td>\n",
       "    </tr>\n",
       "    <tr>\n",
       "      <th>162134</th>\n",
       "      <td>Subscriber</td>\n",
       "      <td>Post St at Kearny St</td>\n",
       "      <td>5th St at Folsom</td>\n",
       "      <td>1984.0</td>\n",
       "      <td>Female</td>\n",
       "      <td>465</td>\n",
       "    </tr>\n",
       "  </tbody>\n",
       "</table>\n",
       "</div>"
      ],
      "text/plain": [
       "         user_type                               start_station_name  \\\n",
       "94198     Customer  Salesforce Transit Center (Natoma St at 2nd St)   \n",
       "77453   Subscriber                           Harrison St at 20th St   \n",
       "162134  Subscriber                             Post St at Kearny St   \n",
       "\n",
       "                  end_station_name  member_birth_year member_gender  \\\n",
       "94198   Rhode Island St at 17th St             1982.0          Male   \n",
       "77453         Bryant St at 15th St             1985.0        Female   \n",
       "162134            5th St at Folsom             1984.0        Female   \n",
       "\n",
       "        duration_sec  \n",
       "94198            790  \n",
       "77453            332  \n",
       "162134           465  "
      ]
     },
     "execution_count": 117,
     "metadata": {},
     "output_type": "execute_result"
    }
   ],
   "source": [
    "# check 3 sample observation\n",
    "curiousity_df.sample(3)"
   ]
  },
  {
   "cell_type": "code",
   "execution_count": 118,
   "id": "9169888b-f681-47ba-a10d-0ba6352d4e14",
   "metadata": {},
   "outputs": [
    {
     "data": {
      "text/plain": [
       "user_type                0\n",
       "start_station_name     197\n",
       "end_station_name       197\n",
       "member_birth_year     8265\n",
       "member_gender         8265\n",
       "duration_sec             0\n",
       "dtype: int64"
      ]
     },
     "execution_count": 118,
     "metadata": {},
     "output_type": "execute_result"
    }
   ],
   "source": [
    "# check total NaN records\n",
    "curiousity_df.isna().sum()"
   ]
  },
  {
   "cell_type": "markdown",
   "id": "e1277615-a0ff-40a1-b094-4e968cc62b13",
   "metadata": {},
   "source": [
    "To remove NaN records we'll pay attention to the question we're answering as not all questions warrant the removal of other record due to other variable with null entry"
   ]
  },
  {
   "cell_type": "markdown",
   "id": "e577faa1-ae83-4a31-95db-160f29397fef",
   "metadata": {},
   "source": [
    "#### Finding Age Bracket"
   ]
  },
  {
   "cell_type": "markdown",
   "id": "fea326fe-8450-4ff0-849b-36c54d155eca",
   "metadata": {},
   "source": [
    "_what's the age bracket of the user in the dataset_"
   ]
  },
  {
   "cell_type": "code",
   "execution_count": 119,
   "id": "5ce663ff-8377-44ec-a745-b94f5a3b23fc",
   "metadata": {},
   "outputs": [
    {
     "data": {
      "text/html": [
       "<div>\n",
       "<style scoped>\n",
       "    .dataframe tbody tr th:only-of-type {\n",
       "        vertical-align: middle;\n",
       "    }\n",
       "\n",
       "    .dataframe tbody tr th {\n",
       "        vertical-align: top;\n",
       "    }\n",
       "\n",
       "    .dataframe thead th {\n",
       "        text-align: right;\n",
       "    }\n",
       "</style>\n",
       "<table border=\"1\" class=\"dataframe\">\n",
       "  <thead>\n",
       "    <tr style=\"text-align: right;\">\n",
       "      <th></th>\n",
       "      <th>member_birth_year</th>\n",
       "      <th>member_gender</th>\n",
       "    </tr>\n",
       "  </thead>\n",
       "  <tbody>\n",
       "    <tr>\n",
       "      <th>132182</th>\n",
       "      <td>1986.0</td>\n",
       "      <td>Female</td>\n",
       "    </tr>\n",
       "    <tr>\n",
       "      <th>46096</th>\n",
       "      <td>1977.0</td>\n",
       "      <td>Male</td>\n",
       "    </tr>\n",
       "  </tbody>\n",
       "</table>\n",
       "</div>"
      ],
      "text/plain": [
       "        member_birth_year member_gender\n",
       "132182             1986.0        Female\n",
       "46096              1977.0          Male"
      ]
     },
     "execution_count": 119,
     "metadata": {},
     "output_type": "execute_result"
    }
   ],
   "source": [
    "# copy member_birth_year column off curiousity dataset\n",
    "age_bracket_df = curiousity_df[['member_birth_year', 'member_gender']].copy()\n",
    "# check copy sample\n",
    "age_bracket_df.sample(2)"
   ]
  },
  {
   "cell_type": "code",
   "execution_count": 120,
   "id": "3e765590-b352-4bd7-9a7d-2eab61e04591",
   "metadata": {},
   "outputs": [],
   "source": [
    "# bracket age into different generations\n",
    "def segment_gen(x):\n",
    "    if x < 1946:\n",
    "        return \"Silent Generation\"\n",
    "    \n",
    "    elif x >= 1946 and x <= 1964:\n",
    "        return \"Baby Boomers\"\n",
    "    \n",
    "    elif x >= 1965 and x <= 1980:\n",
    "        return \"Gen X\"\n",
    "    \n",
    "    elif x >= 1981 and x <= 1996:\n",
    "        return \"Millenial\"\n",
    "    \n",
    "    return \"Gen Z\"\n",
    "    \n",
    "\n",
    "age_bracket_df['generation'] = age_bracket_df['member_birth_year'].apply(segment_gen)"
   ]
  },
  {
   "cell_type": "code",
   "execution_count": 121,
   "id": "70d35d7d-243b-4109-aa88-55a0f9190cbf",
   "metadata": {},
   "outputs": [
    {
     "data": {
      "text/html": [
       "<div>\n",
       "<style scoped>\n",
       "    .dataframe tbody tr th:only-of-type {\n",
       "        vertical-align: middle;\n",
       "    }\n",
       "\n",
       "    .dataframe tbody tr th {\n",
       "        vertical-align: top;\n",
       "    }\n",
       "\n",
       "    .dataframe thead th {\n",
       "        text-align: right;\n",
       "    }\n",
       "</style>\n",
       "<table border=\"1\" class=\"dataframe\">\n",
       "  <thead>\n",
       "    <tr style=\"text-align: right;\">\n",
       "      <th></th>\n",
       "      <th>member_birth_year</th>\n",
       "      <th>member_gender</th>\n",
       "      <th>generation</th>\n",
       "    </tr>\n",
       "  </thead>\n",
       "  <tbody>\n",
       "    <tr>\n",
       "      <th>97779</th>\n",
       "      <td>1986.0</td>\n",
       "      <td>Male</td>\n",
       "      <td>Millenial</td>\n",
       "    </tr>\n",
       "    <tr>\n",
       "      <th>142283</th>\n",
       "      <td>1990.0</td>\n",
       "      <td>Female</td>\n",
       "      <td>Millenial</td>\n",
       "    </tr>\n",
       "    <tr>\n",
       "      <th>145342</th>\n",
       "      <td>1989.0</td>\n",
       "      <td>Female</td>\n",
       "      <td>Millenial</td>\n",
       "    </tr>\n",
       "    <tr>\n",
       "      <th>36686</th>\n",
       "      <td>1990.0</td>\n",
       "      <td>Female</td>\n",
       "      <td>Millenial</td>\n",
       "    </tr>\n",
       "  </tbody>\n",
       "</table>\n",
       "</div>"
      ],
      "text/plain": [
       "        member_birth_year member_gender generation\n",
       "97779              1986.0          Male  Millenial\n",
       "142283             1990.0        Female  Millenial\n",
       "145342             1989.0        Female  Millenial\n",
       "36686              1990.0        Female  Millenial"
      ]
     },
     "execution_count": 121,
     "metadata": {},
     "output_type": "execute_result"
    }
   ],
   "source": [
    "# check the sample\n",
    "age_bracket_df.sample(4)"
   ]
  },
  {
   "cell_type": "code",
   "execution_count": 122,
   "id": "05aeefca-3302-46cf-85e2-24e24c8aa6b4",
   "metadata": {},
   "outputs": [
    {
     "data": {
      "text/plain": [
       "([0, 1, 2, 3, 4],\n",
       " [Text(0, 0, ''),\n",
       "  Text(0, 0, ''),\n",
       "  Text(0, 0, ''),\n",
       "  Text(0, 0, ''),\n",
       "  Text(0, 0, '')])"
      ]
     },
     "execution_count": 122,
     "metadata": {},
     "output_type": "execute_result"
    },
    {
     "data": {
      "image/png": "[encoded data removed]",
      "text/plain": [
       "<Figure size 432x288 with 1 Axes>"
      ]
     },
     "metadata": {
      "needs_background": "light"
     },
     "output_type": "display_data"
    }
   ],
   "source": [
    "# aggregate ages by generation and see the count\n",
    "generation_df = (\n",
    "    age_bracket_df.drop('member_birth_year', axis=1)\n",
    "    .groupby('generation').value_counts()\n",
    "    .reset_index(name=\"gen_count\")\n",
    ")\n",
    "\n",
    "plt.bar(generation_df.generation, generation_df.gen_count)\n",
    "plt.xlabel(\"Generation\")\n",
    "plt.ylabel(\"Total Number\")\n",
    "plt.title(\"Generation Demography\")\n",
    "plt.xticks(rotation=15)"
   ]
  },
  {
   "cell_type": "code",
   "execution_count": 123,
   "id": "35878e07-3e13-412f-bb2f-6cc071ee071c",
   "metadata": {},
   "outputs": [
    {
     "data": {
      "text/html": [
       "<div>\n",
       "<style scoped>\n",
       "    .dataframe tbody tr th:only-of-type {\n",
       "        vertical-align: middle;\n",
       "    }\n",
       "\n",
       "    .dataframe tbody tr th {\n",
       "        vertical-align: top;\n",
       "    }\n",
       "\n",
       "    .dataframe thead th {\n",
       "        text-align: right;\n",
       "    }\n",
       "</style>\n",
       "<table border=\"1\" class=\"dataframe\">\n",
       "  <thead>\n",
       "    <tr style=\"text-align: right;\">\n",
       "      <th></th>\n",
       "      <th>generation</th>\n",
       "      <th>member_gender</th>\n",
       "      <th>gen_count</th>\n",
       "    </tr>\n",
       "  </thead>\n",
       "  <tbody>\n",
       "    <tr>\n",
       "      <th>0</th>\n",
       "      <td>Baby Boomers</td>\n",
       "      <td>Male</td>\n",
       "      <td>6848</td>\n",
       "    </tr>\n",
       "    <tr>\n",
       "      <th>1</th>\n",
       "      <td>Baby Boomers</td>\n",
       "      <td>Female</td>\n",
       "      <td>1653</td>\n",
       "    </tr>\n",
       "    <tr>\n",
       "      <th>2</th>\n",
       "      <td>Baby Boomers</td>\n",
       "      <td>Other</td>\n",
       "      <td>207</td>\n",
       "    </tr>\n",
       "    <tr>\n",
       "      <th>3</th>\n",
       "      <td>Gen X</td>\n",
       "      <td>Male</td>\n",
       "      <td>28592</td>\n",
       "    </tr>\n",
       "    <tr>\n",
       "      <th>4</th>\n",
       "      <td>Gen X</td>\n",
       "      <td>Female</td>\n",
       "      <td>7082</td>\n",
       "    </tr>\n",
       "  </tbody>\n",
       "</table>\n",
       "</div>"
      ],
      "text/plain": [
       "     generation member_gender  gen_count\n",
       "0  Baby Boomers          Male       6848\n",
       "1  Baby Boomers        Female       1653\n",
       "2  Baby Boomers         Other        207\n",
       "3         Gen X          Male      28592\n",
       "4         Gen X        Female       7082"
      ]
     },
     "execution_count": 123,
     "metadata": {},
     "output_type": "execute_result"
    }
   ],
   "source": [
    "generation_df.head()"
   ]
  },
  {
   "cell_type": "code",
   "execution_count": 124,
   "id": "58f334af-10ea-440f-a984-42c0ab818ab6",
   "metadata": {},
   "outputs": [
    {
     "data": {
      "text/plain": [
       "<AxesSubplot:xlabel='generation'>"
      ]
     },
     "execution_count": 124,
     "metadata": {},
     "output_type": "execute_result"
    },
    {
     "data": {
      "image/png": "[encoded data removed]",
      "text/plain": [
       "<Figure size 432x288 with 1 Axes>"
      ]
     },
     "metadata": {
      "needs_background": "light"
     },
     "output_type": "display_data"
    }
   ],
   "source": [
    "gen_pivot = generation_df.pivot_table(['gen_count'], index=['generation'], dropna=True, columns=['member_gender'])\n",
    "gen_pivot.plot(kind=\"bar\")"
   ]
  },
  {
   "cell_type": "markdown",
   "id": "9484f5a1-a1d2-4f7f-bac2-96ad03416b89",
   "metadata": {},
   "source": [
    "_female millenial tops the record_"
   ]
  },
  {
   "cell_type": "markdown",
   "id": "4a87318b-51bd-462f-bd98-0479214cba18",
   "metadata": {},
   "source": [
    "#### Find Total User Type by Generation & Sex"
   ]
  },
  {
   "cell_type": "markdown",
   "id": "0d7cbf32-cc8b-469a-8d38-12b3ac84019b",
   "metadata": {},
   "source": [
    "##### Data preperation"
   ]
  },
  {
   "cell_type": "code",
   "execution_count": 125,
   "id": "e035826f-255d-4089-a306-8f0724040636",
   "metadata": {},
   "outputs": [
    {
     "data": {
      "text/html": [
       "<div>\n",
       "<style scoped>\n",
       "    .dataframe tbody tr th:only-of-type {\n",
       "        vertical-align: middle;\n",
       "    }\n",
       "\n",
       "    .dataframe tbody tr th {\n",
       "        vertical-align: top;\n",
       "    }\n",
       "\n",
       "    .dataframe thead th {\n",
       "        text-align: right;\n",
       "    }\n",
       "</style>\n",
       "<table border=\"1\" class=\"dataframe\">\n",
       "  <thead>\n",
       "    <tr style=\"text-align: right;\">\n",
       "      <th></th>\n",
       "      <th>member_birth_year</th>\n",
       "      <th>member_gender</th>\n",
       "      <th>user_type</th>\n",
       "      <th>generation</th>\n",
       "    </tr>\n",
       "  </thead>\n",
       "  <tbody>\n",
       "    <tr>\n",
       "      <th>0</th>\n",
       "      <td>1984.0</td>\n",
       "      <td>Male</td>\n",
       "      <td>Customer</td>\n",
       "      <td>Millenial</td>\n",
       "    </tr>\n",
       "    <tr>\n",
       "      <th>2</th>\n",
       "      <td>1972.0</td>\n",
       "      <td>Male</td>\n",
       "      <td>Customer</td>\n",
       "      <td>Gen X</td>\n",
       "    </tr>\n",
       "    <tr>\n",
       "      <th>3</th>\n",
       "      <td>1989.0</td>\n",
       "      <td>Other</td>\n",
       "      <td>Subscriber</td>\n",
       "      <td>Millenial</td>\n",
       "    </tr>\n",
       "    <tr>\n",
       "      <th>4</th>\n",
       "      <td>1974.0</td>\n",
       "      <td>Male</td>\n",
       "      <td>Subscriber</td>\n",
       "      <td>Gen X</td>\n",
       "    </tr>\n",
       "    <tr>\n",
       "      <th>5</th>\n",
       "      <td>1959.0</td>\n",
       "      <td>Male</td>\n",
       "      <td>Subscriber</td>\n",
       "      <td>Baby Boomers</td>\n",
       "    </tr>\n",
       "    <tr>\n",
       "      <th>...</th>\n",
       "      <td>...</td>\n",
       "      <td>...</td>\n",
       "      <td>...</td>\n",
       "      <td>...</td>\n",
       "    </tr>\n",
       "    <tr>\n",
       "      <th>183407</th>\n",
       "      <td>1996.0</td>\n",
       "      <td>Male</td>\n",
       "      <td>Subscriber</td>\n",
       "      <td>Millenial</td>\n",
       "    </tr>\n",
       "    <tr>\n",
       "      <th>183408</th>\n",
       "      <td>1984.0</td>\n",
       "      <td>Male</td>\n",
       "      <td>Subscriber</td>\n",
       "      <td>Millenial</td>\n",
       "    </tr>\n",
       "    <tr>\n",
       "      <th>183409</th>\n",
       "      <td>1990.0</td>\n",
       "      <td>Male</td>\n",
       "      <td>Subscriber</td>\n",
       "      <td>Millenial</td>\n",
       "    </tr>\n",
       "    <tr>\n",
       "      <th>183410</th>\n",
       "      <td>1988.0</td>\n",
       "      <td>Male</td>\n",
       "      <td>Subscriber</td>\n",
       "      <td>Millenial</td>\n",
       "    </tr>\n",
       "    <tr>\n",
       "      <th>183411</th>\n",
       "      <td>1989.0</td>\n",
       "      <td>Male</td>\n",
       "      <td>Subscriber</td>\n",
       "      <td>Millenial</td>\n",
       "    </tr>\n",
       "  </tbody>\n",
       "</table>\n",
       "<p>175147 rows × 4 columns</p>\n",
       "</div>"
      ],
      "text/plain": [
       "        member_birth_year member_gender   user_type    generation\n",
       "0                  1984.0          Male    Customer     Millenial\n",
       "2                  1972.0          Male    Customer         Gen X\n",
       "3                  1989.0         Other  Subscriber     Millenial\n",
       "4                  1974.0          Male  Subscriber         Gen X\n",
       "5                  1959.0          Male  Subscriber  Baby Boomers\n",
       "...                   ...           ...         ...           ...\n",
       "183407             1996.0          Male  Subscriber     Millenial\n",
       "183408             1984.0          Male  Subscriber     Millenial\n",
       "183409             1990.0          Male  Subscriber     Millenial\n",
       "183410             1988.0          Male  Subscriber     Millenial\n",
       "183411             1989.0          Male  Subscriber     Millenial\n",
       "\n",
       "[175147 rows x 4 columns]"
      ]
     },
     "execution_count": 125,
     "metadata": {},
     "output_type": "execute_result"
    }
   ],
   "source": [
    "# retrieve data to compute the targeted member type\n",
    "user_type_df = curiousity_df[['member_birth_year', 'member_gender', 'user_type']].copy()\n",
    "# remove those year with NaN values\n",
    "user_type_df = user_type_df[user_type_df['member_birth_year'].isna() != True]\n",
    "# segment user by their birth year into their different generations\n",
    "user_type_df['generation'] = user_type_df['member_birth_year'].apply(segment_gen)\n",
    "# confirm that the data was\n",
    "user_type_df"
   ]
  },
  {
   "cell_type": "code",
   "execution_count": 126,
   "id": "39133579-30c1-4a73-a0d6-7fe5fd245c7e",
   "metadata": {},
   "outputs": [
    {
     "data": {
      "text/html": [
       "<div>\n",
       "<style scoped>\n",
       "    .dataframe tbody tr th:only-of-type {\n",
       "        vertical-align: middle;\n",
       "    }\n",
       "\n",
       "    .dataframe tbody tr th {\n",
       "        vertical-align: top;\n",
       "    }\n",
       "\n",
       "    .dataframe thead th {\n",
       "        text-align: right;\n",
       "    }\n",
       "</style>\n",
       "<table border=\"1\" class=\"dataframe\">\n",
       "  <thead>\n",
       "    <tr style=\"text-align: right;\">\n",
       "      <th></th>\n",
       "      <th>user_type</th>\n",
       "      <th>member_gender</th>\n",
       "      <th>generation</th>\n",
       "      <th>type_count</th>\n",
       "    </tr>\n",
       "  </thead>\n",
       "  <tbody>\n",
       "    <tr>\n",
       "      <th>0</th>\n",
       "      <td>Customer</td>\n",
       "      <td>Male</td>\n",
       "      <td>Millenial</td>\n",
       "      <td>7724</td>\n",
       "    </tr>\n",
       "    <tr>\n",
       "      <th>1</th>\n",
       "      <td>Customer</td>\n",
       "      <td>Female</td>\n",
       "      <td>Millenial</td>\n",
       "      <td>3405</td>\n",
       "    </tr>\n",
       "    <tr>\n",
       "      <th>2</th>\n",
       "      <td>Customer</td>\n",
       "      <td>Male</td>\n",
       "      <td>Gen X</td>\n",
       "      <td>2431</td>\n",
       "    </tr>\n",
       "    <tr>\n",
       "      <th>3</th>\n",
       "      <td>Customer</td>\n",
       "      <td>Male</td>\n",
       "      <td>Gen Z</td>\n",
       "      <td>856</td>\n",
       "    </tr>\n",
       "    <tr>\n",
       "      <th>4</th>\n",
       "      <td>Customer</td>\n",
       "      <td>Female</td>\n",
       "      <td>Gen X</td>\n",
       "      <td>729</td>\n",
       "    </tr>\n",
       "    <tr>\n",
       "      <th>5</th>\n",
       "      <td>Customer</td>\n",
       "      <td>Male</td>\n",
       "      <td>Baby Boomers</td>\n",
       "      <td>505</td>\n",
       "    </tr>\n",
       "    <tr>\n",
       "      <th>6</th>\n",
       "      <td>Customer</td>\n",
       "      <td>Other</td>\n",
       "      <td>Millenial</td>\n",
       "      <td>355</td>\n",
       "    </tr>\n",
       "    <tr>\n",
       "      <th>7</th>\n",
       "      <td>Customer</td>\n",
       "      <td>Female</td>\n",
       "      <td>Gen Z</td>\n",
       "      <td>355</td>\n",
       "    </tr>\n",
       "    <tr>\n",
       "      <th>8</th>\n",
       "      <td>Customer</td>\n",
       "      <td>Female</td>\n",
       "      <td>Baby Boomers</td>\n",
       "      <td>157</td>\n",
       "    </tr>\n",
       "    <tr>\n",
       "      <th>9</th>\n",
       "      <td>Customer</td>\n",
       "      <td>Other</td>\n",
       "      <td>Gen X</td>\n",
       "      <td>64</td>\n",
       "    </tr>\n",
       "    <tr>\n",
       "      <th>10</th>\n",
       "      <td>Customer</td>\n",
       "      <td>Other</td>\n",
       "      <td>Baby Boomers</td>\n",
       "      <td>20</td>\n",
       "    </tr>\n",
       "    <tr>\n",
       "      <th>11</th>\n",
       "      <td>Customer</td>\n",
       "      <td>Other</td>\n",
       "      <td>Gen Z</td>\n",
       "      <td>14</td>\n",
       "    </tr>\n",
       "    <tr>\n",
       "      <th>12</th>\n",
       "      <td>Customer</td>\n",
       "      <td>Male</td>\n",
       "      <td>Silent Generation</td>\n",
       "      <td>13</td>\n",
       "    </tr>\n",
       "    <tr>\n",
       "      <th>13</th>\n",
       "      <td>Customer</td>\n",
       "      <td>Other</td>\n",
       "      <td>Silent Generation</td>\n",
       "      <td>2</td>\n",
       "    </tr>\n",
       "    <tr>\n",
       "      <th>14</th>\n",
       "      <td>Customer</td>\n",
       "      <td>Female</td>\n",
       "      <td>Silent Generation</td>\n",
       "      <td>1</td>\n",
       "    </tr>\n",
       "    <tr>\n",
       "      <th>15</th>\n",
       "      <td>Subscriber</td>\n",
       "      <td>Male</td>\n",
       "      <td>Millenial</td>\n",
       "      <td>78809</td>\n",
       "    </tr>\n",
       "    <tr>\n",
       "      <th>16</th>\n",
       "      <td>Subscriber</td>\n",
       "      <td>Female</td>\n",
       "      <td>Millenial</td>\n",
       "      <td>26263</td>\n",
       "    </tr>\n",
       "    <tr>\n",
       "      <th>17</th>\n",
       "      <td>Subscriber</td>\n",
       "      <td>Male</td>\n",
       "      <td>Gen X</td>\n",
       "      <td>26161</td>\n",
       "    </tr>\n",
       "    <tr>\n",
       "      <th>18</th>\n",
       "      <td>Subscriber</td>\n",
       "      <td>Male</td>\n",
       "      <td>Gen Z</td>\n",
       "      <td>7529</td>\n",
       "    </tr>\n",
       "    <tr>\n",
       "      <th>19</th>\n",
       "      <td>Subscriber</td>\n",
       "      <td>Female</td>\n",
       "      <td>Gen X</td>\n",
       "      <td>6353</td>\n",
       "    </tr>\n",
       "    <tr>\n",
       "      <th>20</th>\n",
       "      <td>Subscriber</td>\n",
       "      <td>Male</td>\n",
       "      <td>Baby Boomers</td>\n",
       "      <td>6343</td>\n",
       "    </tr>\n",
       "    <tr>\n",
       "      <th>21</th>\n",
       "      <td>Subscriber</td>\n",
       "      <td>Female</td>\n",
       "      <td>Gen Z</td>\n",
       "      <td>2037</td>\n",
       "    </tr>\n",
       "    <tr>\n",
       "      <th>22</th>\n",
       "      <td>Subscriber</td>\n",
       "      <td>Other</td>\n",
       "      <td>Millenial</td>\n",
       "      <td>1976</td>\n",
       "    </tr>\n",
       "    <tr>\n",
       "      <th>23</th>\n",
       "      <td>Subscriber</td>\n",
       "      <td>Female</td>\n",
       "      <td>Baby Boomers</td>\n",
       "      <td>1496</td>\n",
       "    </tr>\n",
       "    <tr>\n",
       "      <th>24</th>\n",
       "      <td>Subscriber</td>\n",
       "      <td>Other</td>\n",
       "      <td>Gen X</td>\n",
       "      <td>870</td>\n",
       "    </tr>\n",
       "    <tr>\n",
       "      <th>25</th>\n",
       "      <td>Subscriber</td>\n",
       "      <td>Male</td>\n",
       "      <td>Silent Generation</td>\n",
       "      <td>280</td>\n",
       "    </tr>\n",
       "    <tr>\n",
       "      <th>26</th>\n",
       "      <td>Subscriber</td>\n",
       "      <td>Other</td>\n",
       "      <td>Baby Boomers</td>\n",
       "      <td>187</td>\n",
       "    </tr>\n",
       "    <tr>\n",
       "      <th>27</th>\n",
       "      <td>Subscriber</td>\n",
       "      <td>Other</td>\n",
       "      <td>Gen Z</td>\n",
       "      <td>138</td>\n",
       "    </tr>\n",
       "    <tr>\n",
       "      <th>28</th>\n",
       "      <td>Subscriber</td>\n",
       "      <td>Female</td>\n",
       "      <td>Silent Generation</td>\n",
       "      <td>48</td>\n",
       "    </tr>\n",
       "    <tr>\n",
       "      <th>29</th>\n",
       "      <td>Subscriber</td>\n",
       "      <td>Other</td>\n",
       "      <td>Silent Generation</td>\n",
       "      <td>26</td>\n",
       "    </tr>\n",
       "  </tbody>\n",
       "</table>\n",
       "</div>"
      ],
      "text/plain": [
       "     user_type member_gender         generation  type_count\n",
       "0     Customer          Male          Millenial        7724\n",
       "1     Customer        Female          Millenial        3405\n",
       "2     Customer          Male              Gen X        2431\n",
       "3     Customer          Male              Gen Z         856\n",
       "4     Customer        Female              Gen X         729\n",
       "5     Customer          Male       Baby Boomers         505\n",
       "6     Customer         Other          Millenial         355\n",
       "7     Customer        Female              Gen Z         355\n",
       "8     Customer        Female       Baby Boomers         157\n",
       "9     Customer         Other              Gen X          64\n",
       "10    Customer         Other       Baby Boomers          20\n",
       "11    Customer         Other              Gen Z          14\n",
       "12    Customer          Male  Silent Generation          13\n",
       "13    Customer         Other  Silent Generation           2\n",
       "14    Customer        Female  Silent Generation           1\n",
       "15  Subscriber          Male          Millenial       78809\n",
       "16  Subscriber        Female          Millenial       26263\n",
       "17  Subscriber          Male              Gen X       26161\n",
       "18  Subscriber          Male              Gen Z        7529\n",
       "19  Subscriber        Female              Gen X        6353\n",
       "20  Subscriber          Male       Baby Boomers        6343\n",
       "21  Subscriber        Female              Gen Z        2037\n",
       "22  Subscriber         Other          Millenial        1976\n",
       "23  Subscriber        Female       Baby Boomers        1496\n",
       "24  Subscriber         Other              Gen X         870\n",
       "25  Subscriber          Male  Silent Generation         280\n",
       "26  Subscriber         Other       Baby Boomers         187\n",
       "27  Subscriber         Other              Gen Z         138\n",
       "28  Subscriber        Female  Silent Generation          48\n",
       "29  Subscriber         Other  Silent Generation          26"
      ]
     },
     "execution_count": 126,
     "metadata": {},
     "output_type": "execute_result"
    }
   ],
   "source": [
    "# Generating the total count of user type in a separate column type_count\n",
    "user_type_count =  (\n",
    "    user_type_df.drop('member_birth_year', axis=1)\n",
    "    .groupby('user_type').value_counts()\n",
    "    .reset_index(name=\"type_count\")\n",
    ")\n",
    "user_type_count"
   ]
  },
  {
   "cell_type": "markdown",
   "id": "34ae86fa-8047-46c9-8f5d-75d771643e3e",
   "metadata": {},
   "source": [
    "##### Evaluate ( user type count X gender )"
   ]
  },
  {
   "cell_type": "code",
   "execution_count": 127,
   "id": "4478083f-d3c0-48a4-a298-eb067a7e8a86",
   "metadata": {},
   "outputs": [
    {
     "data": {
      "text/html": [
       "<div>\n",
       "<style scoped>\n",
       "    .dataframe tbody tr th:only-of-type {\n",
       "        vertical-align: middle;\n",
       "    }\n",
       "\n",
       "    .dataframe tbody tr th {\n",
       "        vertical-align: top;\n",
       "    }\n",
       "\n",
       "    .dataframe thead th {\n",
       "        text-align: right;\n",
       "    }\n",
       "</style>\n",
       "<table border=\"1\" class=\"dataframe\">\n",
       "  <thead>\n",
       "    <tr style=\"text-align: right;\">\n",
       "      <th></th>\n",
       "      <th>user_type</th>\n",
       "      <th>member_gender</th>\n",
       "      <th>type_count</th>\n",
       "    </tr>\n",
       "  </thead>\n",
       "  <tbody>\n",
       "    <tr>\n",
       "      <th>0</th>\n",
       "      <td>Customer</td>\n",
       "      <td>Female</td>\n",
       "      <td>4647</td>\n",
       "    </tr>\n",
       "    <tr>\n",
       "      <th>1</th>\n",
       "      <td>Customer</td>\n",
       "      <td>Male</td>\n",
       "      <td>11529</td>\n",
       "    </tr>\n",
       "    <tr>\n",
       "      <th>2</th>\n",
       "      <td>Customer</td>\n",
       "      <td>Other</td>\n",
       "      <td>455</td>\n",
       "    </tr>\n",
       "    <tr>\n",
       "      <th>3</th>\n",
       "      <td>Subscriber</td>\n",
       "      <td>Female</td>\n",
       "      <td>36197</td>\n",
       "    </tr>\n",
       "    <tr>\n",
       "      <th>4</th>\n",
       "      <td>Subscriber</td>\n",
       "      <td>Male</td>\n",
       "      <td>119122</td>\n",
       "    </tr>\n",
       "    <tr>\n",
       "      <th>5</th>\n",
       "      <td>Subscriber</td>\n",
       "      <td>Other</td>\n",
       "      <td>3197</td>\n",
       "    </tr>\n",
       "  </tbody>\n",
       "</table>\n",
       "</div>"
      ],
      "text/plain": [
       "    user_type member_gender  type_count\n",
       "0    Customer        Female        4647\n",
       "1    Customer          Male       11529\n",
       "2    Customer         Other         455\n",
       "3  Subscriber        Female       36197\n",
       "4  Subscriber          Male      119122\n",
       "5  Subscriber         Other        3197"
      ]
     },
     "execution_count": 127,
     "metadata": {},
     "output_type": "execute_result"
    }
   ],
   "source": [
    "grouped_type_sex = user_type_count.groupby(['user_type', 'member_gender'])['type_count'].sum().reset_index(name=\"type_count\")\n",
    "grouped_type_sex"
   ]
  },
  {
   "cell_type": "code",
   "execution_count": 128,
   "id": "15d9a352-2d99-4f74-bc15-b758bd28bff9",
   "metadata": {},
   "outputs": [
    {
     "data": {
      "text/plain": [
       "<AxesSubplot:xlabel='user_type', ylabel='type_count'>"
      ]
     },
     "execution_count": 128,
     "metadata": {},
     "output_type": "execute_result"
    },
    {
     "data": {
      "image/png": "[encoded data removed]",
      "text/plain": [
       "<Figure size 432x288 with 1 Axes>"
      ]
     },
     "metadata": {
      "needs_background": "light"
     },
     "output_type": "display_data"
    }
   ],
   "source": [
    "sb.barplot(data=grouped_type_sex, x='user_type', y='type_count', hue='member_gender')"
   ]
  },
  {
   "cell_type": "markdown",
   "id": "34382902-47a5-4bae-9dac-e6bf18c24a42",
   "metadata": {},
   "source": [
    "##### Evaluate ( User Type  X Generation )"
   ]
  },
  {
   "cell_type": "code",
   "execution_count": 129,
   "id": "905313be-06ff-4e13-8d3b-9257d5a653d3",
   "metadata": {},
   "outputs": [
    {
     "data": {
      "text/html": [
       "<div>\n",
       "<style scoped>\n",
       "    .dataframe tbody tr th:only-of-type {\n",
       "        vertical-align: middle;\n",
       "    }\n",
       "\n",
       "    .dataframe tbody tr th {\n",
       "        vertical-align: top;\n",
       "    }\n",
       "\n",
       "    .dataframe thead th {\n",
       "        text-align: right;\n",
       "    }\n",
       "</style>\n",
       "<table border=\"1\" class=\"dataframe\">\n",
       "  <thead>\n",
       "    <tr style=\"text-align: right;\">\n",
       "      <th></th>\n",
       "      <th>user_type</th>\n",
       "      <th>generation</th>\n",
       "      <th>type_count</th>\n",
       "    </tr>\n",
       "  </thead>\n",
       "  <tbody>\n",
       "    <tr>\n",
       "      <th>0</th>\n",
       "      <td>Customer</td>\n",
       "      <td>Baby Boomers</td>\n",
       "      <td>682</td>\n",
       "    </tr>\n",
       "    <tr>\n",
       "      <th>1</th>\n",
       "      <td>Customer</td>\n",
       "      <td>Gen X</td>\n",
       "      <td>3224</td>\n",
       "    </tr>\n",
       "    <tr>\n",
       "      <th>2</th>\n",
       "      <td>Customer</td>\n",
       "      <td>Gen Z</td>\n",
       "      <td>1225</td>\n",
       "    </tr>\n",
       "    <tr>\n",
       "      <th>3</th>\n",
       "      <td>Customer</td>\n",
       "      <td>Millenial</td>\n",
       "      <td>11484</td>\n",
       "    </tr>\n",
       "    <tr>\n",
       "      <th>4</th>\n",
       "      <td>Customer</td>\n",
       "      <td>Silent Generation</td>\n",
       "      <td>16</td>\n",
       "    </tr>\n",
       "    <tr>\n",
       "      <th>5</th>\n",
       "      <td>Subscriber</td>\n",
       "      <td>Baby Boomers</td>\n",
       "      <td>8026</td>\n",
       "    </tr>\n",
       "    <tr>\n",
       "      <th>6</th>\n",
       "      <td>Subscriber</td>\n",
       "      <td>Gen X</td>\n",
       "      <td>33384</td>\n",
       "    </tr>\n",
       "    <tr>\n",
       "      <th>7</th>\n",
       "      <td>Subscriber</td>\n",
       "      <td>Gen Z</td>\n",
       "      <td>9704</td>\n",
       "    </tr>\n",
       "    <tr>\n",
       "      <th>8</th>\n",
       "      <td>Subscriber</td>\n",
       "      <td>Millenial</td>\n",
       "      <td>107048</td>\n",
       "    </tr>\n",
       "    <tr>\n",
       "      <th>9</th>\n",
       "      <td>Subscriber</td>\n",
       "      <td>Silent Generation</td>\n",
       "      <td>354</td>\n",
       "    </tr>\n",
       "  </tbody>\n",
       "</table>\n",
       "</div>"
      ],
      "text/plain": [
       "    user_type         generation  type_count\n",
       "0    Customer       Baby Boomers         682\n",
       "1    Customer              Gen X        3224\n",
       "2    Customer              Gen Z        1225\n",
       "3    Customer          Millenial       11484\n",
       "4    Customer  Silent Generation          16\n",
       "5  Subscriber       Baby Boomers        8026\n",
       "6  Subscriber              Gen X       33384\n",
       "7  Subscriber              Gen Z        9704\n",
       "8  Subscriber          Millenial      107048\n",
       "9  Subscriber  Silent Generation         354"
      ]
     },
     "execution_count": 129,
     "metadata": {},
     "output_type": "execute_result"
    }
   ],
   "source": [
    "grouped_type_gen = user_type_count.groupby(['user_type', 'generation'])['type_count'].sum().reset_index(name=\"type_count\")\n",
    "grouped_type_gen"
   ]
  },
  {
   "cell_type": "code",
   "execution_count": 130,
   "id": "73312df6-375e-4836-a836-9b327b5978df",
   "metadata": {},
   "outputs": [
    {
     "data": {
      "text/plain": [
       "<AxesSubplot:xlabel='user_type', ylabel='type_count'>"
      ]
     },
     "execution_count": 130,
     "metadata": {},
     "output_type": "execute_result"
    },
    {
     "data": {
      "image/png": "[encoded data removed]",
      "text/plain": [
       "<Figure size 432x288 with 1 Axes>"
      ]
     },
     "metadata": {
      "needs_background": "light"
     },
     "output_type": "display_data"
    }
   ],
   "source": [
    "sb.barplot(data=grouped_type_gen, x='user_type', y='type_count', hue='generation')"
   ]
  },
  {
   "cell_type": "markdown",
   "id": "0857163e-1ad1-4dbd-abe4-77e62f8303a2",
   "metadata": {},
   "source": [
    "#### which station was most trip started from ? ( Questions )"
   ]
  },
  {
   "cell_type": "markdown",
   "id": "225b044c-ad24-4fcb-90c1-5de600b546aa",
   "metadata": {},
   "source": [
    "to answer this question, either we have to prefill the missing station names using google maps api ( [see here](#Explanatory-Data-Analysis) ) or take them off. \n",
    "\n",
    "For now i'll take them off as the observations (197) wouldn't have much impact on our analysis when removed from dataset of about 183,412."
   ]
  },
  {
   "cell_type": "code",
   "execution_count": 131,
   "id": "a34dea21-044e-4baf-a535-7c0a4de4273b",
   "metadata": {},
   "outputs": [],
   "source": [
    "# remove those entries with null values\n",
    "cleaned_start_station_name_df = curiousity_df[curiousity_df['start_station_name'].isna() == False]"
   ]
  },
  {
   "cell_type": "code",
   "execution_count": 132,
   "id": "7719d644-93fe-4a15-85a4-4417176a3949",
   "metadata": {},
   "outputs": [
    {
     "data": {
      "text/plain": [
       "user_type                0\n",
       "start_station_name       0\n",
       "end_station_name         0\n",
       "member_birth_year     8263\n",
       "member_gender         8263\n",
       "duration_sec             0\n",
       "dtype: int64"
      ]
     },
     "execution_count": 132,
     "metadata": {},
     "output_type": "execute_result"
    }
   ],
   "source": [
    "# check that there're no more null values for start_station_name\n",
    "cleaned_start_station_name_df.isna().sum()"
   ]
  },
  {
   "cell_type": "markdown",
   "id": "b4ff469f-4795-45a2-8831-6319640e5da2",
   "metadata": {},
   "source": [
    "Seems the observations which had start_station_name as null where also records with end_station_name as null."
   ]
  },
  {
   "cell_type": "code",
   "execution_count": 133,
   "id": "bbadc8e6-f205-487e-8eae-f71ea2194937",
   "metadata": {},
   "outputs": [
    {
     "data": {
      "text/html": [
       "<div>\n",
       "<style scoped>\n",
       "    .dataframe tbody tr th:only-of-type {\n",
       "        vertical-align: middle;\n",
       "    }\n",
       "\n",
       "    .dataframe tbody tr th {\n",
       "        vertical-align: top;\n",
       "    }\n",
       "\n",
       "    .dataframe thead th {\n",
       "        text-align: right;\n",
       "    }\n",
       "</style>\n",
       "<table border=\"1\" class=\"dataframe\">\n",
       "  <thead>\n",
       "    <tr style=\"text-align: right;\">\n",
       "      <th></th>\n",
       "      <th>user_type</th>\n",
       "      <th>start_station_name</th>\n",
       "      <th>end_station_name</th>\n",
       "      <th>member_birth_year</th>\n",
       "      <th>member_gender</th>\n",
       "      <th>duration_sec</th>\n",
       "    </tr>\n",
       "  </thead>\n",
       "  <tbody>\n",
       "    <tr>\n",
       "      <th>35767</th>\n",
       "      <td>Customer</td>\n",
       "      <td>Powell St BART Station (Market St at 4th St)</td>\n",
       "      <td>Howard St at Mary St</td>\n",
       "      <td>NaN</td>\n",
       "      <td>NaN</td>\n",
       "      <td>614</td>\n",
       "    </tr>\n",
       "    <tr>\n",
       "      <th>29649</th>\n",
       "      <td>Subscriber</td>\n",
       "      <td>North Berkeley BART Station</td>\n",
       "      <td>Addison St at Fourth St</td>\n",
       "      <td>1980.0</td>\n",
       "      <td>Female</td>\n",
       "      <td>481</td>\n",
       "    </tr>\n",
       "    <tr>\n",
       "      <th>16426</th>\n",
       "      <td>Subscriber</td>\n",
       "      <td>Howard St at 8th St</td>\n",
       "      <td>8th St at Brannan St</td>\n",
       "      <td>1984.0</td>\n",
       "      <td>Male</td>\n",
       "      <td>274</td>\n",
       "    </tr>\n",
       "  </tbody>\n",
       "</table>\n",
       "</div>"
      ],
      "text/plain": [
       "        user_type                            start_station_name  \\\n",
       "35767    Customer  Powell St BART Station (Market St at 4th St)   \n",
       "29649  Subscriber                   North Berkeley BART Station   \n",
       "16426  Subscriber                           Howard St at 8th St   \n",
       "\n",
       "              end_station_name  member_birth_year member_gender  duration_sec  \n",
       "35767     Howard St at Mary St                NaN           NaN           614  \n",
       "29649  Addison St at Fourth St             1980.0        Female           481  \n",
       "16426     8th St at Brannan St             1984.0          Male           274  "
      ]
     },
     "execution_count": 133,
     "metadata": {},
     "output_type": "execute_result"
    }
   ],
   "source": [
    "# check 3 sample from the observations\n",
    "cleaned_start_station_name_df.sample(3)"
   ]
  },
  {
   "cell_type": "code",
   "execution_count": 134,
   "id": "b61efa6d-d34e-42f2-bc97-3adcbc1adda7",
   "metadata": {},
   "outputs": [
    {
     "data": {
      "text/plain": [
       "329"
      ]
     },
     "execution_count": 134,
     "metadata": {},
     "output_type": "execute_result"
    }
   ],
   "source": [
    "# check the unique count of start_station_name\n",
    "cleaned_start_station_name_df.start_station_name.nunique()"
   ]
  },
  {
   "cell_type": "code",
   "execution_count": 135,
   "id": "668db1df-b40c-4947-8dcf-ee5988e097b8",
   "metadata": {},
   "outputs": [],
   "source": [
    "# get the frequency count of each station\n",
    "start_station_sized_count_df = cleaned_start_station_name_df.groupby('start_station_name').size().reset_index(name=\"count\")"
   ]
  },
  {
   "cell_type": "code",
   "execution_count": 136,
   "id": "efec343d-0356-418a-baad-f64db70d786a",
   "metadata": {},
   "outputs": [
    {
     "data": {
      "text/html": [
       "<div>\n",
       "<style scoped>\n",
       "    .dataframe tbody tr th:only-of-type {\n",
       "        vertical-align: middle;\n",
       "    }\n",
       "\n",
       "    .dataframe tbody tr th {\n",
       "        vertical-align: top;\n",
       "    }\n",
       "\n",
       "    .dataframe thead th {\n",
       "        text-align: right;\n",
       "    }\n",
       "</style>\n",
       "<table border=\"1\" class=\"dataframe\">\n",
       "  <thead>\n",
       "    <tr style=\"text-align: right;\">\n",
       "      <th></th>\n",
       "      <th>start_station_name</th>\n",
       "      <th>count</th>\n",
       "    </tr>\n",
       "  </thead>\n",
       "  <tbody>\n",
       "    <tr>\n",
       "      <th>55</th>\n",
       "      <td>55th St at Telegraph Ave</td>\n",
       "      <td>129</td>\n",
       "    </tr>\n",
       "    <tr>\n",
       "      <th>178</th>\n",
       "      <td>Jackson St at 11th St</td>\n",
       "      <td>143</td>\n",
       "    </tr>\n",
       "    <tr>\n",
       "      <th>248</th>\n",
       "      <td>Ryland Park</td>\n",
       "      <td>434</td>\n",
       "    </tr>\n",
       "  </tbody>\n",
       "</table>\n",
       "</div>"
      ],
      "text/plain": [
       "           start_station_name  count\n",
       "55   55th St at Telegraph Ave    129\n",
       "178     Jackson St at 11th St    143\n",
       "248               Ryland Park    434"
      ]
     },
     "execution_count": 136,
     "metadata": {},
     "output_type": "execute_result"
    }
   ],
   "source": [
    "start_station_sized_count_df.sample(3)"
   ]
  },
  {
   "cell_type": "markdown",
   "id": "a69a86fd-8761-46e7-a6ea-0c642dcfb7b9",
   "metadata": {},
   "source": [
    "##### Finding the station where most trips where started from"
   ]
  },
  {
   "cell_type": "code",
   "execution_count": 137,
   "id": "11e2c708-c7f8-4548-bee6-dfe31f907763",
   "metadata": {},
   "outputs": [
    {
     "data": {
      "text/plain": [
       "3904"
      ]
     },
     "execution_count": 137,
     "metadata": {},
     "output_type": "execute_result"
    }
   ],
   "source": [
    "# check for the max count value\n",
    "start_station_sized_count_df['count'].max()"
   ]
  },
  {
   "cell_type": "code",
   "execution_count": 138,
   "id": "b71ac93d-9384-4a3b-ab1c-0f439339ba8a",
   "metadata": {},
   "outputs": [
    {
     "data": {
      "text/html": [
       "<div>\n",
       "<style scoped>\n",
       "    .dataframe tbody tr th:only-of-type {\n",
       "        vertical-align: middle;\n",
       "    }\n",
       "\n",
       "    .dataframe tbody tr th {\n",
       "        vertical-align: top;\n",
       "    }\n",
       "\n",
       "    .dataframe thead th {\n",
       "        text-align: right;\n",
       "    }\n",
       "</style>\n",
       "<table border=\"1\" class=\"dataframe\">\n",
       "  <thead>\n",
       "    <tr style=\"text-align: right;\">\n",
       "      <th></th>\n",
       "      <th>start_station_name</th>\n",
       "      <th>count</th>\n",
       "    </tr>\n",
       "  </thead>\n",
       "  <tbody>\n",
       "    <tr>\n",
       "      <th>199</th>\n",
       "      <td>Market St at 10th St</td>\n",
       "      <td>3904</td>\n",
       "    </tr>\n",
       "  </tbody>\n",
       "</table>\n",
       "</div>"
      ],
      "text/plain": [
       "       start_station_name  count\n",
       "199  Market St at 10th St   3904"
      ]
     },
     "execution_count": 138,
     "metadata": {},
     "output_type": "execute_result"
    }
   ],
   "source": [
    "# retrieve the station with the highest number of trip recorded\n",
    "start_station_sized_count_df[start_station_sized_count_df['count'] == 3904]"
   ]
  },
  {
   "cell_type": "markdown",
   "id": "30d6b1cd-b3b0-48d8-8641-1c255b379d35",
   "metadata": {},
   "source": [
    "_The station where most trip are started from is __Market St at 10th St__ holding a value of **3904** trips recorded to had started from it_"
   ]
  },
  {
   "cell_type": "markdown",
   "id": "a1d83aba-b4f2-43e2-8a7a-1b2bdc216de0",
   "metadata": {},
   "source": [
    "##### Finding the station where least trips where started from"
   ]
  },
  {
   "cell_type": "code",
   "execution_count": 139,
   "id": "db355f4f-68df-4a14-bc27-23f3693be338",
   "metadata": {},
   "outputs": [
    {
     "data": {
      "text/plain": [
       "2"
      ]
     },
     "execution_count": 139,
     "metadata": {},
     "output_type": "execute_result"
    }
   ],
   "source": [
    "# check for the min count\n",
    "start_station_sized_count_df['count'].min()"
   ]
  },
  {
   "cell_type": "code",
   "execution_count": 140,
   "id": "721ed2e3-4202-447b-9806-bbb67256e07e",
   "metadata": {},
   "outputs": [
    {
     "data": {
      "text/html": [
       "<div>\n",
       "<style scoped>\n",
       "    .dataframe tbody tr th:only-of-type {\n",
       "        vertical-align: middle;\n",
       "    }\n",
       "\n",
       "    .dataframe tbody tr th {\n",
       "        vertical-align: top;\n",
       "    }\n",
       "\n",
       "    .dataframe thead th {\n",
       "        text-align: right;\n",
       "    }\n",
       "</style>\n",
       "<table border=\"1\" class=\"dataframe\">\n",
       "  <thead>\n",
       "    <tr style=\"text-align: right;\">\n",
       "      <th></th>\n",
       "      <th>start_station_name</th>\n",
       "      <th>count</th>\n",
       "    </tr>\n",
       "  </thead>\n",
       "  <tbody>\n",
       "    <tr>\n",
       "      <th>10</th>\n",
       "      <td>16th St Depot</td>\n",
       "      <td>2</td>\n",
       "    </tr>\n",
       "  </tbody>\n",
       "</table>\n",
       "</div>"
      ],
      "text/plain": [
       "   start_station_name  count\n",
       "10      16th St Depot      2"
      ]
     },
     "execution_count": 140,
     "metadata": {},
     "output_type": "execute_result"
    }
   ],
   "source": [
    "# retrieve the station with the lowest number of trip recorded\n",
    "start_station_sized_count_df[start_station_sized_count_df['count'] == 2]"
   ]
  },
  {
   "cell_type": "markdown",
   "id": "42470d32-584d-434a-be1a-c0c5f8f9d990",
   "metadata": {},
   "source": [
    "_The station where the least trip are started from is __16th St Depot__ holding a value of **2** trips recorded to had started from it_"
   ]
  },
  {
   "cell_type": "markdown",
   "id": "dea8f9fa-e021-494d-84e0-6cb61bc6de3f",
   "metadata": {},
   "source": [
    "##### Binning each station into tiers to find the the busiest stations"
   ]
  },
  {
   "cell_type": "code",
   "execution_count": 141,
   "id": "a0249977-4e02-48a7-bea7-a2cacf9c4fbd",
   "metadata": {},
   "outputs": [],
   "source": [
    "# group into counts into bins\n",
    "bins = [0, 500, 1000, 5000]\n",
    "labels = ['low', 'mid', 'high']\n",
    "start_station_sized_count_df['tiers'] = pd.cut(x=start_station_sized_count_df['count'], bins=bins, labels=labels, include_lowest=True)"
   ]
  },
  {
   "cell_type": "code",
   "execution_count": 142,
   "id": "8efb60c6-3041-4641-9391-87f5865a4853",
   "metadata": {},
   "outputs": [
    {
     "data": {
      "text/html": [
       "<div>\n",
       "<style scoped>\n",
       "    .dataframe tbody tr th:only-of-type {\n",
       "        vertical-align: middle;\n",
       "    }\n",
       "\n",
       "    .dataframe tbody tr th {\n",
       "        vertical-align: top;\n",
       "    }\n",
       "\n",
       "    .dataframe thead th {\n",
       "        text-align: right;\n",
       "    }\n",
       "</style>\n",
       "<table border=\"1\" class=\"dataframe\">\n",
       "  <thead>\n",
       "    <tr style=\"text-align: right;\">\n",
       "      <th></th>\n",
       "      <th>start_station_name</th>\n",
       "      <th>count</th>\n",
       "      <th>tiers</th>\n",
       "    </tr>\n",
       "  </thead>\n",
       "  <tbody>\n",
       "    <tr>\n",
       "      <th>223</th>\n",
       "      <td>Myrtle St at Polk St</td>\n",
       "      <td>828</td>\n",
       "      <td>mid</td>\n",
       "    </tr>\n",
       "    <tr>\n",
       "      <th>260</th>\n",
       "      <td>San Francisco Caltrain Station 2  (Townsend St...</td>\n",
       "      <td>3544</td>\n",
       "      <td>high</td>\n",
       "    </tr>\n",
       "    <tr>\n",
       "      <th>161</th>\n",
       "      <td>Harmon St at Adeline St</td>\n",
       "      <td>158</td>\n",
       "      <td>low</td>\n",
       "    </tr>\n",
       "  </tbody>\n",
       "</table>\n",
       "</div>"
      ],
      "text/plain": [
       "                                    start_station_name  count tiers\n",
       "223                               Myrtle St at Polk St    828   mid\n",
       "260  San Francisco Caltrain Station 2  (Townsend St...   3544  high\n",
       "161                            Harmon St at Adeline St    158   low"
      ]
     },
     "execution_count": 142,
     "metadata": {},
     "output_type": "execute_result"
    }
   ],
   "source": [
    "start_station_sized_count_df.sample(3)"
   ]
  },
  {
   "cell_type": "code",
   "execution_count": 143,
   "id": "0b4dc673-d913-4af2-8efe-4c299982ef4a",
   "metadata": {},
   "outputs": [
    {
     "data": {
      "text/plain": [
       "<AxesSubplot:xlabel='tiers', ylabel='count'>"
      ]
     },
     "execution_count": 143,
     "metadata": {},
     "output_type": "execute_result"
    },
    {
     "data": {
      "image/png": "[encoded data removed]",
      "text/plain": [
       "<Figure size 432x288 with 1 Axes>"
      ]
     },
     "metadata": {
      "needs_background": "light"
     },
     "output_type": "display_data"
    }
   ],
   "source": [
    "# check the tiers within which majority of the observations falls into\n",
    "sb.countplot(x='tiers', data=start_station_sized_count_df, color='black')"
   ]
  },
  {
   "cell_type": "code",
   "execution_count": 144,
   "id": "14fe3b15-6047-4051-93a2-e5111c4a8ed2",
   "metadata": {},
   "outputs": [
    {
     "data": {
      "text/html": [
       "<div>\n",
       "<style scoped>\n",
       "    .dataframe tbody tr th:only-of-type {\n",
       "        vertical-align: middle;\n",
       "    }\n",
       "\n",
       "    .dataframe tbody tr th {\n",
       "        vertical-align: top;\n",
       "    }\n",
       "\n",
       "    .dataframe thead th {\n",
       "        text-align: right;\n",
       "    }\n",
       "</style>\n",
       "<table border=\"1\" class=\"dataframe\">\n",
       "  <thead>\n",
       "    <tr style=\"text-align: right;\">\n",
       "      <th></th>\n",
       "      <th>start_station_name</th>\n",
       "      <th>count</th>\n",
       "    </tr>\n",
       "    <tr>\n",
       "      <th>tiers</th>\n",
       "      <th></th>\n",
       "      <th></th>\n",
       "    </tr>\n",
       "  </thead>\n",
       "  <tbody>\n",
       "    <tr>\n",
       "      <th>low</th>\n",
       "      <td>190</td>\n",
       "      <td>190</td>\n",
       "    </tr>\n",
       "    <tr>\n",
       "      <th>mid</th>\n",
       "      <td>94</td>\n",
       "      <td>94</td>\n",
       "    </tr>\n",
       "    <tr>\n",
       "      <th>high</th>\n",
       "      <td>45</td>\n",
       "      <td>45</td>\n",
       "    </tr>\n",
       "  </tbody>\n",
       "</table>\n",
       "</div>"
      ],
      "text/plain": [
       "       start_station_name  count\n",
       "tiers                           \n",
       "low                   190    190\n",
       "mid                    94     94\n",
       "high                   45     45"
      ]
     },
     "execution_count": 144,
     "metadata": {},
     "output_type": "execute_result"
    }
   ],
   "source": [
    "start_station_sized_count_df.groupby('tiers').count()"
   ]
  },
  {
   "cell_type": "markdown",
   "id": "40a3e73e-3a55-43bb-972f-860ec937f796",
   "metadata": {},
   "source": [
    "_majority of the observations falls within the range of 0 - 500, with 190 records aggregated by their station name. Second tier is the mid tier ranking third with 94 observations and high tier with 45 observations_\n",
    "\n",
    "It shows that most busiest stations are not as much as the least busy station"
   ]
  },
  {
   "cell_type": "code",
   "execution_count": 145,
   "id": "e63a7d0b-5281-4794-86a2-59b3e4d35dbf",
   "metadata": {},
   "outputs": [
    {
     "data": {
      "text/plain": [
       "count    183215.000000\n",
       "mean        725.902017\n",
       "std        1795.078654\n",
       "min          61.000000\n",
       "25%         325.000000\n",
       "50%         514.000000\n",
       "75%         796.000000\n",
       "max       85444.000000\n",
       "Name: duration_sec, dtype: float64"
      ]
     },
     "execution_count": 145,
     "metadata": {},
     "output_type": "execute_result"
    }
   ],
   "source": [
    "cleaned_start_station_name_df.duration_sec.describe()"
   ]
  },
  {
   "cell_type": "code",
   "execution_count": 146,
   "id": "f241ddfc-d28a-413a-8eeb-1006231d66b8",
   "metadata": {},
   "outputs": [],
   "source": [
    "# create a facet grid to explore stations that falls within the high tier ( 1000 - 5000 ) record \n",
    "# start_station_name_in_high_tier = start_station_sized_count_df[start_station_sized_count_df['tiers'] == 'high'].start_station_name\n",
    "# g = sb.FacetGrid(\n",
    "#     data=cleaned_start_station_name_df[cleaned_start_station_name_df['start_station_name'].isin(start_station_name_in_high_tier)], \n",
    "#     col='start_station_name',\n",
    "#     hue='user_type',\n",
    "#     col_wrap=5,\n",
    "# )\n",
    "\n",
    "# g.map(plt.hist, 'duration_sec')\n",
    "# g.set_titles('{col_name}')"
   ]
  },
  {
   "cell_type": "markdown",
   "id": "d3c49a6d-03ef-4fb3-b864-12e191e079e5",
   "metadata": {},
   "source": [
    "##### Which user type spent the most duration in seconds ?"
   ]
  },
  {
   "cell_type": "code",
   "execution_count": 147,
   "id": "4104bc50-8d7a-4a49-b8f0-af5c8d426e79",
   "metadata": {},
   "outputs": [],
   "source": [
    "new_df = cleaned_start_station_name_df[['duration_sec', 'user_type', 'start_station_name', 'member_gender']].copy()"
   ]
  },
  {
   "cell_type": "code",
   "execution_count": 148,
   "id": "95b4dbae-88bf-4c82-9112-1d8421320c16",
   "metadata": {},
   "outputs": [
    {
     "data": {
      "text/plain": [
       "<matplotlib.legend.Legend at 0x1621ef96610>"
      ]
     },
     "execution_count": 148,
     "metadata": {},
     "output_type": "execute_result"
    },
    {
     "data": {
      "image/png": "[encoded data removed]",
      "text/plain": [
       "<Figure size 432x288 with 1 Axes>"
      ]
     },
     "metadata": {
      "needs_background": "light"
     },
     "output_type": "display_data"
    }
   ],
   "source": [
    "new_df.pivot_table(['duration_sec'], index=['user_type'], dropna=True, columns=['member_gender']).plot(kind=\"bar\")\n",
    "plt.legend(['Female', 'Male', 'Other'], title=\"Member Gender\")"
   ]
  },
  {
   "cell_type": "markdown",
   "id": "6ead8a8a-17d6-47a0-a248-81f23ccd4008",
   "metadata": {},
   "source": [
    "_Unspecified user type, known as **Others** in the dataset has much more trip duration for both customer and subscribers_"
   ]
  },
  {
   "cell_type": "markdown",
   "id": "d281101f-60b0-468e-8aa1-edc432df3741",
   "metadata": {},
   "source": [
    "#### Busiest Route"
   ]
  },
  {
   "cell_type": "markdown",
   "id": "9e8df4d3-128f-4efc-b21a-ba631f4333b7",
   "metadata": {},
   "source": [
    "_seeking to answer_\n",
    "- _which route is the busiest route ?_"
   ]
  },
  {
   "cell_type": "markdown",
   "id": "e22449de-7d8f-4ef3-8b83-8e785dd798ef",
   "metadata": {},
   "source": [
    "##### Data preparation"
   ]
  },
  {
   "cell_type": "code",
   "execution_count": 149,
   "id": "f5b6d53b-4f09-49ab-9bcd-4e947c4fccb7",
   "metadata": {},
   "outputs": [],
   "source": [
    "# create copy of the relevant variables to answer the question\n",
    "routes_df = cleaned_start_station_name_df[['duration_sec', 'start_station_name', 'end_station_name']].copy()"
   ]
  },
  {
   "cell_type": "code",
   "execution_count": 150,
   "id": "90efde95-9d7f-42c9-adae-f6fc0ff09e44",
   "metadata": {},
   "outputs": [],
   "source": [
    "# generate route variable\n",
    "routes_df['route'] = routes_df['start_station_name'] + ' to ' + routes_df['end_station_name']"
   ]
  },
  {
   "cell_type": "code",
   "execution_count": 151,
   "id": "2f9dccab-004b-4a04-a135-2c66a9eda64c",
   "metadata": {},
   "outputs": [
    {
     "data": {
      "text/html": [
       "<div>\n",
       "<style scoped>\n",
       "    .dataframe tbody tr th:only-of-type {\n",
       "        vertical-align: middle;\n",
       "    }\n",
       "\n",
       "    .dataframe tbody tr th {\n",
       "        vertical-align: top;\n",
       "    }\n",
       "\n",
       "    .dataframe thead th {\n",
       "        text-align: right;\n",
       "    }\n",
       "</style>\n",
       "<table border=\"1\" class=\"dataframe\">\n",
       "  <thead>\n",
       "    <tr style=\"text-align: right;\">\n",
       "      <th></th>\n",
       "      <th>duration_sec</th>\n",
       "      <th>start_station_name</th>\n",
       "      <th>end_station_name</th>\n",
       "      <th>route</th>\n",
       "    </tr>\n",
       "  </thead>\n",
       "  <tbody>\n",
       "    <tr>\n",
       "      <th>131147</th>\n",
       "      <td>556</td>\n",
       "      <td>San Francisco Caltrain Station 2  (Townsend St...</td>\n",
       "      <td>11th St at Natoma St</td>\n",
       "      <td>San Francisco Caltrain Station 2  (Townsend St...</td>\n",
       "    </tr>\n",
       "    <tr>\n",
       "      <th>28470</th>\n",
       "      <td>916</td>\n",
       "      <td>Doyle St at 59th St</td>\n",
       "      <td>West Oakland BART Station</td>\n",
       "      <td>Doyle St at 59th St to West Oakland BART Station</td>\n",
       "    </tr>\n",
       "    <tr>\n",
       "      <th>159721</th>\n",
       "      <td>660</td>\n",
       "      <td>Mechanics Monument Plaza (Market St at Bush St)</td>\n",
       "      <td>San Francisco Public Library (Grove St at Hyde...</td>\n",
       "      <td>Mechanics Monument Plaza (Market St at Bush St...</td>\n",
       "    </tr>\n",
       "  </tbody>\n",
       "</table>\n",
       "</div>"
      ],
      "text/plain": [
       "        duration_sec                                 start_station_name  \\\n",
       "131147           556  San Francisco Caltrain Station 2  (Townsend St...   \n",
       "28470            916                                Doyle St at 59th St   \n",
       "159721           660    Mechanics Monument Plaza (Market St at Bush St)   \n",
       "\n",
       "                                         end_station_name  \\\n",
       "131147                               11th St at Natoma St   \n",
       "28470                           West Oakland BART Station   \n",
       "159721  San Francisco Public Library (Grove St at Hyde...   \n",
       "\n",
       "                                                    route  \n",
       "131147  San Francisco Caltrain Station 2  (Townsend St...  \n",
       "28470    Doyle St at 59th St to West Oakland BART Station  \n",
       "159721  Mechanics Monument Plaza (Market St at Bush St...  "
      ]
     },
     "execution_count": 151,
     "metadata": {},
     "output_type": "execute_result"
    }
   ],
   "source": [
    "# confirm the sample\n",
    "routes_df.sample(3)"
   ]
  },
  {
   "cell_type": "code",
   "execution_count": 152,
   "id": "5ee27acd-c504-4133-a3c5-28c3a7296373",
   "metadata": {},
   "outputs": [],
   "source": [
    "# Group by route column and count the unqiue rows in the dataframe\n",
    "routes_df = routes_df.groupby('route').value_counts().reset_index(name=\"count\").sort_values('count', ascending=False)"
   ]
  },
  {
   "cell_type": "code",
   "execution_count": 153,
   "id": "c1fc9374-a626-4590-b54f-d094039ddd6f",
   "metadata": {},
   "outputs": [],
   "source": [
    "# get total trip completed for a route\n",
    "total_route_trips_df = routes_df.groupby('route')['count'].sum().reset_index(name='total').sort_values('total', ascending=False)\n",
    "# get the total duration in seconds for each route\n",
    "total_route_trips_sec_df = routes_df.groupby('route')['duration_sec'].sum().reset_index(name='total_sec').sort_values('total_sec', ascending=False)"
   ]
  },
  {
   "cell_type": "code",
   "execution_count": 154,
   "id": "9088e108-c949-47ba-9b9a-19565c8d6ff2",
   "metadata": {},
   "outputs": [
    {
     "data": {
      "text/html": [
       "<div>\n",
       "<style scoped>\n",
       "    .dataframe tbody tr th:only-of-type {\n",
       "        vertical-align: middle;\n",
       "    }\n",
       "\n",
       "    .dataframe tbody tr th {\n",
       "        vertical-align: top;\n",
       "    }\n",
       "\n",
       "    .dataframe thead th {\n",
       "        text-align: right;\n",
       "    }\n",
       "</style>\n",
       "<table border=\"1\" class=\"dataframe\">\n",
       "  <thead>\n",
       "    <tr style=\"text-align: right;\">\n",
       "      <th></th>\n",
       "      <th>route</th>\n",
       "      <th>total</th>\n",
       "      <th>total_sec</th>\n",
       "    </tr>\n",
       "  </thead>\n",
       "  <tbody>\n",
       "    <tr>\n",
       "      <th>0</th>\n",
       "      <td>Bancroft Way at College Ave to Bancroft Way at...</td>\n",
       "      <td>223</td>\n",
       "      <td>20139</td>\n",
       "    </tr>\n",
       "    <tr>\n",
       "      <th>1</th>\n",
       "      <td>Market St at 10th St to Powell St BART Station...</td>\n",
       "      <td>247</td>\n",
       "      <td>69256</td>\n",
       "    </tr>\n",
       "    <tr>\n",
       "      <th>2</th>\n",
       "      <td>Embarcadero BART Station (Beale St at Market S...</td>\n",
       "      <td>160</td>\n",
       "      <td>24530</td>\n",
       "    </tr>\n",
       "    <tr>\n",
       "      <th>3</th>\n",
       "      <td>19th Street BART Station to Grand Ave at Perki...</td>\n",
       "      <td>284</td>\n",
       "      <td>118350</td>\n",
       "    </tr>\n",
       "    <tr>\n",
       "      <th>4</th>\n",
       "      <td>Townsend St at 7th St to San Francisco Caltrai...</td>\n",
       "      <td>272</td>\n",
       "      <td>31184</td>\n",
       "    </tr>\n",
       "    <tr>\n",
       "      <th>...</th>\n",
       "      <td>...</td>\n",
       "      <td>...</td>\n",
       "      <td>...</td>\n",
       "    </tr>\n",
       "    <tr>\n",
       "      <th>23643</th>\n",
       "      <td>Dolores St at 15th St to Raymond Kimbell Playg...</td>\n",
       "      <td>2</td>\n",
       "      <td>1974</td>\n",
       "    </tr>\n",
       "    <tr>\n",
       "      <th>23644</th>\n",
       "      <td>Dolores St at 15th St to Rhode Island St at 17...</td>\n",
       "      <td>1</td>\n",
       "      <td>712</td>\n",
       "    </tr>\n",
       "    <tr>\n",
       "      <th>23645</th>\n",
       "      <td>Dolores St at 15th St to San Francisco Public ...</td>\n",
       "      <td>5</td>\n",
       "      <td>3026</td>\n",
       "    </tr>\n",
       "    <tr>\n",
       "      <th>23646</th>\n",
       "      <td>Dolores St at 15th St to San Francisco Ferry B...</td>\n",
       "      <td>12</td>\n",
       "      <td>13786</td>\n",
       "    </tr>\n",
       "    <tr>\n",
       "      <th>23647</th>\n",
       "      <td>Dolores St at 15th St to San Francisco City Ha...</td>\n",
       "      <td>1</td>\n",
       "      <td>339</td>\n",
       "    </tr>\n",
       "  </tbody>\n",
       "</table>\n",
       "<p>23648 rows × 3 columns</p>\n",
       "</div>"
      ],
      "text/plain": [
       "                                                   route  total  total_sec\n",
       "0      Bancroft Way at College Ave to Bancroft Way at...    223      20139\n",
       "1      Market St at 10th St to Powell St BART Station...    247      69256\n",
       "2      Embarcadero BART Station (Beale St at Market S...    160      24530\n",
       "3      19th Street BART Station to Grand Ave at Perki...    284     118350\n",
       "4      Townsend St at 7th St to San Francisco Caltrai...    272      31184\n",
       "...                                                  ...    ...        ...\n",
       "23643  Dolores St at 15th St to Raymond Kimbell Playg...      2       1974\n",
       "23644  Dolores St at 15th St to Rhode Island St at 17...      1        712\n",
       "23645  Dolores St at 15th St to San Francisco Public ...      5       3026\n",
       "23646  Dolores St at 15th St to San Francisco Ferry B...     12      13786\n",
       "23647  Dolores St at 15th St to San Francisco City Ha...      1        339\n",
       "\n",
       "[23648 rows x 3 columns]"
      ]
     },
     "execution_count": 154,
     "metadata": {},
     "output_type": "execute_result"
    }
   ],
   "source": [
    "# drop 'duration in second' 'count', and 'station start & end name' as they've completed their desired tasks\n",
    "routes_df = routes_df.drop(['duration_sec', 'count', 'start_station_name', 'end_station_name'], axis=1).drop_duplicates()\n",
    "\n",
    "# merge total trips to routes dataframe\n",
    "routes_df = routes_df.merge(total_route_trips_df, on=\"route\", how='inner')\n",
    "\n",
    "# merge total duration in seconds routes dataframe\n",
    "routes_df = routes_df.merge(total_route_trips_sec_df, on='route', how='inner')\n",
    "\n",
    "# confirm dataframe\n",
    "routes_df"
   ]
  },
  {
   "cell_type": "markdown",
   "id": "2d622427-001b-403e-b73c-3ced8fcf654b",
   "metadata": {},
   "source": [
    "##### Top 10 busiest routes"
   ]
  },
  {
   "cell_type": "code",
   "execution_count": 155,
   "id": "434e9b4e-6ddb-4035-8e6e-10b6408a8a4a",
   "metadata": {},
   "outputs": [
    {
     "data": {
      "text/html": [
       "<div>\n",
       "<style scoped>\n",
       "    .dataframe tbody tr th:only-of-type {\n",
       "        vertical-align: middle;\n",
       "    }\n",
       "\n",
       "    .dataframe tbody tr th {\n",
       "        vertical-align: top;\n",
       "    }\n",
       "\n",
       "    .dataframe thead th {\n",
       "        text-align: right;\n",
       "    }\n",
       "</style>\n",
       "<table border=\"1\" class=\"dataframe\">\n",
       "  <thead>\n",
       "    <tr style=\"text-align: right;\">\n",
       "      <th></th>\n",
       "      <th>route</th>\n",
       "      <th>total</th>\n",
       "      <th>total_sec</th>\n",
       "    </tr>\n",
       "  </thead>\n",
       "  <tbody>\n",
       "    <tr>\n",
       "      <th>6</th>\n",
       "      <td>Berry St at 4th St to San Francisco Ferry Buil...</td>\n",
       "      <td>337</td>\n",
       "      <td>158804</td>\n",
       "    </tr>\n",
       "    <tr>\n",
       "      <th>5</th>\n",
       "      <td>San Francisco Ferry Building (Harry Bridges Pl...</td>\n",
       "      <td>314</td>\n",
       "      <td>213604</td>\n",
       "    </tr>\n",
       "    <tr>\n",
       "      <th>7</th>\n",
       "      <td>Grand Ave at Perkins St to 19th Street BART St...</td>\n",
       "      <td>310</td>\n",
       "      <td>71721</td>\n",
       "    </tr>\n",
       "    <tr>\n",
       "      <th>21</th>\n",
       "      <td>The Embarcadero at Sansome St to Steuart St at...</td>\n",
       "      <td>285</td>\n",
       "      <td>98924</td>\n",
       "    </tr>\n",
       "    <tr>\n",
       "      <th>3</th>\n",
       "      <td>19th Street BART Station to Grand Ave at Perki...</td>\n",
       "      <td>284</td>\n",
       "      <td>118350</td>\n",
       "    </tr>\n",
       "    <tr>\n",
       "      <th>4</th>\n",
       "      <td>Townsend St at 7th St to San Francisco Caltrai...</td>\n",
       "      <td>272</td>\n",
       "      <td>31184</td>\n",
       "    </tr>\n",
       "    <tr>\n",
       "      <th>15</th>\n",
       "      <td>Market St at 10th St to Montgomery St BART Sta...</td>\n",
       "      <td>272</td>\n",
       "      <td>107362</td>\n",
       "    </tr>\n",
       "    <tr>\n",
       "      <th>22</th>\n",
       "      <td>San Fernando St at 7th St to 5th St at Virgini...</td>\n",
       "      <td>249</td>\n",
       "      <td>108131</td>\n",
       "    </tr>\n",
       "    <tr>\n",
       "      <th>1</th>\n",
       "      <td>Market St at 10th St to Powell St BART Station...</td>\n",
       "      <td>247</td>\n",
       "      <td>69256</td>\n",
       "    </tr>\n",
       "    <tr>\n",
       "      <th>74</th>\n",
       "      <td>5th St at Virginia St to San Fernando St at 7t...</td>\n",
       "      <td>242</td>\n",
       "      <td>91173</td>\n",
       "    </tr>\n",
       "  </tbody>\n",
       "</table>\n",
       "</div>"
      ],
      "text/plain": [
       "                                                route  total  total_sec\n",
       "6   Berry St at 4th St to San Francisco Ferry Buil...    337     158804\n",
       "5   San Francisco Ferry Building (Harry Bridges Pl...    314     213604\n",
       "7   Grand Ave at Perkins St to 19th Street BART St...    310      71721\n",
       "21  The Embarcadero at Sansome St to Steuart St at...    285      98924\n",
       "3   19th Street BART Station to Grand Ave at Perki...    284     118350\n",
       "4   Townsend St at 7th St to San Francisco Caltrai...    272      31184\n",
       "15  Market St at 10th St to Montgomery St BART Sta...    272     107362\n",
       "22  San Fernando St at 7th St to 5th St at Virgini...    249     108131\n",
       "1   Market St at 10th St to Powell St BART Station...    247      69256\n",
       "74  5th St at Virginia St to San Fernando St at 7t...    242      91173"
      ]
     },
     "execution_count": 155,
     "metadata": {},
     "output_type": "execute_result"
    }
   ],
   "source": [
    "top_ten = routes_df.sort_values('total', ascending=False)[:10]\n",
    "top_ten"
   ]
  },
  {
   "cell_type": "code",
   "execution_count": 156,
   "id": "475f591b-058e-4b51-95cd-25ded9850f21",
   "metadata": {},
   "outputs": [],
   "source": [
    "SMALL_SIZE = 16\n",
    "MEDIUM_SIZE = 18\n",
    "BIGGER_SIZE = 22\n",
    "\n",
    "def set_font(ss=SMALL_SIZE, ms=MEDIUM_SIZE, bs=BIGGER_SIZE):\n",
    "    plt.rc('font', size=ss)          # controls default text sizes\n",
    "    plt.rc('axes', titlesize=ss)     # fontsize of the axes title\n",
    "    plt.rc('axes', labelsize=ms)    # fontsize of the x and y labels\n",
    "    plt.rc('xtick', labelsize=ss)    # fontsize of the tick labels\n",
    "    plt.rc('ytick', labelsize=ss)    # fontsize of the tick labels\n",
    "    plt.rc('legend', fontsize=ss)    # legend fontsize\n",
    "    plt.rc('figure', titlesize=bs)  # fontsize of the figure title"
   ]
  },
  {
   "cell_type": "code",
   "execution_count": 157,
   "id": "36c2ce99-3458-479d-93a9-de2f2252ff39",
   "metadata": {},
   "outputs": [
    {
     "data": {
      "image/png": "[encoded data removed]",
      "text/plain": [
       "<Figure size 432x288 with 1 Axes>"
      ]
     },
     "metadata": {
      "needs_background": "light"
     },
     "output_type": "display_data"
    }
   ],
   "source": [
    "sb.barplot(data=top_ten, y='route', x='total', color=sb.color_palette()[0], ci=60)\n",
    "set_font(ss=8, ms=10, bs=10)"
   ]
  },
  {
   "cell_type": "markdown",
   "id": "395a6eb0-3e64-446f-9e2b-3c7da1e537d0",
   "metadata": {},
   "source": [
    "_Berry St at 4th St to San Francisco Ferry Building (Harry Bridges Plaza) is the busiest route with 337. This goes on to show that station where most street is started from routes to diverse end location. Although this in turn didn't make it the first on the route mostly travelled, but it still made it to the top 10 appearing in 7th & 9th position_"
   ]
  },
  {
   "cell_type": "markdown",
   "id": "2eb24911-016f-4ecd-a85c-41e7514f20d4",
   "metadata": {},
   "source": [
    "_does being the busiest correlates with the total duration spent on a trip ?_ "
   ]
  },
  {
   "cell_type": "code",
   "execution_count": 158,
   "id": "b3ac3229-2947-45de-b8ac-186458c0c4c5",
   "metadata": {},
   "outputs": [
    {
     "data": {
      "image/png": "[encoded data removed]",
      "text/plain": [
       "<Figure size 1800x576 with 2 Axes>"
      ]
     },
     "metadata": {
      "needs_background": "light"
     },
     "output_type": "display_data"
    }
   ],
   "source": [
    "plt.figure(figsize=[25, 8])\n",
    "\n",
    "plt.subplot(1, 2, 1)\n",
    "sb.scatterplot(x=routes_df.total_sec, y=routes_df.total)\n",
    "plt.title('Does increase of trip in a route increase total duration for same route ?')\n",
    "plt.ylabel('Total Trip')\n",
    "plt.xlabel('Duration (seconds)')\n",
    "set_font()\n",
    "\n",
    "plt.subplot(1, 2, 2)\n",
    "sb.scatterplot(x=routes_df.total_sec, y=routes_df.total)\n",
    "plt.title('Does increase of trip in a route increase total duration for same route ? (Log Scale)')\n",
    "plt.xscale('log')\n",
    "ticks = [100, 300, 1000, 3000, 10000, 30000, 100000, 300000]\n",
    "plt.xticks(ticks, ticks)\n",
    "plt.xlim(80, 100000)\n",
    "plt.ylabel('Total Trip')\n",
    "plt.xlabel('Duration (seconds)')\n",
    "set_font()"
   ]
  },
  {
   "cell_type": "markdown",
   "id": "cb94dd1c-0871-4d67-825f-90c207061be8",
   "metadata": {},
   "source": [
    "_the more duration spent on a trip has a steep measure on the total number of trip done for a given trip route. That is to say, majority of the trip takes lesser duration to complete and an aggregate of them doesn't amount much on the duration_"
   ]
  },
  {
   "cell_type": "markdown",
   "id": "4b7bddb4-3dfd-4384-beca-bf8d5810f48d",
   "metadata": {},
   "source": [
    "#### Some other curious questions"
   ]
  },
  {
   "cell_type": "markdown",
   "id": "e244288a-c768-41f7-860b-a66a9537740d",
   "metadata": {},
   "source": [
    "- _on which day is the most busiest route having it's busiest ride sharing ?_\n",
    "- _as a bike sharing system, how many trip has a single bike taken on ? has this resulted in a wear and tear that has made which in turn has led to greater duration time ?_"
   ]
  }
 ],
 "metadata": {
  "kernelspec": {
   "display_name": "Python 3 (ipykernel)",
   "language": "python",
   "name": "python3"
  },
  "language_info": {
   "codemirror_mode": {
    "name": "ipython",
    "version": 3
   },
   "file_extension": ".py",
   "mimetype": "text/x-python",
   "name": "python",
   "nbconvert_exporter": "python",
   "pygments_lexer": "ipython3",
   "version": "3.9.12"
  }
 },
 "nbformat": 4,
 "nbformat_minor": 5
}
